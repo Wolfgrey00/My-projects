{
  "nbformat": 4,
  "nbformat_minor": 0,
  "metadata": {
    "colab": {
      "provenance": [],
      "authorship_tag": "ABX9TyOY3jeUKOjX6UROCTPWcfT1",
      "include_colab_link": true
    },
    "kernelspec": {
      "name": "python3",
      "display_name": "Python 3"
    },
    "language_info": {
      "name": "python"
    }
  },
  "cells": [
    {
      "cell_type": "markdown",
      "metadata": {
        "id": "view-in-github",
        "colab_type": "text"
      },
      "source": [
        "<a href=\"https://colab.research.google.com/github/Wolfgrey00/My-projects/blob/main/Listas.ipynb\" target=\"_parent\"><img src=\"https://colab.research.google.com/assets/colab-badge.svg\" alt=\"Open In Colab\"/></a>"
      ]
    },
    {
      "cell_type": "code",
      "execution_count": null,
      "metadata": {
        "colab": {
          "base_uri": "https://localhost:8080/"
        },
        "id": "wwD1xdmCroTv",
        "outputId": "3d598ad8-3ad0-4cdb-d552-ad259ae062af"
      },
      "outputs": [
        {
          "output_type": "stream",
          "name": "stdout",
          "text": [
            "Remplaza el número de medio: 486\n",
            "Longitud de la lista: 4\n",
            "[1, 2, 486, 4]\n"
          ]
        }
      ],
      "source": [
        "hat_list = [1, 2, 3, 4, 5]  # Esta es una lista existente de números ocultos en el sombrero.\n",
        "\n",
        "hat_list[2] = int(input(\"Remplaza el número de medio: \"))\n",
        "del hat_list[4]\n",
        "print(\"Longitud de la lista:\", len(hat_list))\n",
        "print(hat_list)\n"
      ]
    },
    {
      "cell_type": "code",
      "source": [
        "# paso 1\n",
        "Beatles = []\n",
        "print(\"Paso 1:\", Beatles)\n",
        "\n",
        "# paso 2\n",
        "Beatles.append(\"John Lennon\")\n",
        "Beatles.append(\"Paul McCartney\")\n",
        "Beatles.append(\"George Harrison\")\n",
        "print(\"Paso 2:\", Beatles)\n",
        "\n",
        "# paso 3\n",
        "for i in range(2):\n",
        "    cantante = input(\"Ingresa los siguientes miembros de la banda: \")\n",
        "    Beatles.append(cantante)\n",
        "print(\"Paso 3:\", Beatles)\n",
        "\n",
        "# paso 4\n",
        "del Beatles[3:5]\n",
        "print(\"Paso 4:\", Beatles)\n",
        "\n",
        "# paso 5\n",
        "Beatles.insert(0,\"Ringo Starr\")\n",
        "print(\"Paso 5:\", Beatles)\n",
        "\n",
        "\n",
        "# probando la longitud de la lista\n",
        "print(\"Los Fav\", len(Beatles))\n",
        "\n"
      ],
      "metadata": {
        "colab": {
          "base_uri": "https://localhost:8080/"
        },
        "id": "xb3DDlWq14B0",
        "outputId": "39954fb5-c1e4-4345-ec11-a46f7b05dfc1"
      },
      "execution_count": null,
      "outputs": [
        {
          "output_type": "stream",
          "name": "stdout",
          "text": [
            "Paso 1: []\n",
            "Paso 2: ['John Lennon', 'Paul McCartney', 'George Harrison']\n",
            "Ingresa los siguientes miembros de la banda: Stu Suncliffe\n",
            "Ingresa los siguientes miembros de la banda: Pete Best\n",
            "Paso 3: ['John Lennon', 'Paul McCartney', 'George Harrison', 'Stu Suncliffe', 'Pete Best']\n",
            "Paso 4: ['John Lennon', 'Paul McCartney', 'George Harrison']\n",
            "Paso 5: ['Ringo Starr', 'John Lennon', 'Paul McCartney', 'George Harrison']\n",
            "Los Fav 4\n"
          ]
        }
      ]
    },
    {
      "cell_type": "code",
      "source": [
        "my_list = [8, 10, 6, 2, 4]  # lista a ordenar\n",
        "swapped = True  # Lo necesitamos verdadero (True) para ingresar al bucle while.\n",
        "\n",
        "while swapped:\n",
        "    swapped = False  # no hay intercambios hasta ahora\n",
        "    for i in range(len(my_list) - 1):\n",
        "        if my_list[i] > my_list[i + 1]:\n",
        "            swapped = True  # ¡ocurrió el intercambio!\n",
        "            my_list[i], my_list[i + 1] = my_list[i + 1], my_list[i]\n",
        "\n",
        "print(my_list)"
      ],
      "metadata": {
        "colab": {
          "base_uri": "https://localhost:8080/"
        },
        "id": "PTMhNXCtN5Co",
        "outputId": "be79daea-0991-40a2-bf5e-636d9f16521f"
      },
      "execution_count": null,
      "outputs": [
        {
          "output_type": "stream",
          "name": "stdout",
          "text": [
            "[2, 4, 6, 8, 10]\n"
          ]
        }
      ]
    },
    {
      "cell_type": "code",
      "source": [
        "my_list = []\n",
        "swapped = True\n",
        "num = int(input(\"¿Cuántos elementos deseas ordenar?: \"))\n",
        "\n",
        "for i in range(num):\n",
        "    val = float(input(\"Ingresa un elemento de la lista: \"))\n",
        "    my_list.append(val)\n",
        "\n",
        "while swapped:\n",
        "    swapped = False\n",
        "    for i in range(len(my_list) - 1):\n",
        "        if my_list[i] > my_list[i + 1]:\n",
        "            swapped = True\n",
        "            my_list[i], my_list[i + 1] = my_list[i + 1], my_list[i]\n",
        "\n",
        "print(\"\\nOrdenada:\")\n",
        "print(my_list)"
      ],
      "metadata": {
        "colab": {
          "base_uri": "https://localhost:8080/"
        },
        "id": "tiWR3NQQOOrt",
        "outputId": "61631995-1125-413d-f3a3-4b079d14b969"
      },
      "execution_count": null,
      "outputs": [
        {
          "output_type": "stream",
          "name": "stdout",
          "text": [
            "¿Cuántos elementos deseas ordenar?: 5\n",
            "Ingresa un elemento de la lista: 2\n",
            "Ingresa un elemento de la lista: 4\n",
            "Ingresa un elemento de la lista: 6\n",
            "Ingresa un elemento de la lista: 8\n",
            "Ingresa un elemento de la lista: 10\n",
            "\n",
            "Ordenada:\n",
            "[2.0, 4.0, 6.0, 8.0, 10.0]\n"
          ]
        }
      ]
    },
    {
      "cell_type": "code",
      "source": [
        "my_list = [8, 10, 6, 2, 4]\n",
        "my_list.sort()\n",
        "print(my_list)"
      ],
      "metadata": {
        "colab": {
          "base_uri": "https://localhost:8080/"
        },
        "id": "ctf2DxAkOc1V",
        "outputId": "ae0a3cb8-5841-414f-dd2a-37c668f25c61"
      },
      "execution_count": null,
      "outputs": [
        {
          "output_type": "stream",
          "name": "stdout",
          "text": [
            "[2, 4, 6, 8, 10]\n"
          ]
        }
      ]
    },
    {
      "cell_type": "code",
      "source": [
        "my_list = [10, 8, 6, 4, 2]\n",
        "new_list = my_list[:3]\n",
        "print(new_list)\n",
        "my_list = [10, 8, 6, 4, 2]\n",
        "new_list = my_list[3:]\n",
        "print(new_list)"
      ],
      "metadata": {
        "colab": {
          "base_uri": "https://localhost:8080/"
        },
        "id": "FQ5IoLO8TOAj",
        "outputId": "307a608d-c8ce-4542-98f5-a139fb0b7477"
      },
      "execution_count": null,
      "outputs": [
        {
          "output_type": "stream",
          "name": "stdout",
          "text": [
            "[10, 8, 6]\n",
            "[4, 2]\n"
          ]
        }
      ]
    },
    {
      "cell_type": "code",
      "source": [
        "my_list = [17, 3, 11, 5, 1, 9, 7, 15, 13]\n",
        "largest = my_list[0]\n",
        "\n",
        "for i in range(1, len(my_list)):\n",
        "    if my_list[i] > largest:\n",
        "        largest = my_list[i]\n",
        "\n",
        "print(largest)\n"
      ],
      "metadata": {
        "colab": {
          "base_uri": "https://localhost:8080/"
        },
        "id": "blAng1KIWycf",
        "outputId": "d8f3656e-a3c1-4cdb-8a26-343b774cddc2"
      },
      "execution_count": null,
      "outputs": [
        {
          "output_type": "stream",
          "name": "stdout",
          "text": [
            "17\n"
          ]
        }
      ]
    },
    {
      "cell_type": "code",
      "source": [
        "my_list = [1, 2, 3, 4, 5, 6, 7, 8, 9, 10]\n",
        "to_find = 5\n",
        "found = False\n",
        "\n",
        "for i in range(len(my_list)):\n",
        "    found = my_list[i] == to_find\n",
        "    if found:\n",
        "        break\n",
        "\n",
        "if found:\n",
        "    print(\"Elemento encontrado en el índice\", i)\n",
        "else:\n",
        "    print(\"ausente\")\n",
        "\n",
        "drawn = [5, 11, 9, 42, 3, 49]\n",
        "bets = [3, 7, 11, 42, 34, 49]\n",
        "hits = 0\n",
        "\n",
        "for number in bets:\n",
        "    if number in drawn:\n",
        "        hits += 1\n",
        "\n",
        "print(hits)\n",
        "\n"
      ],
      "metadata": {
        "colab": {
          "base_uri": "https://localhost:8080/"
        },
        "id": "HQJa8rI7aNLi",
        "outputId": "d99a24ec-7f36-414d-90b8-1b789e19f9cf"
      },
      "execution_count": null,
      "outputs": [
        {
          "output_type": "stream",
          "name": "stdout",
          "text": [
            "Elemento encontrado en el índice 4\n",
            "4\n"
          ]
        }
      ]
    },
    {
      "cell_type": "code",
      "source": [
        "my_list = [1, 2, 4, 4, 1, 4, 2, 6, 2, 9]\n",
        "u_list = my_list[:]\n",
        "\n",
        "for i in my_list:\n",
        "    if i in u_list:\n",
        "        del my_list[i]\n",
        "    else:\n",
        "        u_list.append(i)\n",
        "my_list.sort()\n",
        "print(\"La lista con elementos únicos:\")\n",
        "print(my_list)"
      ],
      "metadata": {
        "colab": {
          "base_uri": "https://localhost:8080/"
        },
        "id": "IKWc9DVRaV3b",
        "outputId": "c0e7ac1a-b87a-47a5-b5c9-4df3f2371205"
      },
      "execution_count": null,
      "outputs": [
        {
          "output_type": "stream",
          "name": "stdout",
          "text": [
            "La lista con elementos únicos:\n",
            "[1, 2, 4, 6, 9]\n"
          ]
        }
      ]
    },
    {
      "cell_type": "code",
      "source": [
        "my_list = [1, 2, 4, 4, 1, 4, 2, 6, 2, 9]\n",
        "u_list = []\n",
        "\n",
        "for i in my_list:\n",
        "    if i not in u_list:\n",
        "        u_list.append(i)\n",
        "\n",
        "u_list.sort()\n",
        "print(\"La lista con elementos únicos:\")\n",
        "print(u_list)"
      ],
      "metadata": {
        "colab": {
          "base_uri": "https://localhost:8080/"
        },
        "id": "8BZcPVBOhfXz",
        "outputId": "5158ee55-9571-419c-8bce-bfec102f93ff"
      },
      "execution_count": null,
      "outputs": [
        {
          "output_type": "stream",
          "name": "stdout",
          "text": [
            "La lista con elementos únicos:\n",
            "[1, 2, 4, 6, 9]\n"
          ]
        }
      ]
    },
    {
      "cell_type": "code",
      "source": [
        "rooms = [[[False for r in range(20)] for f in range(15)] for t in range(3)]\n",
        "rooms[1][9][13] = True\n",
        "rooms[0][4][1] = False\n",
        "vacancy = 0\n",
        "\n",
        "for room_number in range(20):\n",
        "    if not rooms[2][14][room_number]:\n",
        "        vacancy += 1"
      ],
      "metadata": {
        "id": "Hwh3WvKJp0Qx"
      },
      "execution_count": null,
      "outputs": []
    }
  ]
}