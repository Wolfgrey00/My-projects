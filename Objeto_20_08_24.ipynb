{
  "nbformat": 4,
  "nbformat_minor": 0,
  "metadata": {
    "colab": {
      "provenance": [],
      "authorship_tag": "ABX9TyP2X34Hsn2n5ldY/HmDlQj/",
      "include_colab_link": true
    },
    "kernelspec": {
      "name": "python3",
      "display_name": "Python 3"
    },
    "language_info": {
      "name": "python"
    }
  },
  "cells": [
    {
      "cell_type": "markdown",
      "metadata": {
        "id": "view-in-github",
        "colab_type": "text"
      },
      "source": [
        "<a href=\"https://colab.research.google.com/github/Wolfgrey00/My-projects/blob/main/Objeto_20_08_24.ipynb\" target=\"_parent\"><img src=\"https://colab.research.google.com/assets/colab-badge.svg\" alt=\"Open In Colab\"/></a>"
      ]
    },
    {
      "cell_type": "code",
      "execution_count": null,
      "metadata": {
        "id": "CPuUpsZBtq2U"
      },
      "outputs": [],
      "source": [
        "class Producto:\n",
        "  def __init__ (self, id, nombre, existencias, costo_unitario):\n",
        "    if not isinstance(id, int):\n",
        "      raise TypeError(\"El id debe ser un entero\")\n",
        "    if not isinstance(nombre, str):\n",
        "      raise TypeError(\"El nombre debe ser una cadena de caracteres\")\n",
        "    if not isinstance(existencias, int):\n",
        "      raise TypeError(\"Las existencias deben ser un entero\")\n",
        "    if not isinstance(costo_unitario, (int,float)):\n",
        "      raise TypeError(\"El precio debe ser un número\")\n",
        "\n",
        "    self.id = id\n",
        "    self.nombre = nombre\n",
        "    self.existencias = existencias\n",
        "    self.costo_unitario = costo_unitario\n",
        "\n",
        "  def disminuir_existencias(self, cantidad):\n",
        "    if not isinstance(cantidad, int):\n",
        "      raise TypeError(\"La cantidad debe ser un entero\")\n",
        "    if cantidad <= 0:\n",
        "      raise ValueError(\"La cantidad no puede ser negativa\")\n",
        "    if cantidad <= self.existencias:\n",
        "      raise ValueError(\"No hay suficientes existencias\")\n",
        "      self.existencias -= cantidad\n",
        "    else:\n",
        "      raise ValueError(\"No hay suficientes existencias\")\n",
        "\n",
        "  def incrementar_existencias(self, cantidad):\n",
        "    if not isinstance(cantidad, int):\n",
        "      raise TypeError(\"La cantidad debe ser un entero\")\n",
        "    if cantidad <= 0:\n",
        "      raise ValueError(\"La cantidad no puede ser negativa\")\n",
        "    self.existencias += cantidad\n",
        "\n",
        "  def imprimir_detalle(self):\n",
        "    print(f\"ID: {self.id}\")\n",
        "    print(f\"Nombre: {self.nombre}\")\n",
        "    print(f\"Existencias: {self.existencias}\")\n",
        "    print(f\"Costo unitario: {self.costo_unitario}\")\n",
        "\n",
        "  def _str_ (self):\n",
        "    return f\"ID: {self.id}\\nNombre: {self.nombre}\\nExistencias: {self.existencias}\\n Costo unitario: {self.costo_unitario}\"\n",
        "\n",
        "  def getNombre (self):\n",
        "    return self.nombre\n",
        "\n",
        "  def getExistencias (self):\n",
        "    return self.existencias\n",
        "\n",
        "  def getCostoUnitario (self):\n",
        "    return self.costo_unitario\n",
        "\n",
        "  def getId (self):\n",
        "    return self.id\n",
        "\n",
        "  def setNombre (self, nombre):\n",
        "    if not isinstance(nombre, str):\n",
        "      raise TypeError(\"El nombre debe ser una cadena de caracteres\")\n",
        "    self.nombre = nombre\n",
        "\n",
        "  def setCostoUnitario (self, costo_unitario):\n",
        "    if not isinstance(costo_unitario, float):\n",
        "      raise TypeError(\"El precio debe ser un número\")\n",
        "    self.costo_unitario = costo_unitario\n",
        "\n",
        "  def total_producto(self):\n",
        "    return self.existencias * self.costo_unitario"
      ]
    },
    {
      "cell_type": "code",
      "source": [
        "Producto1 = Producto(1, \"Producto1\", 10, 100)"
      ],
      "metadata": {
        "collapsed": true,
        "id": "piX2655mBFu4"
      },
      "execution_count": null,
      "outputs": []
    },
    {
      "cell_type": "code",
      "source": [
        "print(Producto1)"
      ],
      "metadata": {
        "colab": {
          "base_uri": "https://localhost:8080/"
        },
        "id": "EVpfhVEGBVVD",
        "outputId": "990c0515-2492-4cf3-d47e-e746b67c9193"
      },
      "execution_count": null,
      "outputs": [
        {
          "output_type": "stream",
          "name": "stdout",
          "text": [
            "<__main__.Producto object at 0x7dd750128fd0>\n"
          ]
        }
      ]
    },
    {
      "cell_type": "code",
      "source": [
        "Producto1.total_producto()"
      ],
      "metadata": {
        "colab": {
          "base_uri": "https://localhost:8080/"
        },
        "id": "0KnlTOzfBzvz",
        "outputId": "3430500d-2a66-42dc-be51-a329509b6143"
      },
      "execution_count": null,
      "outputs": [
        {
          "output_type": "execute_result",
          "data": {
            "text/plain": [
              "1000"
            ]
          },
          "metadata": {},
          "execution_count": 35
        }
      ]
    },
    {
      "cell_type": "code",
      "source": [
        "Producto1.imprimir_detalle()"
      ],
      "metadata": {
        "colab": {
          "base_uri": "https://localhost:8080/"
        },
        "id": "6_aZVyFeB3V3",
        "outputId": "ac3ad28e-a2be-4877-f500-75e820f0ca1c"
      },
      "execution_count": null,
      "outputs": [
        {
          "output_type": "stream",
          "name": "stdout",
          "text": [
            "ID: 1\n",
            "Nombre: Producto1\n",
            "Existencias: 10\n",
            "Costo unitario: 100\n"
          ]
        }
      ]
    },
    {
      "cell_type": "code",
      "source": [
        "Producto1.incrementar_existencias(100)"
      ],
      "metadata": {
        "id": "ZRIMubAIB7CT"
      },
      "execution_count": null,
      "outputs": []
    },
    {
      "cell_type": "code",
      "source": [
        "Producto1.setNombre(\"Pantalones de Mezclilla\")"
      ],
      "metadata": {
        "id": "intQ09ZPB-BL"
      },
      "execution_count": null,
      "outputs": []
    }
  ]
}