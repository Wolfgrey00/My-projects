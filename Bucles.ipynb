{
  "nbformat": 4,
  "nbformat_minor": 0,
  "metadata": {
    "colab": {
      "provenance": [],
      "authorship_tag": "ABX9TyNZj3ZXNA979y8TKljmxoaZ",
      "include_colab_link": true
    },
    "kernelspec": {
      "name": "python3",
      "display_name": "Python 3"
    },
    "language_info": {
      "name": "python"
    }
  },
  "cells": [
    {
      "cell_type": "markdown",
      "metadata": {
        "id": "view-in-github",
        "colab_type": "text"
      },
      "source": [
        "<a href=\"https://colab.research.google.com/github/Wolfgrey00/My-projects/blob/main/Bucles.ipynb\" target=\"_parent\"><img src=\"https://colab.research.google.com/assets/colab-badge.svg\" alt=\"Open In Colab\"/></a>"
      ]
    },
    {
      "cell_type": "code",
      "execution_count": null,
      "metadata": {
        "colab": {
          "base_uri": "https://localhost:8080/"
        },
        "id": "wwFwjDIdZQJq",
        "outputId": "c29a7794-5864-4766-ca42-b7e1ebefc9ec"
      },
      "outputs": [
        {
          "output_type": "stream",
          "name": "stdout",
          "text": [
            "\n",
            "+==================================+\n",
            "| ¡Bienvenido a mi juego, muggle!  |\n",
            "| Introduce un número entero       |\n",
            "| y adivina qué número he          |\n",
            "| elegido para ti.                 |\n",
            "| Entonces,                        |\n",
            "| ¿Cuál es el número secreto?      |\n",
            "+==================================+\n",
            "\n",
            "777\n",
            "El número es:  777\n",
            "¡Bien hecho, muggle! Eres libre ahora\n"
          ]
        }
      ],
      "source": [
        "secret_number = 777\n",
        "\n",
        "print(\n",
        "\"\"\"\n",
        "+==================================+\n",
        "| ¡Bienvenido a mi juego, muggle!  |\n",
        "| Introduce un número entero       |\n",
        "| y adivina qué número he          |\n",
        "| elegido para ti.                 |\n",
        "| Entonces,                        |\n",
        "| ¿Cuál es el número secreto?      |\n",
        "+==================================+\n",
        "\"\"\")\n",
        "number = int(input())\n",
        "while secret_number != number:\n",
        "    print(\"¡Ja, ja! ¡Estás atrapado en mi bucle!\")\n",
        "    number = int(input(\"Escoge otro número: \"))\n",
        "print(\"El número es: \", secret_number)\n",
        "print(\"¡Bien hecho, muggle! Eres libre ahora\")"
      ]
    },
    {
      "cell_type": "code",
      "source": [
        "for i in range(10):\n",
        "    print(\"El valor de i es actualmente\", i)"
      ],
      "metadata": {
        "colab": {
          "base_uri": "https://localhost:8080/"
        },
        "id": "7tiN7ivYdTGw",
        "outputId": "487dbd01-15c4-49b2-af12-97dc6a9eb1d0"
      },
      "execution_count": null,
      "outputs": [
        {
          "output_type": "stream",
          "name": "stdout",
          "text": [
            "El valor de i es actualmente 0\n",
            "El valor de i es actualmente 1\n",
            "El valor de i es actualmente 2\n",
            "El valor de i es actualmente 3\n",
            "El valor de i es actualmente 4\n",
            "El valor de i es actualmente 5\n",
            "El valor de i es actualmente 6\n",
            "El valor de i es actualmente 7\n",
            "El valor de i es actualmente 8\n",
            "El valor de i es actualmente 9\n"
          ]
        }
      ]
    },
    {
      "cell_type": "code",
      "source": [
        "for i in range(2, 8):\n",
        "    print(\"El valor de i es actualmente\", i)"
      ],
      "metadata": {
        "colab": {
          "base_uri": "https://localhost:8080/"
        },
        "id": "ad9MY86zdbLh",
        "outputId": "900a313a-b6c7-42b8-956e-84614d94c94b"
      },
      "execution_count": null,
      "outputs": [
        {
          "output_type": "stream",
          "name": "stdout",
          "text": [
            "El valor de i es actualmente 2\n",
            "El valor de i es actualmente 3\n",
            "El valor de i es actualmente 4\n",
            "El valor de i es actualmente 5\n",
            "El valor de i es actualmente 6\n",
            "El valor de i es actualmente 7\n"
          ]
        }
      ]
    },
    {
      "cell_type": "code",
      "source": [
        "import time\n",
        "\n",
        "for seconds in range(1,6):\n",
        "    print(seconds, \"Mississippi\")\n",
        "    time.sleep(1)\n",
        "\n",
        "print(\"¡Listos o no, ahí voy!\")\n"
      ],
      "metadata": {
        "colab": {
          "base_uri": "https://localhost:8080/"
        },
        "id": "-QAarV1ofZO3",
        "outputId": "32d8de05-e3c3-4194-8319-aea07204fc2f"
      },
      "execution_count": null,
      "outputs": [
        {
          "output_type": "stream",
          "name": "stdout",
          "text": [
            "1 Mississippi\n",
            "2 Mississippi\n",
            "3 Mississippi\n",
            "4 Mississippi\n",
            "5 Mississippi\n",
            "¡Listos o no, ahí voy!\n"
          ]
        }
      ]
    },
    {
      "cell_type": "code",
      "source": [
        "palabra = input(\"Ingresa una palabra: \")\n",
        "\n",
        "while palabra != \"chupacabra\":\n",
        "    if palabra == \"chupacabra\":\n",
        "        break\n",
        "    palabra = input(\"Ingresa una palabra: \")\n",
        "\n",
        "print(\"¡Has dejado el bucle con éxito\")"
      ],
      "metadata": {
        "colab": {
          "base_uri": "https://localhost:8080/"
        },
        "id": "HZMNxZ71ko51",
        "outputId": "5b19a1fa-35d8-4ca9-fcad-66c3e76e31c2"
      },
      "execution_count": null,
      "outputs": [
        {
          "output_type": "stream",
          "name": "stdout",
          "text": [
            "Ingresa una palabra: dfgdgds\n",
            "Ingresa una palabra: sdgsd\n",
            "Ingresa una palabra: fsfadvfdgfdhg\n",
            "Ingresa una palabra: chupacabra\n",
            "¡Has dejado el bucle con éxito\n"
          ]
        }
      ]
    },
    {
      "cell_type": "code",
      "source": [
        "user_word = input(\"Ingresa una palabra: \")\n",
        "user_word = user_word.upper()\n",
        "\n",
        "for letter in user_word:\n",
        "\n",
        "    if letter == 'A':\n",
        "        continue\n",
        "    elif letter == 'E':\n",
        "        continue\n",
        "    elif letter == 'I':\n",
        "        continue\n",
        "    elif letter == 'O':\n",
        "        continue\n",
        "    elif letter == 'U':\n",
        "        continue\n",
        "    else:\n",
        "        print(letter)"
      ],
      "metadata": {
        "colab": {
          "base_uri": "https://localhost:8080/"
        },
        "id": "jxKiJ8KYtVFA",
        "outputId": "da8d0fdc-3a3c-4973-cc40-7278026d2cc3"
      },
      "execution_count": null,
      "outputs": [
        {
          "output_type": "stream",
          "name": "stdout",
          "text": [
            "Ingresa una palabra: Gregory\n",
            "G\n",
            "R\n",
            "G\n",
            "R\n",
            "Y\n"
          ]
        }
      ]
    },
    {
      "cell_type": "code",
      "source": [
        "word_without_vowels = \"\"\n",
        "\n",
        "user_word = input(\"Ingrese una palabra: \")\n",
        "user_word = user_word.upper()\n",
        "\n",
        "\n",
        "for letter in user_word:\n",
        "    if letter == 'A':\n",
        "        continue\n",
        "    elif letter == 'E':\n",
        "        continue\n",
        "    elif letter == 'I':\n",
        "        continue\n",
        "    elif letter == 'O':\n",
        "        continue\n",
        "    elif letter == 'U':\n",
        "        continue\n",
        "    else:\n",
        "        word_without_vowels += letter\n",
        "\n",
        "print(word_without_vowels)"
      ],
      "metadata": {
        "colab": {
          "base_uri": "https://localhost:8080/"
        },
        "id": "W98RcfO0vPAj",
        "outputId": "b53e79b0-5f19-4f67-e4a0-976db851474e"
      },
      "execution_count": null,
      "outputs": [
        {
          "output_type": "stream",
          "name": "stdout",
          "text": [
            "Ingrese una palabra: Gregory\n",
            "GRGRY\n"
          ]
        }
      ]
    },
    {
      "cell_type": "code",
      "source": [
        "blocks = int(input(\"Ingresa el número de bloques: \"))\n",
        "height = 0\n",
        "while blocks-(height+1) >= 0:\n",
        "    height += 1\n",
        "    blocks -= height\n",
        "\n",
        "print(\"La altura de la pirámide:\", height)"
      ],
      "metadata": {
        "colab": {
          "base_uri": "https://localhost:8080/"
        },
        "id": "Ux3wkeurdXd7",
        "outputId": "f159ec46-9fcc-418c-ddc6-b4d22966c8bb"
      },
      "execution_count": null,
      "outputs": [
        {
          "output_type": "stream",
          "name": "stdout",
          "text": [
            "Ingresa el número de bloques: 2\n",
            "La altura de la pirámide: 1\n"
          ]
        }
      ]
    },
    {
      "cell_type": "code",
      "source": [
        "num = int(input(\"Ingrese un número: \"))\n",
        "pasos = 0\n",
        "while num != 1:\n",
        "    if num % 2 == 0:\n",
        "        num //= 2\n",
        "        print(num)\n",
        "        pasos += 1\n",
        "    else:\n",
        "        num *= 3\n",
        "        num += 1\n",
        "        print(num)\n",
        "        pasos += 1\n",
        "\n",
        "print(\"pasos = \", pasos)\n"
      ],
      "metadata": {
        "colab": {
          "base_uri": "https://localhost:8080/"
        },
        "id": "-ecVxBkDloNG",
        "outputId": "0ca43102-2e6e-4999-c5fd-34ee2a24ee2b"
      },
      "execution_count": null,
      "outputs": [
        {
          "output_type": "stream",
          "name": "stdout",
          "text": [
            "Ingrese un número: 1023\n",
            "3070\n",
            "1535\n",
            "4606\n",
            "2303\n",
            "6910\n",
            "3455\n",
            "10366\n",
            "5183\n",
            "15550\n",
            "7775\n",
            "23326\n",
            "11663\n",
            "34990\n",
            "17495\n",
            "52486\n",
            "26243\n",
            "78730\n",
            "39365\n",
            "118096\n",
            "59048\n",
            "29524\n",
            "14762\n",
            "7381\n",
            "22144\n",
            "11072\n",
            "5536\n",
            "2768\n",
            "1384\n",
            "692\n",
            "346\n",
            "173\n",
            "520\n",
            "260\n",
            "130\n",
            "65\n",
            "196\n",
            "98\n",
            "49\n",
            "148\n",
            "74\n",
            "37\n",
            "112\n",
            "56\n",
            "28\n",
            "14\n",
            "7\n",
            "22\n",
            "11\n",
            "34\n",
            "17\n",
            "52\n",
            "26\n",
            "13\n",
            "40\n",
            "20\n",
            "10\n",
            "5\n",
            "16\n",
            "8\n",
            "4\n",
            "2\n",
            "1\n",
            "pasos =  62\n"
          ]
        }
      ]
    },
    {
      "cell_type": "code",
      "source": [
        "for i in range(1,11):\n",
        "  if i % 2 != 0:\n",
        "    print(i)"
      ],
      "metadata": {
        "colab": {
          "base_uri": "https://localhost:8080/"
        },
        "id": "CZucYxOMmaV2",
        "outputId": "af524cce-2de5-459a-f533-095670a7b481"
      },
      "execution_count": null,
      "outputs": [
        {
          "output_type": "stream",
          "name": "stdout",
          "text": [
            "1\n",
            "3\n",
            "5\n",
            "7\n",
            "9\n"
          ]
        }
      ]
    },
    {
      "cell_type": "code",
      "source": [
        "x = 1\n",
        "while x < 11:\n",
        "  if x % 2 != 0:\n",
        "    print(x)\n",
        "  x += 1"
      ],
      "metadata": {
        "colab": {
          "base_uri": "https://localhost:8080/"
        },
        "id": "1lwCUz7Mm0qe",
        "outputId": "769e36a5-e552-4539-c9b2-2a9ebfe21438"
      },
      "execution_count": null,
      "outputs": [
        {
          "output_type": "stream",
          "name": "stdout",
          "text": [
            "1\n",
            "3\n",
            "5\n",
            "7\n",
            "9\n"
          ]
        }
      ]
    },
    {
      "cell_type": "code",
      "source": [
        "for ch in \"john.smith@pythoninstitute.org\":\n",
        "    if ch == \"@\":\n",
        "      break\n",
        "    print(ch, end=\"\")"
      ],
      "metadata": {
        "colab": {
          "base_uri": "https://localhost:8080/"
        },
        "id": "6QGmKiH_nN77",
        "outputId": "4d543e05-70a1-4ff3-a637-0bc33ecd6206"
      },
      "execution_count": null,
      "outputs": [
        {
          "output_type": "stream",
          "name": "stdout",
          "text": [
            "john.smith"
          ]
        }
      ]
    },
    {
      "cell_type": "code",
      "source": [
        "for digit in \"0165031806510\":\n",
        "    if digit == \"0\":\n",
        "      print(\"x\", end=\"\")\n",
        "      continue\n",
        "    print(digit, end=\"\")\n"
      ],
      "metadata": {
        "colab": {
          "base_uri": "https://localhost:8080/"
        },
        "id": "ZNuA6lzMnjIC",
        "outputId": "15426b6f-3ab8-4812-9525-4bf5079f3d84"
      },
      "execution_count": null,
      "outputs": [
        {
          "output_type": "stream",
          "name": "stdout",
          "text": [
            "x165x318x651x"
          ]
        }
      ]
    }
  ]
}