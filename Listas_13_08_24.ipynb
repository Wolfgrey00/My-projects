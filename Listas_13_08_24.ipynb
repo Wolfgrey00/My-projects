{
  "nbformat": 4,
  "nbformat_minor": 0,
  "metadata": {
    "colab": {
      "provenance": [],
      "authorship_tag": "ABX9TyNIiOVjVLGvyZFOmoY6wlAG",
      "include_colab_link": true
    },
    "kernelspec": {
      "name": "python3",
      "display_name": "Python 3"
    },
    "language_info": {
      "name": "python"
    }
  },
  "cells": [
    {
      "cell_type": "markdown",
      "metadata": {
        "id": "view-in-github",
        "colab_type": "text"
      },
      "source": [
        "<a href=\"https://colab.research.google.com/github/Wolfgrey00/My-projects/blob/main/Listas_13_08_24.ipynb\" target=\"_parent\"><img src=\"https://colab.research.google.com/assets/colab-badge.svg\" alt=\"Open In Colab\"/></a>"
      ]
    },
    {
      "cell_type": "code",
      "execution_count": null,
      "metadata": {
        "colab": {
          "base_uri": "https://localhost:8080/"
        },
        "id": "lTUjMC4movt1",
        "outputId": "93f7d2d3-2206-4c71-aa64-beffc10b31d7"
      },
      "outputs": [
        {
          "output_type": "stream",
          "name": "stdout",
          "text": [
            "Indica un texto: Programación Orientada a Objetos\n",
            "Texto Original: Programación Orientada a Objetos\n",
            "LEN (Contar Caracteres)->  32\n",
            "Mayusculas-> False\n",
            "Mayusculas-> PROGRAMACIÓN ORIENTADA A OBJETOS\n",
            "Minusculas-> False\n",
            "Minusculas-> programación orientada a objetos\n",
            "Capital-> Programación orientada a objetos\n",
            "Mayusculas todo el texto-> pROGRAMACIÓN oRIENTADA A oBJETOS\n",
            "Mayusculas el 1er caracter de cada palabra-> Programación Orientada A Objetos\n",
            "Texto Modificado Programación Orientada a Objetos \n",
            "  Hola\n",
            "Espacios-> False\n",
            "Espacios ->  True\n"
          ]
        }
      ],
      "source": [
        "texto = input(\"Indica un texto: \")\n",
        "print(\"Texto Original:\", texto)\n",
        "\n",
        "#Len - Contar\n",
        "print(\"LEN (Contar Caracteres)-> \", len(texto))\n",
        "\n",
        "#Mayusculas, Minusculas, Capital, Swapcase, Title\n",
        "print(\"Mayusculas->\", texto.isupper()) #Si es mayusculas V / F\n",
        "print(\"Mayusculas->\", texto.upper())\n",
        "print(\"Minusculas->\", texto.islower()) #Si es minusculas V / F\n",
        "print(\"Minusculas->\", texto.lower())\n",
        "print(\"Capital->\", texto.capitalize())\n",
        "print(\"Mayusculas todo el texto->\", texto.swapcase())\n",
        "print(\"Mayusculas el 1er caracter de cada palabra->\", texto.title())\n",
        "texto += \" \\n \" # \\n salto de línea\n",
        "texto += \" \"\n",
        "texto += \"Hola\"\n",
        "print(\"Texto Modificado\", texto)\n",
        "print(\"Espacios->\", texto.isspace())\n",
        "txt = \" \"\n",
        "x = txt.isspace()\n",
        "print(\"Espacios -> \", x)"
      ]
    },
    {
      "cell_type": "code",
      "source": [
        "def repetir_lista(lista):\n",
        "  indice = 0\n",
        "  while True:\n",
        "    try:\n",
        "      print(lista[indice])\n",
        "      indice += 1\n",
        "    except IndexError:\n",
        "      indice = 0  # Reinicia el índice al inicio de la lista\n",
        "# Ejemplo de uso\n",
        "mi_lista = [1, 2, 3,\"#\"]\n",
        "repetir_lista(mi_lista)"
      ],
      "metadata": {
        "id": "R17tXHzxsBiX"
      },
      "execution_count": null,
      "outputs": []
    },
    {
      "cell_type": "code",
      "source": [
        "multiline = '''Línea #1\n",
        "Linea #2\n",
        "Linea #3'''\n",
        "print(multiline)\n",
        "print(\"Total de caracteres en lineas multiples ->\",len(multiline))"
      ],
      "metadata": {
        "colab": {
          "base_uri": "https://localhost:8080/"
        },
        "id": "NwqHVs4msEpA",
        "outputId": "0941f862-61bc-4de7-a052-e4f33ba72761"
      },
      "execution_count": null,
      "outputs": [
        {
          "output_type": "stream",
          "name": "stdout",
          "text": [
            "Línea #1\n",
            "Linea #2\n",
            "Linea #3\n",
            "Total de caracteres en lineas multiples -> 26\n"
          ]
        }
      ]
    },
    {
      "cell_type": "code",
      "source": [
        "menu = '''1. Alta Cliente\n",
        "2. Baja Cliente\n",
        "3. Listar Clientes\n",
        "4. Modificar Cliente\n",
        "5. Salir'''\n",
        "print(menu)"
      ],
      "metadata": {
        "colab": {
          "base_uri": "https://localhost:8080/"
        },
        "id": "rnrIsDg0syxN",
        "outputId": "2d7dd08e-d85b-4a5d-f75e-419cd14b5c15"
      },
      "execution_count": null,
      "outputs": [
        {
          "output_type": "stream",
          "name": "stdout",
          "text": [
            "1. Alta Cliente\n",
            "2. Baja Cliente\n",
            "3. Listar Clientes\n",
            "4. Modificar Cliente\n",
            "5. Salir\n"
          ]
        }
      ]
    },
    {
      "cell_type": "code",
      "source": [
        "texto = input(\"Indica un caracter:\")\n",
        "print(\"Número del caracter->\",ord(texto)) #convierte de caracter a número\n",
        "num = int(ord(texto))\n",
        "print(\"El caracter del número->\",chr(num)) #convierte de npumero a caracter\n",
        "print(\"Es un número-> \", texto.isdigit()) #evalua se el texto es un digito, si solo es digito = TRUE, si tiene una caracter = False\n",
        "#print(\"Es un número -> \", num.isdigit()) # Cuando es un número marcar error, porque evalua sobre cadenas\n",
        "texto2 ='2023'\n",
        "print(\"Es un número -> \", texto2.isdigit())\n",
        "texto2 = 'Year2023'\n",
        "print(\"Es un número -> \", texto2.isdigit())\n",
        "texto2 = '2023Year'\n",
        "print(\"Es un número -> \", texto2.isdigit())"
      ],
      "metadata": {
        "id": "P38Uf_Wlv0-c",
        "colab": {
          "base_uri": "https://localhost:8080/"
        },
        "outputId": "942311f7-2fcb-498b-a064-17744e26528c"
      },
      "execution_count": null,
      "outputs": [
        {
          "output_type": "stream",
          "name": "stdout",
          "text": [
            "Indica un caracter:H\n",
            "Número del caracter-> 72\n",
            "El caracter del número-> H\n",
            "Es un número->  False\n",
            "Es un número ->  True\n",
            "Es un número ->  False\n",
            "Es un número ->  False\n"
          ]
        }
      ]
    },
    {
      "cell_type": "code",
      "source": [
        "# 65 a 90 Alfabeto en Mayuscula\n",
        "num = int(input(\"Introduce un dígito entre el 65 y el 90:\"))\n",
        "print(\"El caracter quye es el resultado del digito dado es: \" + chr(num))\n",
        "\n",
        "if num >= 65 and num <= 90:\n",
        "  print(\"El caracter que es resultado es parte del alfabeto: \" + chr(num))\n",
        "else:\n",
        "  print(\"El caracter esta fuera del alfabeto\")"
      ],
      "metadata": {
        "colab": {
          "base_uri": "https://localhost:8080/"
        },
        "id": "pLSDxEQR2Hsk",
        "outputId": "3e627ed0-60e7-4c4c-c929-8698b62c04e5"
      },
      "execution_count": null,
      "outputs": [
        {
          "output_type": "stream",
          "name": "stdout",
          "text": [
            "Introduce un dígito entre el 65 y el 90:87\n",
            "El caracter quye es el resultado del digito dado es: W\n",
            "El caracter que es resultado es parte del alfabeto: W\n"
          ]
        }
      ]
    },
    {
      "cell_type": "code",
      "source": [
        "texto = input(\"Indica un texto:\")\n",
        "print(texto[:])\n",
        "print(texto[2:])\n",
        "print(texto[:2])\n",
        "print(texto[:-2])\n",
        "print(texto[-2:])\n",
        "print(texto[1:3])"
      ],
      "metadata": {
        "colab": {
          "base_uri": "https://localhost:8080/"
        },
        "id": "AwuIIg1l4j6Q",
        "outputId": "88eb19b0-778e-4f6d-c563-e11863627b84"
      },
      "execution_count": null,
      "outputs": [
        {
          "output_type": "stream",
          "name": "stdout",
          "text": [
            "Indica un texto:André\n",
            "André\n",
            "dré\n",
            "An\n",
            "And\n",
            "ré\n",
            "nd\n"
          ]
        }
      ]
    },
    {
      "cell_type": "code",
      "source": [
        "alphabet = \"abcdefghijklmnopqrstuvwxyz\"\n",
        "print(\"f\" in alphabet)\n",
        "print(\"F\" in alphabet)\n",
        "print(\"1\" in alphabet)\n",
        "print(\"ghi\" in alphabet)\n",
        "print(\"Xyz\" in alphabet)\n",
        "print(\"xyz\" in alphabet)\n",
        "print(min(alphabet))\n",
        "print(max(alphabet))\n",
        "print(alphabet.index(\"e\"))\n",
        "print(alphabet.count(\"e\"))\n",
        "print(alphabet.endswith(\"yza\"))\n",
        "print(alphabet.startswith(\"abc\"))\n",
        "print(alphabet.find(\"xy\"))\n",
        "print(alphabet.replace(\"wxy\", \"**\"))"
      ],
      "metadata": {
        "colab": {
          "base_uri": "https://localhost:8080/"
        },
        "id": "C-u92VPC47kb",
        "outputId": "c173fcca-d7ac-4058-cca9-8fa4209fa788"
      },
      "execution_count": null,
      "outputs": [
        {
          "output_type": "stream",
          "name": "stdout",
          "text": [
            "True\n",
            "False\n",
            "False\n",
            "True\n",
            "False\n",
            "True\n",
            "a\n",
            "z\n",
            "4\n",
            "1\n",
            "False\n",
            "True\n",
            "23\n",
            "abcdefghijklmnopqrstuv**z\n"
          ]
        }
      ]
    }
  ]
}