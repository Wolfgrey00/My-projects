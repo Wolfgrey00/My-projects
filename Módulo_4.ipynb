{
  "nbformat": 4,
  "nbformat_minor": 0,
  "metadata": {
    "colab": {
      "provenance": [],
      "authorship_tag": "ABX9TyOzTWS0W9nL4bY0XYd1Zbyz",
      "include_colab_link": true
    },
    "kernelspec": {
      "name": "python3",
      "display_name": "Python 3"
    },
    "language_info": {
      "name": "python"
    }
  },
  "cells": [
    {
      "cell_type": "markdown",
      "metadata": {
        "id": "view-in-github",
        "colab_type": "text"
      },
      "source": [
        "<a href=\"https://colab.research.google.com/github/Wolfgrey00/My-projects/blob/main/M%C3%B3dulo_4.ipynb\" target=\"_parent\"><img src=\"https://colab.research.google.com/assets/colab-badge.svg\" alt=\"Open In Colab\"/></a>"
      ]
    },
    {
      "cell_type": "markdown",
      "source": [
        "# Anotaciones"
      ],
      "metadata": {
        "id": "OdWGhVycsEe5"
      }
    },
    {
      "cell_type": "markdown",
      "source": [
        "Generadores y cierres"
      ],
      "metadata": {
        "id": "GfEH73pGsKGH"
      }
    },
    {
      "cell_type": "code",
      "execution_count": 122,
      "metadata": {
        "colab": {
          "base_uri": "https://localhost:8080/"
        },
        "id": "xOfkgQAFr_9J",
        "outputId": "fa9b59e0-0983-449e-c242-b98b2597d70c"
      },
      "outputs": [
        {
          "output_type": "stream",
          "name": "stdout",
          "text": [
            "__init__\n",
            "__iter__\n",
            "__next__\n",
            "1\n",
            "__next__\n",
            "1\n",
            "__next__\n",
            "2\n",
            "__next__\n",
            "3\n",
            "__next__\n",
            "5\n",
            "__next__\n",
            "8\n",
            "__next__\n",
            "13\n",
            "__next__\n",
            "21\n",
            "__next__\n",
            "34\n",
            "__next__\n",
            "55\n",
            "__next__\n"
          ]
        }
      ],
      "source": [
        "class Fib:\n",
        "    def __init__(self, nn):\n",
        "        print(\"__init__\")\n",
        "        self.__n = nn\n",
        "        self.__i = 0\n",
        "        self.__p1 = self.__p2 = 1\n",
        "\n",
        "    def __iter__(self):\n",
        "        print(\"__iter__\")\n",
        "        return self\n",
        "\n",
        "    def __next__(self):\n",
        "        print(\"__next__\")\n",
        "        self.__i += 1\n",
        "        if self.__i > self.__n:\n",
        "            raise StopIteration\n",
        "        if self.__i in [1, 2]:\n",
        "            return 1\n",
        "        ret = self.__p1 + self.__p2\n",
        "        self.__p1, self.__p2 = self.__p2, ret\n",
        "        return ret\n",
        "\n",
        "\n",
        "for i in Fib(10):\n",
        "    print(i)\n"
      ]
    },
    {
      "cell_type": "code",
      "source": [
        "class Fib:\n",
        "    def __init__(self, nn):\n",
        "        self.__n = nn\n",
        "        self.__i = 0\n",
        "        self.__p1 = self.__p2 = 1\n",
        "\n",
        "    def __iter__(self):\n",
        "        print(\"Fib iter\")\n",
        "        return self\n",
        "\n",
        "    def __next__(self):\n",
        "        self.__i += 1\n",
        "        if self.__i > self.__n:\n",
        "            raise StopIteration\n",
        "        if self.__i in [1, 2]:\n",
        "            return 1\n",
        "        ret = self.__p1 + self.__p2\n",
        "        self.__p1, self.__p2 = self.__p2, ret\n",
        "        return ret\n",
        "\n",
        "\n",
        "class Class:\n",
        "    def __init__(self, n):\n",
        "        self.__iter = Fib(n)\n",
        "\n",
        "    def __iter__(self):\n",
        "        print(\"Class iter\")\n",
        "        return self.__iter\n",
        "\n",
        "\n",
        "object = Class(8)\n",
        "\n",
        "for i in object:\n",
        "    print(i)\n"
      ],
      "metadata": {
        "colab": {
          "base_uri": "https://localhost:8080/"
        },
        "id": "gM12AecOtPuL",
        "outputId": "7f9fe071-d0da-4bf9-ee00-9230e42b6c21"
      },
      "execution_count": null,
      "outputs": [
        {
          "output_type": "stream",
          "name": "stdout",
          "text": [
            "Class iter\n",
            "1\n",
            "1\n",
            "2\n",
            "3\n",
            "5\n",
            "8\n",
            "13\n",
            "21\n"
          ]
        }
      ]
    },
    {
      "cell_type": "code",
      "source": [
        "#Función yield\n",
        "def fun(n):\n",
        "    for i in range(n):\n",
        "        yield i\n",
        "\n",
        "\n",
        "for v in fun(5):\n",
        "    print(v)\n",
        "\n"
      ],
      "metadata": {
        "id": "sNGUKIzVvADb",
        "colab": {
          "base_uri": "https://localhost:8080/"
        },
        "outputId": "b954979f-6c28-438a-8eea-4781880241e0"
      },
      "execution_count": null,
      "outputs": [
        {
          "output_type": "stream",
          "name": "stdout",
          "text": [
            "0\n",
            "1\n",
            "2\n",
            "3\n",
            "4\n"
          ]
        }
      ]
    },
    {
      "cell_type": "code",
      "source": [
        "list_1 = []\n",
        "\n",
        "for ex in range(6):\n",
        "    list_1.append(10 ** ex)\n",
        "\n",
        "list_2 = [10 ** ex for ex in range(6)]\n",
        "\n",
        "print(list_1)\n",
        "print(list_2)\n"
      ],
      "metadata": {
        "colab": {
          "base_uri": "https://localhost:8080/"
        },
        "id": "uHqNuydT0_lG",
        "outputId": "3c850bfb-bf8a-47aa-a169-6b4480019322"
      },
      "execution_count": null,
      "outputs": [
        {
          "output_type": "stream",
          "name": "stdout",
          "text": [
            "[1, 10, 100, 1000, 10000, 100000]\n",
            "[1, 10, 100, 1000, 10000, 100000]\n"
          ]
        }
      ]
    },
    {
      "cell_type": "code",
      "source": [
        "the_list = []\n",
        "\n",
        "for x in range(10):\n",
        "    the_list.append(1 if x % 2 == 0 else 0)\n",
        "\n",
        "print(the_list)\n"
      ],
      "metadata": {
        "colab": {
          "base_uri": "https://localhost:8080/"
        },
        "id": "A3YnlpTX2D3m",
        "outputId": "e8faa0d4-d750-4a8b-ba45-5c0b29f095f3"
      },
      "execution_count": null,
      "outputs": [
        {
          "output_type": "stream",
          "name": "stdout",
          "text": [
            "[1, 0, 1, 0, 1, 0, 1, 0, 1, 0]\n"
          ]
        }
      ]
    },
    {
      "cell_type": "code",
      "source": [
        "the_list = [1 if x % 2 == 0 else 0 for x in range(10)]\n",
        "\n",
        "print(the_list)\n"
      ],
      "metadata": {
        "colab": {
          "base_uri": "https://localhost:8080/"
        },
        "id": "dMfA4LIk3J_j",
        "outputId": "1a291714-3065-4538-e162-b5403f7a61e0"
      },
      "execution_count": null,
      "outputs": [
        {
          "output_type": "stream",
          "name": "stdout",
          "text": [
            "[1, 0, 1, 0, 1, 0, 1, 0, 1, 0]\n"
          ]
        }
      ]
    },
    {
      "cell_type": "code",
      "source": [
        "the_list = [1 if x % 2 == 0 else 0 for x in range(10)]\n",
        "the_generator = (1 if x % 2 == 0 else 0 for x in range(10))\n",
        "\n",
        "for v in the_list:\n",
        "    print(v, end=\" \")\n",
        "print()\n",
        "\n",
        "for v in the_generator:\n",
        "    print(v, end=\" \")\n",
        "print()\n",
        "\n"
      ],
      "metadata": {
        "colab": {
          "base_uri": "https://localhost:8080/"
        },
        "id": "VTtDSQ583Lqh",
        "outputId": "cda4d23e-60ab-462d-a11d-d852d1241e9c"
      },
      "execution_count": null,
      "outputs": [
        {
          "output_type": "stream",
          "name": "stdout",
          "text": [
            "1 0 1 0 1 0 1 0 1 0 \n",
            "1 0 1 0 1 0 1 0 1 0 \n"
          ]
        }
      ]
    },
    {
      "cell_type": "code",
      "source": [
        "for v in [1 if x % 2 == 0 else 0 for x in range(10)]:\n",
        "    print(v, end=\" \")\n",
        "print()\n",
        "\n",
        "for v in (1 if x % 2 == 0 else 0 for x in range(10)):\n",
        "    print(v, end=\" \")\n",
        "print()\n",
        "\n"
      ],
      "metadata": {
        "colab": {
          "base_uri": "https://localhost:8080/"
        },
        "id": "bXE6vMy93Of7",
        "outputId": "6d621386-c39b-417e-f2ed-16ed5de5fade"
      },
      "execution_count": null,
      "outputs": [
        {
          "output_type": "stream",
          "name": "stdout",
          "text": [
            "1 0 1 0 1 0 1 0 1 0 \n",
            "1 0 1 0 1 0 1 0 1 0 \n"
          ]
        }
      ]
    },
    {
      "cell_type": "code",
      "source": [
        "two = lambda: 2\n",
        "sqr = lambda x: x * x\n",
        "pwr = lambda x, y: x ** y\n",
        "\n",
        "for a in range(-2, 3):\n",
        "    print(sqr(a), end=\" \")\n",
        "    print(pwr(a, two()))\n",
        "\n"
      ],
      "metadata": {
        "colab": {
          "base_uri": "https://localhost:8080/"
        },
        "id": "Z2-3EQ3r4-wh",
        "outputId": "9083c8c2-d571-44e0-a1aa-b27c9d788d2f"
      },
      "execution_count": null,
      "outputs": [
        {
          "output_type": "stream",
          "name": "stdout",
          "text": [
            "4 4\n",
            "1 1\n",
            "0 0\n",
            "1 1\n",
            "4 4\n"
          ]
        }
      ]
    },
    {
      "cell_type": "code",
      "source": [
        "#Sin Lambda\n",
        "def print_function(args, fun):\n",
        "    for x in args:\n",
        "        print('f(', x,')=', fun(x), sep='')\n",
        "\n",
        "\n",
        "def poly(x):\n",
        "    return 2 * x**2 - 4 * x + 2\n",
        "\n",
        "\n",
        "print_function([x for x in range(-2, 3)], poly)\n"
      ],
      "metadata": {
        "colab": {
          "base_uri": "https://localhost:8080/"
        },
        "id": "vJrQrTTv6rNh",
        "outputId": "a9a59a88-09fe-4f92-ca6f-5da236f2b646"
      },
      "execution_count": null,
      "outputs": [
        {
          "output_type": "stream",
          "name": "stdout",
          "text": [
            "f(-2)=18\n",
            "f(-1)=8\n",
            "f(0)=2\n",
            "f(1)=0\n",
            "f(2)=2\n"
          ]
        }
      ]
    },
    {
      "cell_type": "code",
      "source": [
        "#Con Lambda\n",
        "def print_function(args, fun):\n",
        "    for x in args:\n",
        "        print('f(', x,')=', fun(x), sep='')\n",
        "\n",
        "print_function([x for x in range(-2, 3)], lambda x: 2 * x**2 - 4 * x + 2)\n",
        "\n"
      ],
      "metadata": {
        "colab": {
          "base_uri": "https://localhost:8080/"
        },
        "id": "ANCY2XTU6sr4",
        "outputId": "0cebf40a-6b62-46c1-c246-1a6174622ddc"
      },
      "execution_count": null,
      "outputs": [
        {
          "output_type": "stream",
          "name": "stdout",
          "text": [
            "f(-2)=18\n",
            "f(-1)=8\n",
            "f(0)=2\n",
            "f(1)=0\n",
            "f(2)=2\n"
          ]
        }
      ]
    },
    {
      "cell_type": "code",
      "source": [
        "list_1 = [x for x in range(5)]\n",
        "list_2 = list(map(lambda x: 2 ** x, list_1))\n",
        "print(list_2)\n",
        "\n",
        "for x in map(lambda x: x * x, list_2):\n",
        "    print(x, end=' ')\n",
        "print()\n"
      ],
      "metadata": {
        "colab": {
          "base_uri": "https://localhost:8080/"
        },
        "id": "4RANxL-j-SZZ",
        "outputId": "ba4995d1-caa5-431d-cb41-fd9cf54668c6"
      },
      "execution_count": null,
      "outputs": [
        {
          "output_type": "stream",
          "name": "stdout",
          "text": [
            "[1, 2, 4, 8, 16]\n",
            "1 4 16 64 256 \n"
          ]
        }
      ]
    },
    {
      "cell_type": "code",
      "source": [
        "from random import seed, randint\n",
        "\n",
        "seed()\n",
        "data = [randint(-10,10) for x in range(5)]\n",
        "filtered = list(filter(lambda x: x > 0 and x % 2 == 0, data))\n",
        "\n",
        "print(data)\n",
        "print(filtered)\n"
      ],
      "metadata": {
        "id": "Pa1rp2plAJmV",
        "outputId": "a8f164af-b049-4342-c874-dc56279c356d",
        "colab": {
          "base_uri": "https://localhost:8080/"
        }
      },
      "execution_count": null,
      "outputs": [
        {
          "output_type": "stream",
          "name": "stdout",
          "text": [
            "[8, -1, 6, -7, 9]\n",
            "[8, 6]\n"
          ]
        }
      ]
    },
    {
      "cell_type": "code",
      "source": [
        "def outer(par):\n",
        "    loc = par\n",
        "\n",
        "    def inner():\n",
        "        return loc\n",
        "    return inner\n",
        "\n",
        "\n",
        "var = 1\n",
        "fun = outer(var)\n",
        "print(fun())\n"
      ],
      "metadata": {
        "colab": {
          "base_uri": "https://localhost:8080/"
        },
        "id": "KNOhWKtcHOpV",
        "outputId": "9e7d95d8-5c25-4610-e084-8ef7bf8bebdb"
      },
      "execution_count": 1,
      "outputs": [
        {
          "output_type": "stream",
          "name": "stdout",
          "text": [
            "1\n"
          ]
        }
      ]
    },
    {
      "cell_type": "code",
      "source": [
        "def make_closure(par):\n",
        "    loc = par\n",
        "\n",
        "    def power(p):\n",
        "        return p ** loc\n",
        "    return power\n",
        "\n",
        "\n",
        "fsqr = make_closure(2)\n",
        "fcub = make_closure(3)\n",
        "\n",
        "for i in range(5):\n",
        "    print(i, fsqr(i), fcub(i))\n"
      ],
      "metadata": {
        "colab": {
          "base_uri": "https://localhost:8080/"
        },
        "id": "Jt75s1HXI-4H",
        "outputId": "514f185f-84fe-492b-99a7-17641f4f54f7"
      },
      "execution_count": 5,
      "outputs": [
        {
          "output_type": "stream",
          "name": "stdout",
          "text": [
            "0 0 0\n",
            "1 1 1\n",
            "2 4 8\n",
            "3 9 27\n",
            "4 16 64\n"
          ]
        }
      ]
    },
    {
      "cell_type": "code",
      "source": [
        "from os import strerror\n",
        "\n",
        "try:\n",
        "    s = open(\"c:/users/user/Desktop/file.txt\", \"rt\")\n",
        "    # El procesamiento va aquí.\n",
        "    s.close()\n",
        "except Exception as exc:\n",
        "    print(\"El archivo no pudo ser abierto:\", strerror(exc.errno))\n",
        "\n"
      ],
      "metadata": {
        "id": "927sSVbwWBeR"
      },
      "execution_count": null,
      "outputs": []
    },
    {
      "cell_type": "code",
      "source": [
        "# Se abre el archivo tzop.txt en modo lectura, devolviéndolo como un objeto del tipo archivo:\n",
        "stream = open(\"tzop.txt\", \"rt\", encoding = \"utf-8\")\n",
        "\n",
        "# Se imprime el contenido del archivo:\n",
        "print(stream.read())\n"
      ],
      "metadata": {
        "id": "dNPHK3d3Y7wG"
      },
      "execution_count": null,
      "outputs": []
    },
    {
      "cell_type": "markdown",
      "source": [
        "Como resultado en Cisco da\n",
        "The Zen of Python\n",
        "=================\n",
        "\n",
        "::\n",
        "\n",
        "    Beautiful is better than ugly.\n",
        "    Explicit is better than implicit.\n",
        "    Simple is better than complex.\n",
        "    Complex is better than complicated.\n",
        "    Flat is better than nested.\n",
        "    Sparse is better than dense.\n",
        "    Readability counts.\n",
        "    Special cases aren't special enough to break the rules.\n",
        "    Although practicality beats purity.\n",
        "    Errors should never pass silently.\n",
        "    Unless explicitly silenced.\n",
        "    In the face of ambiguity, refuse the temptation to guess.\n",
        "    There should be one-- and preferably only one --obvious way to do it.\n",
        "    Although that way may not be obvious at first unless you're Dutch.\n",
        "    Now is better than never.\n",
        "    Although never is often better than *right* now.\n",
        "    If the implementation is hard to explain, it's a bad idea.\n",
        "    If the implementation is easy to explain, it may be a good idea.\n",
        "    Namespaces are one honking great idea -- let's do more of those!\n",
        "\n",
        "\n",
        "\n",
        "----------------\n",
        "source: https://github.com/python/peps/blob/master/pep-0020.txt"
      ],
      "metadata": {
        "id": "ge_AHPUEZExn"
      }
    },
    {
      "cell_type": "code",
      "source": [
        "from os import strerror\n",
        "\n",
        "try:\n",
        "    counter = 0\n",
        "    stream = open('text.txt', \"rt\")\n",
        "    char = stream.read(1)\n",
        "    while char != '':\n",
        "        print(char, end='')\n",
        "        counter += 1\n",
        "        char = stream.read(1)\n",
        "    stream.close()\n",
        "    print(\"\\n\\nCaracteres en el archivo:\", counter)\n",
        "except IOError as e:\n",
        "    print(\"Se produjo un error de E/S:\", strerror(e.errno))\n"
      ],
      "metadata": {
        "id": "bTT_uLnPZIhG"
      },
      "execution_count": null,
      "outputs": []
    },
    {
      "cell_type": "code",
      "source": [
        "from os import strerror\n",
        "\n",
        "try:\n",
        "    counter = 0\n",
        "    stream = open('text.txt', \"rt\")\n",
        "    content = stream.read()\n",
        "    for char in content:\n",
        "        print(char, end='')\n",
        "        counter += 1\n",
        "    stream.close()\n",
        "    print(\"\\n\\nCaracteres en el archivo:\", counter)\n",
        "except IOError as e:\n",
        "    print(\"Se produjo un error de E/S:\", strerr(e.errno))\n"
      ],
      "metadata": {
        "id": "8NHRMs00b8ji"
      },
      "execution_count": null,
      "outputs": []
    },
    {
      "cell_type": "code",
      "source": [
        "from os import strerror\n",
        "\n",
        "try:\n",
        "    character_counter = line_counter = 0\n",
        "    stream = open('text.txt', 'rt')\n",
        "    line = stream.readline()\n",
        "    while line != '':\n",
        "        line_counter += 1\n",
        "        for char in line:\n",
        "            print(char, end='')\n",
        "            character_counter += 1\n",
        "        line = stream.readline()\n",
        "    stream.close()\n",
        "    print(\"\\n\\nCaracteres en el archivo:\", character_counter)\n",
        "    print(\"Líneas en el archivo:     \", line_counter)\n",
        "except IOError as e:\n",
        "    print(\"Se produjo un error de E/S:\", strerror(e.errno))\n"
      ],
      "metadata": {
        "id": "q2rcnvb_cxI5"
      },
      "execution_count": null,
      "outputs": []
    },
    {
      "cell_type": "code",
      "source": [
        "from os import strerror\n",
        "\n",
        "try:\n",
        "    character_counter = line_counter = 0\n",
        "    stream = open('text.txt', 'rt')\n",
        "    lines = stream.readlines(20)\n",
        "    while len(lines) != 0:\n",
        "        for line in lines:\n",
        "            line_counter += 1\n",
        "            for char in line:\n",
        "                print(char, end='')\n",
        "                character_counter += 1\n",
        "        lines = stream.readlines(10)\n",
        "    stream.close()\n",
        "    print(\"\\n\\nCaracteres en el archivo:\", character_counter)\n",
        "    print(\"Líneas en el archivo:     \", line_counter)\n",
        "except IOError as e:\n",
        "    print(\"Se produjo un error de E/S:\", strerror(e.errno))\n"
      ],
      "metadata": {
        "id": "X2lWqytceQ9n"
      },
      "execution_count": null,
      "outputs": []
    },
    {
      "cell_type": "code",
      "source": [
        "from os import strerror\n",
        "\n",
        "try:\n",
        "\tcharacter_counter = line_counter = 0\n",
        "\tfor line in open('text.txt', 'rt'):\n",
        "\t\tline_counter += 1\n",
        "\t\tfor char in line:\n",
        "\t\t\tprint(char, end='')\n",
        "\t\t\tcharacter_counter += 1\n",
        "\tprint(\"\\n\\nCaracteres en el archivo: \", character_counter)\n",
        "\tprint(\"Líneas en el archivo:     \", line_counter)\n",
        "except IOError as e:\n",
        "\tprint(\"Se produjo un error de E/S:\", strerror(e.errno))\n"
      ],
      "metadata": {
        "id": "l2iIqxIX--7v"
      },
      "execution_count": null,
      "outputs": []
    },
    {
      "cell_type": "code",
      "source": [
        "from os import strerror\n",
        "\n",
        "try:\n",
        "\tfile = open('newtext.txt', 'wt') # Un nuevo archivo (newtext.txt) es creado.\n",
        "\tfor i in range(10):\n",
        "\t\ts = \"línea #\" + str(i+1) + \"\\n\"\n",
        "\t\tfor char in s:\n",
        "\t\t\tfile.write(char)\n",
        "\tfile.close()\n",
        "except IOError as e:\n",
        "\tprint(\"Se produjo un error de E/S:\", strerror(e.errno))\n"
      ],
      "metadata": {
        "id": "aArNVB66_nqc"
      },
      "execution_count": 1,
      "outputs": []
    },
    {
      "cell_type": "code",
      "source": [
        "from os import strerror\n",
        "\n",
        "try:\n",
        "    file = open('newtext.txt', 'wt')\n",
        "    for i in range(10):\n",
        "        file.write(\"línea #\" + str(i+1) + \"\\n\")\n",
        "    file.close()\n",
        "except IOError as e:\n",
        "    print(\"Se produjo un error de E/S:\", strerror(e.errno))\n"
      ],
      "metadata": {
        "id": "xzEcK4VwAVNY"
      },
      "execution_count": 3,
      "outputs": []
    },
    {
      "cell_type": "code",
      "source": [
        "data = bytearray(10)\n",
        "\n",
        "for i in range(len(data)):\n",
        "    data[i] = 10 - i\n",
        "\n",
        "for b in data:\n",
        "    print(hex(b))\n"
      ],
      "metadata": {
        "colab": {
          "base_uri": "https://localhost:8080/"
        },
        "id": "vUIVl0rtBstm",
        "outputId": "589ce1da-ee96-428e-cce2-7c96b863cf4f"
      },
      "execution_count": 4,
      "outputs": [
        {
          "output_type": "stream",
          "name": "stdout",
          "text": [
            "0xa\n",
            "0x9\n",
            "0x8\n",
            "0x7\n",
            "0x6\n",
            "0x5\n",
            "0x4\n",
            "0x3\n",
            "0x2\n",
            "0x1\n"
          ]
        }
      ]
    },
    {
      "cell_type": "code",
      "source": [
        "from os import strerror\n",
        "\n",
        "data = bytearray(10)\n",
        "\n",
        "for i in range(len(data)):\n",
        "    data[i] = 10 + i\n",
        "\n",
        "try:\n",
        "    binary_file = open('file.bin', 'wb')\n",
        "    binary_file.write(data)\n",
        "    binary_file.close()\n",
        "except IOError as e:\n",
        "    print(\"Se produjo un error de E/S:\", strerror(e.errno))\n",
        "\n",
        "# Ingresa aquí el código que lee los bytes del stream.\n"
      ],
      "metadata": {
        "id": "9W3Ju_B0C8Zn"
      },
      "execution_count": 5,
      "outputs": []
    },
    {
      "cell_type": "code",
      "source": [
        "from os import strerror\n",
        "\n",
        "data = bytearray(10)\n",
        "\n",
        "try:\n",
        "    binary_file = open('file.bin', 'rb')\n",
        "    binary_file.readinto(data)\n",
        "    binary_file.close()\n",
        "\n",
        "    for b in data:\n",
        "        print(hex(b), end=' ')\n",
        "except IOError as e:\n",
        "    print(\"Se produjo un error de E/S:\", strerror(e.errno))\n",
        "\n"
      ],
      "metadata": {
        "colab": {
          "base_uri": "https://localhost:8080/"
        },
        "id": "wbkGqB4EDfjP",
        "outputId": "fc1fd222-772c-45da-d660-a6d5bdc37b54"
      },
      "execution_count": 6,
      "outputs": [
        {
          "output_type": "stream",
          "name": "stdout",
          "text": [
            "0xa 0xb 0xc 0xd 0xe 0xf 0x10 0x11 0x12 0x13 "
          ]
        }
      ]
    },
    {
      "cell_type": "code",
      "source": [
        "from os import strerror\n",
        "\n",
        "try:\n",
        "    binary_file = open('file.bin', 'rb')\n",
        "    data = bytearray(binary_file.read())\n",
        "    binary_file.close()\n",
        "\n",
        "    for b in data:\n",
        "        print(hex(b), end=' ')\n",
        "\n",
        "except IOError as e:\n",
        "    print(\"Se produjo un error de E/S:\", strerror(e.errno))\n",
        "\n"
      ],
      "metadata": {
        "colab": {
          "base_uri": "https://localhost:8080/"
        },
        "id": "2hiiM4vqE6f7",
        "outputId": "fe277cf2-a956-4f31-aa6c-e0f9091e9cc7"
      },
      "execution_count": 7,
      "outputs": [
        {
          "output_type": "stream",
          "name": "stdout",
          "text": [
            "0xa 0xb 0xc 0xd 0xe 0xf 0x10 0x11 0x12 0x13 "
          ]
        }
      ]
    },
    {
      "cell_type": "code",
      "source": [
        "try:\n",
        "    binary_file = open('file.bin', 'rb')\n",
        "    data = bytearray(binary_file.read(5))\n",
        "    binary_file.close()\n",
        "\n",
        "    for b in data:\n",
        "        print(hex(b), end=' ')\n",
        "\n",
        "except IOError as e:\n",
        "    print(\"Se produjo un error de E/S:\", strerror(e.errno))\n",
        "\n"
      ],
      "metadata": {
        "colab": {
          "base_uri": "https://localhost:8080/"
        },
        "id": "6WeDinkXFhwa",
        "outputId": "853eb13f-5aa4-4e7f-fc20-22e2066fca0f"
      },
      "execution_count": 8,
      "outputs": [
        {
          "output_type": "stream",
          "name": "stdout",
          "text": [
            "0xa 0xb 0xc 0xd 0xe "
          ]
        }
      ]
    },
    {
      "cell_type": "code",
      "source": [
        "from os import strerror\n",
        "\n",
        "source_file_name = input(\"Ingresa el nombre del archivo fuente: \")\n",
        "try:\n",
        "    source_file = open(source_file_name, 'rb')\n",
        "except IOError as e:\n",
        "    print(\"No se puede abrir archivo fuente: \", strerror(e.errno))\n",
        "    exit(e.errno)\n",
        "\n",
        "destination_file_name = input(\"Ingresa el nombre del archivo destino: \")\n",
        "try:\n",
        "    destination_file = open(destination_file_name, 'wb')\n",
        "except Exception as e:\n",
        "    print(\"No se puede crear el archivo de destino:\", strerror(e.errno))\n",
        "    source_file.close()\n",
        "    exit(e.errno)\n",
        "\n",
        "buffer = bytearray(65536)\n",
        "total  = 0\n",
        "try:\n",
        "    readin = source_file.readinto(buffer)\n",
        "    while readin > 0:\n",
        "        written = destination_file.write(buffer[:readin])\n",
        "        total += written\n",
        "        readin = source_file.readinto(buffer)\n",
        "except IOError as e:\n",
        "    print(\"No se puede crear el archivo de destino: \", strerror(e.errno))\n",
        "    exit(e.errno)\n",
        "\n",
        "print(total,'byte(s) escritos con éxito')\n",
        "source_file.close()\n",
        "destination_file.close()\n"
      ],
      "metadata": {
        "id": "WA5D-vjLHHQ5"
      },
      "execution_count": null,
      "outputs": []
    },
    {
      "cell_type": "markdown",
      "source": [
        "El módulo os"
      ],
      "metadata": {
        "id": "m3gOJ7yTKESk"
      }
    },
    {
      "cell_type": "code",
      "source": [
        "import os\n",
        "print(os.uname())\n",
        "\n"
      ],
      "metadata": {
        "colab": {
          "base_uri": "https://localhost:8080/"
        },
        "id": "2WqrSMRrKGEX",
        "outputId": "e42882f6-13a2-47b9-8aa5-b39f91aa9af4"
      },
      "execution_count": 9,
      "outputs": [
        {
          "output_type": "stream",
          "name": "stdout",
          "text": [
            "posix.uname_result(sysname='Linux', nodename='05390330c219', release='6.1.85+', version='#1 SMP PREEMPT_DYNAMIC Thu Jun 27 21:05:47 UTC 2024', machine='x86_64')\n"
          ]
        }
      ]
    },
    {
      "cell_type": "code",
      "source": [
        "import os\n",
        "print(os.name)\n",
        "\n"
      ],
      "metadata": {
        "colab": {
          "base_uri": "https://localhost:8080/"
        },
        "id": "bbc01evXKIP0",
        "outputId": "65d52944-7ebf-4799-ee90-5675644a2708"
      },
      "execution_count": 14,
      "outputs": [
        {
          "output_type": "stream",
          "name": "stdout",
          "text": [
            "posix\n"
          ]
        }
      ]
    },
    {
      "cell_type": "code",
      "source": [
        "import os\n",
        "\n",
        "os.mkdir(\"my_first_directory\")\n",
        "print(os.listdir())\n"
      ],
      "metadata": {
        "colab": {
          "base_uri": "https://localhost:8080/",
          "height": 193
        },
        "id": "BT_On-VQLs2K",
        "outputId": "a41d1f39-c5ba-42c6-8536-62c5ee8005cc"
      },
      "execution_count": 79,
      "outputs": [
        {
          "output_type": "error",
          "ename": "FileExistsError",
          "evalue": "[Errno 17] File exists: 'my_first_directory'",
          "traceback": [
            "\u001b[0;31m---------------------------------------------------------------------------\u001b[0m",
            "\u001b[0;31mFileExistsError\u001b[0m                           Traceback (most recent call last)",
            "\u001b[0;32m<ipython-input-79-b7b4c0170856>\u001b[0m in \u001b[0;36m<cell line: 3>\u001b[0;34m()\u001b[0m\n\u001b[1;32m      1\u001b[0m \u001b[0;32mimport\u001b[0m \u001b[0mos\u001b[0m\u001b[0;34m\u001b[0m\u001b[0;34m\u001b[0m\u001b[0m\n\u001b[1;32m      2\u001b[0m \u001b[0;34m\u001b[0m\u001b[0m\n\u001b[0;32m----> 3\u001b[0;31m \u001b[0mos\u001b[0m\u001b[0;34m.\u001b[0m\u001b[0mmkdir\u001b[0m\u001b[0;34m(\u001b[0m\u001b[0;34m\"my_first_directory\"\u001b[0m\u001b[0;34m)\u001b[0m\u001b[0;34m\u001b[0m\u001b[0;34m\u001b[0m\u001b[0m\n\u001b[0m\u001b[1;32m      4\u001b[0m \u001b[0mprint\u001b[0m\u001b[0;34m(\u001b[0m\u001b[0mos\u001b[0m\u001b[0;34m.\u001b[0m\u001b[0mlistdir\u001b[0m\u001b[0;34m(\u001b[0m\u001b[0;34m)\u001b[0m\u001b[0;34m)\u001b[0m\u001b[0;34m\u001b[0m\u001b[0;34m\u001b[0m\u001b[0m\n",
            "\u001b[0;31mFileExistsError\u001b[0m: [Errno 17] File exists: 'my_first_directory'"
          ]
        }
      ]
    },
    {
      "cell_type": "code",
      "source": [
        "import os\n",
        "\n",
        "os.makedirs(\"my_first_directory/my_second_directory\")\n",
        "os.chdir(\"my_first_directory\")\n",
        "print(os.listdir())\n"
      ],
      "metadata": {
        "colab": {
          "base_uri": "https://localhost:8080/"
        },
        "id": "BHOt12_VMW2C",
        "outputId": "dcdb4a01-7c98-4098-a0a5-cacc487c584c"
      },
      "execution_count": 17,
      "outputs": [
        {
          "output_type": "stream",
          "name": "stdout",
          "text": [
            "['my_second_directory']\n"
          ]
        }
      ]
    },
    {
      "cell_type": "code",
      "source": [
        "import os\n",
        "\n",
        "os.makedirs(\"my_first_directory/my_second_directory\")\n",
        "os.chdir(\"my_first_directory\")\n",
        "print(os.getcwd())\n",
        "os.chdir(\"my_second_directory\")\n",
        "print(os.getcwd())\n"
      ],
      "metadata": {
        "colab": {
          "base_uri": "https://localhost:8080/"
        },
        "id": "htBtkLU3Nc_4",
        "outputId": "f459203b-f340-44aa-a281-064e86c00c28"
      },
      "execution_count": 25,
      "outputs": [
        {
          "output_type": "stream",
          "name": "stdout",
          "text": [
            "/content/my_first_directory/my_first_directory/my_first_directory/my_first_directory/my_second_directory/my_first_directory\n",
            "/content/my_first_directory/my_first_directory/my_first_directory/my_first_directory/my_second_directory/my_first_directory/my_second_directory\n"
          ]
        }
      ]
    },
    {
      "cell_type": "code",
      "source": [
        "import os\n",
        "\n",
        "os.mkdir(\"my_first_directory\")\n",
        "print(os.listdir())\n",
        "os.rmdir(\"my_first_directory\")\n",
        "print(os.listdir())\n"
      ],
      "metadata": {
        "colab": {
          "base_uri": "https://localhost:8080/"
        },
        "id": "ncNG2AD0OfB4",
        "outputId": "2a49208c-5637-4d1e-e2af-6913d3fbdc40"
      },
      "execution_count": 30,
      "outputs": [
        {
          "output_type": "stream",
          "name": "stdout",
          "text": [
            "['my_first_directory']\n",
            "[]\n"
          ]
        }
      ]
    },
    {
      "cell_type": "code",
      "source": [
        "import os\n",
        "\n",
        "os.makedirs(\"my_first_directory/my_second_directory\")\n",
        "os.removedirs(\"my_first_directory/my_second_directory\")\n",
        "print(os.listdir())\n",
        "\n"
      ],
      "metadata": {
        "colab": {
          "base_uri": "https://localhost:8080/"
        },
        "id": "IuugcPu5Okgg",
        "outputId": "26ddfa91-64d8-4be0-f8fb-5e093a825d38"
      },
      "execution_count": 27,
      "outputs": [
        {
          "output_type": "stream",
          "name": "stdout",
          "text": [
            "[]\n"
          ]
        }
      ]
    },
    {
      "cell_type": "code",
      "source": [
        "import os\n",
        "\n",
        "returned_value = os.system(\"mkdir my_first_directory\")\n",
        "print(returned_value)\n"
      ],
      "metadata": {
        "colab": {
          "base_uri": "https://localhost:8080/"
        },
        "id": "XGUKuawsPblq",
        "outputId": "6fc1df14-f16a-41d0-9564-f77a9c1c4876"
      },
      "execution_count": 33,
      "outputs": [
        {
          "output_type": "stream",
          "name": "stdout",
          "text": [
            "0\n"
          ]
        }
      ]
    },
    {
      "cell_type": "markdown",
      "source": [
        "El módulo datetime"
      ],
      "metadata": {
        "id": "nx4nAvPDWEiJ"
      }
    },
    {
      "cell_type": "code",
      "source": [
        "from datetime import date\n",
        "\n",
        "today = date.today()\n",
        "\n",
        "print(\"Hoy:\", today)\n",
        "print(\"Año:\", today.year)\n",
        "print(\"Mes:\", today.month)\n",
        "print(\"Día:\", today.day)\n"
      ],
      "metadata": {
        "colab": {
          "base_uri": "https://localhost:8080/"
        },
        "id": "kjlT068NWG_r",
        "outputId": "d5e7a177-8e4e-4d8a-d142-e9c5e0df1d35"
      },
      "execution_count": 35,
      "outputs": [
        {
          "output_type": "stream",
          "name": "stdout",
          "text": [
            "Hoy: 2024-09-02\n",
            "Año: 2024\n",
            "Mes: 9\n",
            "Día: 2\n"
          ]
        }
      ]
    },
    {
      "cell_type": "code",
      "source": [
        "from datetime import date\n",
        "\n",
        "my_date = date(2019, 11, 4)\n",
        "print(my_date)\n",
        "\n"
      ],
      "metadata": {
        "colab": {
          "base_uri": "https://localhost:8080/"
        },
        "id": "eDdhC22HWK_V",
        "outputId": "e54048a3-8d43-4f18-9371-7e966608e55b"
      },
      "execution_count": 36,
      "outputs": [
        {
          "output_type": "stream",
          "name": "stdout",
          "text": [
            "2019-11-04\n"
          ]
        }
      ]
    },
    {
      "cell_type": "code",
      "source": [
        "from datetime import date\n",
        "import time\n",
        "\n",
        "timestamp = time.time()\n",
        "print(\"Marca de tiempo:\", timestamp)\n",
        "\n",
        "d = date.fromtimestamp(timestamp)\n",
        "print(\"Fecha:\", d)\n"
      ],
      "metadata": {
        "colab": {
          "base_uri": "https://localhost:8080/"
        },
        "id": "VZpinMO-W5tI",
        "outputId": "4c3521f8-c911-43ab-a359-462ce550c8e8"
      },
      "execution_count": 37,
      "outputs": [
        {
          "output_type": "stream",
          "name": "stdout",
          "text": [
            "Marca de tiempo: 1725240687.6638882\n",
            "Fecha: 2024-09-02\n"
          ]
        }
      ]
    },
    {
      "cell_type": "code",
      "source": [
        "from datetime import date\n",
        "\n",
        "d = date.fromisoformat('2019-11-04')\n",
        "print(d)\n"
      ],
      "metadata": {
        "colab": {
          "base_uri": "https://localhost:8080/"
        },
        "id": "axy0IiSeXxwt",
        "outputId": "ba7b6e0f-c052-4366-c97c-99864cf8ac34"
      },
      "execution_count": 38,
      "outputs": [
        {
          "output_type": "stream",
          "name": "stdout",
          "text": [
            "2019-11-04\n"
          ]
        }
      ]
    },
    {
      "cell_type": "code",
      "source": [
        "from datetime import date\n",
        "\n",
        "d = date(1991, 2, 5)\n",
        "print(d)\n",
        "\n",
        "d = d.replace(year=1992, month=1, day=16)\n",
        "print(d)\n"
      ],
      "metadata": {
        "colab": {
          "base_uri": "https://localhost:8080/"
        },
        "id": "kUCsKx-fYIM2",
        "outputId": "345de9a7-a30a-454e-c75d-4959ab44b550"
      },
      "execution_count": 39,
      "outputs": [
        {
          "output_type": "stream",
          "name": "stdout",
          "text": [
            "1991-02-05\n",
            "1992-01-16\n"
          ]
        }
      ]
    },
    {
      "cell_type": "code",
      "source": [
        "from datetime import date\n",
        "\n",
        "d = date(2019, 11, 4)\n",
        "print(d.weekday())\n"
      ],
      "metadata": {
        "colab": {
          "base_uri": "https://localhost:8080/"
        },
        "id": "vp-iJtxvYueP",
        "outputId": "17d69f8b-d975-431a-9fe1-8a7ef06a366f"
      },
      "execution_count": 40,
      "outputs": [
        {
          "output_type": "stream",
          "name": "stdout",
          "text": [
            "0\n"
          ]
        }
      ]
    },
    {
      "cell_type": "code",
      "source": [
        "from datetime import date\n",
        "\n",
        "d = date(2019, 11, 4)\n",
        "print(d.isoweekday())\n",
        "\n"
      ],
      "metadata": {
        "colab": {
          "base_uri": "https://localhost:8080/"
        },
        "id": "1hEUom1DYv8i",
        "outputId": "59d3595a-926e-430b-f4e8-f1fe9ba5cc2a"
      },
      "execution_count": 41,
      "outputs": [
        {
          "output_type": "stream",
          "name": "stdout",
          "text": [
            "1\n"
          ]
        }
      ]
    },
    {
      "cell_type": "code",
      "source": [
        "from datetime import time\n",
        "\n",
        "t = time(14, 53, 20, 1)\n",
        "\n",
        "print(\"Tiempo:\", t)\n",
        "print(\"Hora:\", t.hour)\n",
        "print(\"Minuto:\", t.minute)\n",
        "print(\"Segundo:\", t.second)\n",
        "print(\"Microsegundo:\", t.microsecond)\n"
      ],
      "metadata": {
        "colab": {
          "base_uri": "https://localhost:8080/"
        },
        "id": "lgwNR-JTZlJq",
        "outputId": "e1130ec8-5873-49f8-faa5-1250e1f643d4"
      },
      "execution_count": 42,
      "outputs": [
        {
          "output_type": "stream",
          "name": "stdout",
          "text": [
            "Tiempo: 14:53:20.000001\n",
            "Hora: 14\n",
            "Minuto: 53\n",
            "Segundo: 20\n",
            "Microsegundo: 1\n"
          ]
        }
      ]
    },
    {
      "cell_type": "code",
      "source": [
        "import time\n",
        "\n",
        "class Student:\n",
        "    def take_nap(self, seconds):\n",
        "        print(\"Estoy muy cansado. Tengo que echarme una siesta. Hasta luego.\")\n",
        "        time.sleep(seconds)\n",
        "        print(\"¡Dormí bien! ¡Me siento genial!\")\n",
        "\n",
        "student = Student()\n",
        "student.take_nap(5)\n"
      ],
      "metadata": {
        "colab": {
          "base_uri": "https://localhost:8080/"
        },
        "id": "SLWeqgo2aSlH",
        "outputId": "3b97f0c8-9f0f-4b0d-f74b-51ced8545f04"
      },
      "execution_count": 43,
      "outputs": [
        {
          "output_type": "stream",
          "name": "stdout",
          "text": [
            "Estoy muy cansado. Tengo que echarme una siesta. Hasta luego.\n",
            "¡Dormí bien! ¡Me siento genial!\n"
          ]
        }
      ]
    },
    {
      "cell_type": "code",
      "source": [
        "import time\n",
        "\n",
        "timestamp = 1572879180\n",
        "print(time.gmtime(timestamp))\n",
        "print(time.localtime(timestamp))\n"
      ],
      "metadata": {
        "colab": {
          "base_uri": "https://localhost:8080/"
        },
        "id": "_YQYvNz8b_GX",
        "outputId": "d4945278-4cdc-4de2-81d2-6e3a3704f1e1"
      },
      "execution_count": 44,
      "outputs": [
        {
          "output_type": "stream",
          "name": "stdout",
          "text": [
            "time.struct_time(tm_year=2019, tm_mon=11, tm_mday=4, tm_hour=14, tm_min=53, tm_sec=0, tm_wday=0, tm_yday=308, tm_isdst=0)\n",
            "time.struct_time(tm_year=2019, tm_mon=11, tm_mday=4, tm_hour=14, tm_min=53, tm_sec=0, tm_wday=0, tm_yday=308, tm_isdst=0)\n"
          ]
        }
      ]
    },
    {
      "cell_type": "code",
      "source": [
        "import time\n",
        "\n",
        "timestamp = 1572879180\n",
        "print(time.ctime(timestamp))\n"
      ],
      "metadata": {
        "colab": {
          "base_uri": "https://localhost:8080/"
        },
        "id": "pB8Q9q-ecB4g",
        "outputId": "0ea38a93-d993-4d42-a8bc-e57bdd764d17"
      },
      "execution_count": 45,
      "outputs": [
        {
          "output_type": "stream",
          "name": "stdout",
          "text": [
            "Mon Nov  4 14:53:00 2019\n"
          ]
        }
      ]
    },
    {
      "cell_type": "code",
      "source": [
        "import time\n",
        "\n",
        "timestamp = 1572879180\n",
        "st = time.gmtime(timestamp)\n",
        "\n",
        "print(time.asctime(st))\n",
        "print(time.mktime((2019, 11, 4, 14, 53, 0, 0, 308, 0)))\n"
      ],
      "metadata": {
        "colab": {
          "base_uri": "https://localhost:8080/"
        },
        "id": "e2qTa_oecrUm",
        "outputId": "f1bb5af6-2dda-484b-a161-f446b5c06d8b"
      },
      "execution_count": 46,
      "outputs": [
        {
          "output_type": "stream",
          "name": "stdout",
          "text": [
            "Mon Nov  4 14:53:00 2019\n",
            "1572879180.0\n"
          ]
        }
      ]
    },
    {
      "cell_type": "code",
      "source": [
        "from datetime import datetime\n",
        "\n",
        "dt = datetime(2019, 11, 4, 14, 53)\n",
        "\n",
        "print(\"Fecha y Hora:\", dt)\n",
        "print(\"Fecha:\", dt.date())\n",
        "print(\"Hora:\", dt.time())\n"
      ],
      "metadata": {
        "colab": {
          "base_uri": "https://localhost:8080/"
        },
        "id": "yj-j61AudoX7",
        "outputId": "efd2b11e-afbf-465c-fe2c-8c582e362486"
      },
      "execution_count": 47,
      "outputs": [
        {
          "output_type": "stream",
          "name": "stdout",
          "text": [
            "Fecha y Hora: 2019-11-04 14:53:00\n",
            "Fecha: 2019-11-04\n",
            "Hora: 14:53:00\n"
          ]
        }
      ]
    },
    {
      "cell_type": "code",
      "source": [
        "from datetime import datetime\n",
        "\n",
        "print(\"hoy:\", datetime.today())\n",
        "print(\"ahora:\", datetime.now())\n",
        "print(\"utc_ahora:\", datetime.utcnow())\n"
      ],
      "metadata": {
        "colab": {
          "base_uri": "https://localhost:8080/"
        },
        "id": "HI375FcVeDel",
        "outputId": "802cdf6a-484b-4cac-be3b-704737896f20"
      },
      "execution_count": 48,
      "outputs": [
        {
          "output_type": "stream",
          "name": "stdout",
          "text": [
            "hoy: 2024-09-02 02:02:40.222297\n",
            "ahora: 2024-09-02 02:02:40.224145\n",
            "utc_ahora: 2024-09-02 02:02:40.224284\n"
          ]
        }
      ]
    },
    {
      "cell_type": "code",
      "source": [
        "from datetime import datetime\n",
        "\n",
        "dt = datetime(2020, 10, 4, 14, 55)\n",
        "print(\"Marca de tiempo:\", dt.timestamp())\n"
      ],
      "metadata": {
        "colab": {
          "base_uri": "https://localhost:8080/"
        },
        "id": "fKxaFUDveqIc",
        "outputId": "a0a4dd79-cbd0-4535-ede2-14bcd8117fde"
      },
      "execution_count": 49,
      "outputs": [
        {
          "output_type": "stream",
          "name": "stdout",
          "text": [
            "Marca de tiempo: 1601823300.0\n"
          ]
        }
      ]
    },
    {
      "cell_type": "code",
      "source": [
        "from datetime import date\n",
        "\n",
        "d = date(2020, 1, 4)\n",
        "print(d.strftime('%Y/%m/%d'))\n"
      ],
      "metadata": {
        "colab": {
          "base_uri": "https://localhost:8080/"
        },
        "id": "_ZPAzWYJfRyK",
        "outputId": "d1646927-4221-49e5-8bdd-4bd41e439177"
      },
      "execution_count": 50,
      "outputs": [
        {
          "output_type": "stream",
          "name": "stdout",
          "text": [
            "2020/01/04\n"
          ]
        }
      ]
    },
    {
      "cell_type": "code",
      "source": [
        "from datetime import time\n",
        "from datetime import datetime\n",
        "\n",
        "t = time(14, 53)\n",
        "print(t.strftime(\"%H:%M:%S\"))\n",
        "\n",
        "dt = datetime(2020, 11, 4, 14, 53)\n",
        "print(dt.strftime(\"%y/%B/%d %H:%M:%S\"))\n"
      ],
      "metadata": {
        "colab": {
          "base_uri": "https://localhost:8080/"
        },
        "id": "omZx1vaJf-HF",
        "outputId": "dcb3bc26-1f16-4914-e8cc-f14ea32ff945"
      },
      "execution_count": 51,
      "outputs": [
        {
          "output_type": "stream",
          "name": "stdout",
          "text": [
            "14:53:00\n",
            "20/November/04 14:53:00\n"
          ]
        }
      ]
    },
    {
      "cell_type": "code",
      "source": [
        "import time\n",
        "\n",
        "timestamp = 1572879180\n",
        "st = time.gmtime(timestamp)\n",
        "\n",
        "print(time.strftime(\"%Y/%m/%d %H:%M:%S\", st))\n",
        "print(time.strftime(\"%Y/%m/%d %H:%M:%S\"))\n"
      ],
      "metadata": {
        "colab": {
          "base_uri": "https://localhost:8080/"
        },
        "id": "gMU52khEhM7m",
        "outputId": "401c78b8-b873-4ed4-ddce-5ca7cd26f270"
      },
      "execution_count": 52,
      "outputs": [
        {
          "output_type": "stream",
          "name": "stdout",
          "text": [
            "2019/11/04 14:53:00\n",
            "2024/09/02 02:16:27\n"
          ]
        }
      ]
    },
    {
      "cell_type": "code",
      "source": [
        "from datetime import datetime\n",
        "print(datetime.strptime(\"2019/11/04 14:53:00\", \"%Y/%m/%d %H:%M:%S\"))\n"
      ],
      "metadata": {
        "colab": {
          "base_uri": "https://localhost:8080/"
        },
        "id": "jaMpYLhlh0va",
        "outputId": "03de2f70-2f07-4a9b-d49d-2d717a676114"
      },
      "execution_count": 53,
      "outputs": [
        {
          "output_type": "stream",
          "name": "stdout",
          "text": [
            "2019-11-04 14:53:00\n"
          ]
        }
      ]
    },
    {
      "cell_type": "code",
      "source": [
        "import time\n",
        "print(time.strptime(\"2019/11/04 14:53:00\", \"%Y/%m/%d %H:%M:%S\"))\n",
        "\n"
      ],
      "metadata": {
        "colab": {
          "base_uri": "https://localhost:8080/"
        },
        "id": "z5C3lwa8h2U4",
        "outputId": "2bf2bf49-9947-468d-e9fc-0bb058cd2049"
      },
      "execution_count": 54,
      "outputs": [
        {
          "output_type": "stream",
          "name": "stdout",
          "text": [
            "time.struct_time(tm_year=2019, tm_mon=11, tm_mday=4, tm_hour=14, tm_min=53, tm_sec=0, tm_wday=0, tm_yday=308, tm_isdst=-1)\n"
          ]
        }
      ]
    },
    {
      "cell_type": "code",
      "source": [
        "from datetime import date\n",
        "from datetime import datetime\n",
        "\n",
        "d1 = date(2020, 11, 4)\n",
        "d2 = date(2019, 11, 4)\n",
        "\n",
        "print(d1 - d2)\n",
        "\n",
        "dt1 = datetime(2020, 11, 4, 0, 0, 0)\n",
        "dt2 = datetime(2019, 11, 4, 14, 53, 0)\n",
        "\n",
        "print(dt1 - dt2)\n"
      ],
      "metadata": {
        "colab": {
          "base_uri": "https://localhost:8080/"
        },
        "id": "Lh-vUdgQifKa",
        "outputId": "153bcb7c-a840-449d-c857-553480b0d0c5"
      },
      "execution_count": 55,
      "outputs": [
        {
          "output_type": "stream",
          "name": "stdout",
          "text": [
            "366 days, 0:00:00\n",
            "365 days, 9:07:00\n"
          ]
        }
      ]
    },
    {
      "cell_type": "code",
      "source": [
        "from datetime import timedelta\n",
        "\n",
        "delta = timedelta(weeks=2, days=2, hours=3)\n",
        "print(delta)\n"
      ],
      "metadata": {
        "colab": {
          "base_uri": "https://localhost:8080/"
        },
        "id": "oAVWJwlkjH_8",
        "outputId": "2e53e3cb-50e4-41df-e68e-338932b959f8"
      },
      "execution_count": 56,
      "outputs": [
        {
          "output_type": "stream",
          "name": "stdout",
          "text": [
            "16 days, 3:00:00\n"
          ]
        }
      ]
    },
    {
      "cell_type": "code",
      "source": [
        "from datetime import timedelta\n",
        "\n",
        "delta = timedelta(weeks=2, days=2, hours=3)\n",
        "print(\"Días:\", delta.days)\n",
        "print(\"Segundos:\", delta.seconds)\n",
        "print(\"Microsegundos:\", delta.microseconds)\n",
        "\n"
      ],
      "metadata": {
        "colab": {
          "base_uri": "https://localhost:8080/"
        },
        "id": "sB5alAVDjJj1",
        "outputId": "8e0573e2-fb5f-4074-a178-feadf7691442"
      },
      "execution_count": 57,
      "outputs": [
        {
          "output_type": "stream",
          "name": "stdout",
          "text": [
            "Días: 16\n",
            "Segundos: 10800\n",
            "Microsegundos: 0\n"
          ]
        }
      ]
    },
    {
      "cell_type": "code",
      "source": [
        "from datetime import timedelta\n",
        "from datetime import date\n",
        "from datetime import datetime\n",
        "\n",
        "delta = timedelta(weeks=2, days=2, hours=2)\n",
        "print(delta)\n",
        "\n",
        "delta2 = delta * 2\n",
        "print(delta2)\n",
        "\n",
        "d = date(2019, 10, 4) + delta2\n",
        "print(d)\n",
        "\n",
        "dt = datetime(2019, 10, 4, 14, 53) + delta2\n",
        "print(dt)\n"
      ],
      "metadata": {
        "colab": {
          "base_uri": "https://localhost:8080/"
        },
        "id": "oQ-Ye7NnmdtD",
        "outputId": "4f55cc66-f65e-4cb0-ce80-f8b879fd6267"
      },
      "execution_count": 58,
      "outputs": [
        {
          "output_type": "stream",
          "name": "stdout",
          "text": [
            "16 days, 2:00:00\n",
            "32 days, 4:00:00\n",
            "2019-11-05\n",
            "2019-11-05 18:53:00\n"
          ]
        }
      ]
    },
    {
      "cell_type": "markdown",
      "source": [
        "El módulo Calendar"
      ],
      "metadata": {
        "id": "4IaM8Ky2oPqc"
      }
    },
    {
      "cell_type": "code",
      "source": [
        "import calendar\n",
        "print(calendar.calendar(2020))\n"
      ],
      "metadata": {
        "colab": {
          "base_uri": "https://localhost:8080/"
        },
        "id": "4hEjBA6PoPH_",
        "outputId": "ccac5b79-54f2-4fd7-bcd6-7e3f7f81b95d"
      },
      "execution_count": 59,
      "outputs": [
        {
          "output_type": "stream",
          "name": "stdout",
          "text": [
            "                                  2020\n",
            "\n",
            "      January                   February                   March\n",
            "Mo Tu We Th Fr Sa Su      Mo Tu We Th Fr Sa Su      Mo Tu We Th Fr Sa Su\n",
            "       1  2  3  4  5                      1  2                         1\n",
            " 6  7  8  9 10 11 12       3  4  5  6  7  8  9       2  3  4  5  6  7  8\n",
            "13 14 15 16 17 18 19      10 11 12 13 14 15 16       9 10 11 12 13 14 15\n",
            "20 21 22 23 24 25 26      17 18 19 20 21 22 23      16 17 18 19 20 21 22\n",
            "27 28 29 30 31            24 25 26 27 28 29         23 24 25 26 27 28 29\n",
            "                                                    30 31\n",
            "\n",
            "       April                      May                       June\n",
            "Mo Tu We Th Fr Sa Su      Mo Tu We Th Fr Sa Su      Mo Tu We Th Fr Sa Su\n",
            "       1  2  3  4  5                   1  2  3       1  2  3  4  5  6  7\n",
            " 6  7  8  9 10 11 12       4  5  6  7  8  9 10       8  9 10 11 12 13 14\n",
            "13 14 15 16 17 18 19      11 12 13 14 15 16 17      15 16 17 18 19 20 21\n",
            "20 21 22 23 24 25 26      18 19 20 21 22 23 24      22 23 24 25 26 27 28\n",
            "27 28 29 30               25 26 27 28 29 30 31      29 30\n",
            "\n",
            "        July                     August                  September\n",
            "Mo Tu We Th Fr Sa Su      Mo Tu We Th Fr Sa Su      Mo Tu We Th Fr Sa Su\n",
            "       1  2  3  4  5                      1  2          1  2  3  4  5  6\n",
            " 6  7  8  9 10 11 12       3  4  5  6  7  8  9       7  8  9 10 11 12 13\n",
            "13 14 15 16 17 18 19      10 11 12 13 14 15 16      14 15 16 17 18 19 20\n",
            "20 21 22 23 24 25 26      17 18 19 20 21 22 23      21 22 23 24 25 26 27\n",
            "27 28 29 30 31            24 25 26 27 28 29 30      28 29 30\n",
            "                          31\n",
            "\n",
            "      October                   November                  December\n",
            "Mo Tu We Th Fr Sa Su      Mo Tu We Th Fr Sa Su      Mo Tu We Th Fr Sa Su\n",
            "          1  2  3  4                         1          1  2  3  4  5  6\n",
            " 5  6  7  8  9 10 11       2  3  4  5  6  7  8       7  8  9 10 11 12 13\n",
            "12 13 14 15 16 17 18       9 10 11 12 13 14 15      14 15 16 17 18 19 20\n",
            "19 20 21 22 23 24 25      16 17 18 19 20 21 22      21 22 23 24 25 26 27\n",
            "26 27 28 29 30 31         23 24 25 26 27 28 29      28 29 30 31\n",
            "                          30\n",
            "\n"
          ]
        }
      ]
    },
    {
      "cell_type": "code",
      "source": [
        "import calendar\n",
        "calendar.prcal(2020)\n",
        "\n"
      ],
      "metadata": {
        "colab": {
          "base_uri": "https://localhost:8080/"
        },
        "id": "20L4D4m0oVPu",
        "outputId": "a9ca52cc-b583-4768-e244-4ae4688d9455"
      },
      "execution_count": 60,
      "outputs": [
        {
          "output_type": "stream",
          "name": "stdout",
          "text": [
            "                                  2020\n",
            "\n",
            "      January                   February                   March\n",
            "Mo Tu We Th Fr Sa Su      Mo Tu We Th Fr Sa Su      Mo Tu We Th Fr Sa Su\n",
            "       1  2  3  4  5                      1  2                         1\n",
            " 6  7  8  9 10 11 12       3  4  5  6  7  8  9       2  3  4  5  6  7  8\n",
            "13 14 15 16 17 18 19      10 11 12 13 14 15 16       9 10 11 12 13 14 15\n",
            "20 21 22 23 24 25 26      17 18 19 20 21 22 23      16 17 18 19 20 21 22\n",
            "27 28 29 30 31            24 25 26 27 28 29         23 24 25 26 27 28 29\n",
            "                                                    30 31\n",
            "\n",
            "       April                      May                       June\n",
            "Mo Tu We Th Fr Sa Su      Mo Tu We Th Fr Sa Su      Mo Tu We Th Fr Sa Su\n",
            "       1  2  3  4  5                   1  2  3       1  2  3  4  5  6  7\n",
            " 6  7  8  9 10 11 12       4  5  6  7  8  9 10       8  9 10 11 12 13 14\n",
            "13 14 15 16 17 18 19      11 12 13 14 15 16 17      15 16 17 18 19 20 21\n",
            "20 21 22 23 24 25 26      18 19 20 21 22 23 24      22 23 24 25 26 27 28\n",
            "27 28 29 30               25 26 27 28 29 30 31      29 30\n",
            "\n",
            "        July                     August                  September\n",
            "Mo Tu We Th Fr Sa Su      Mo Tu We Th Fr Sa Su      Mo Tu We Th Fr Sa Su\n",
            "       1  2  3  4  5                      1  2          1  2  3  4  5  6\n",
            " 6  7  8  9 10 11 12       3  4  5  6  7  8  9       7  8  9 10 11 12 13\n",
            "13 14 15 16 17 18 19      10 11 12 13 14 15 16      14 15 16 17 18 19 20\n",
            "20 21 22 23 24 25 26      17 18 19 20 21 22 23      21 22 23 24 25 26 27\n",
            "27 28 29 30 31            24 25 26 27 28 29 30      28 29 30\n",
            "                          31\n",
            "\n",
            "      October                   November                  December\n",
            "Mo Tu We Th Fr Sa Su      Mo Tu We Th Fr Sa Su      Mo Tu We Th Fr Sa Su\n",
            "          1  2  3  4                         1          1  2  3  4  5  6\n",
            " 5  6  7  8  9 10 11       2  3  4  5  6  7  8       7  8  9 10 11 12 13\n",
            "12 13 14 15 16 17 18       9 10 11 12 13 14 15      14 15 16 17 18 19 20\n",
            "19 20 21 22 23 24 25      16 17 18 19 20 21 22      21 22 23 24 25 26 27\n",
            "26 27 28 29 30 31         23 24 25 26 27 28 29      28 29 30 31\n",
            "                          30\n"
          ]
        }
      ]
    },
    {
      "cell_type": "code",
      "source": [
        "import calendar\n",
        "print(calendar.month(2020, 11))\n"
      ],
      "metadata": {
        "colab": {
          "base_uri": "https://localhost:8080/"
        },
        "id": "Icb_TFiCorq_",
        "outputId": "027e64fb-45be-4bed-b940-e12c98310355"
      },
      "execution_count": 61,
      "outputs": [
        {
          "output_type": "stream",
          "name": "stdout",
          "text": [
            "   November 2020\n",
            "Mo Tu We Th Fr Sa Su\n",
            "                   1\n",
            " 2  3  4  5  6  7  8\n",
            " 9 10 11 12 13 14 15\n",
            "16 17 18 19 20 21 22\n",
            "23 24 25 26 27 28 29\n",
            "30\n",
            "\n"
          ]
        }
      ]
    },
    {
      "cell_type": "code",
      "source": [
        "import calendar\n",
        "calendar.prmonth(2020, 11)\n"
      ],
      "metadata": {
        "colab": {
          "base_uri": "https://localhost:8080/"
        },
        "id": "pQjx2EGNosvz",
        "outputId": "ed95d570-719d-495d-81ae-717778a976a4"
      },
      "execution_count": 62,
      "outputs": [
        {
          "output_type": "stream",
          "name": "stdout",
          "text": [
            "   November 2020\n",
            "Mo Tu We Th Fr Sa Su\n",
            "                   1\n",
            " 2  3  4  5  6  7  8\n",
            " 9 10 11 12 13 14 15\n",
            "16 17 18 19 20 21 22\n",
            "23 24 25 26 27 28 29\n",
            "30\n"
          ]
        }
      ]
    },
    {
      "cell_type": "code",
      "source": [
        "import calendar\n",
        "\n",
        "calendar.setfirstweekday(calendar.SUNDAY)\n",
        "calendar.prmonth(2020, 12)\n"
      ],
      "metadata": {
        "colab": {
          "base_uri": "https://localhost:8080/"
        },
        "id": "UBIZHGuEpNU0",
        "outputId": "1d7764fb-e2cc-4832-dd1f-f8f1abb2617f"
      },
      "execution_count": 63,
      "outputs": [
        {
          "output_type": "stream",
          "name": "stdout",
          "text": [
            "   December 2020\n",
            "Su Mo Tu We Th Fr Sa\n",
            "       1  2  3  4  5\n",
            " 6  7  8  9 10 11 12\n",
            "13 14 15 16 17 18 19\n",
            "20 21 22 23 24 25 26\n",
            "27 28 29 30 31\n"
          ]
        }
      ]
    },
    {
      "cell_type": "code",
      "source": [
        "import calendar\n",
        "\n",
        "calendar.setfirstweekday(6)\n",
        "calendar.prmonth(2020, 12)\n"
      ],
      "metadata": {
        "colab": {
          "base_uri": "https://localhost:8080/"
        },
        "id": "C2PkWo8upOrw",
        "outputId": "d21b3621-6cdf-4a9c-a252-403ff3c70d66"
      },
      "execution_count": 64,
      "outputs": [
        {
          "output_type": "stream",
          "name": "stdout",
          "text": [
            "   December 2020\n",
            "Su Mo Tu We Th Fr Sa\n",
            "       1  2  3  4  5\n",
            " 6  7  8  9 10 11 12\n",
            "13 14 15 16 17 18 19\n",
            "20 21 22 23 24 25 26\n",
            "27 28 29 30 31\n"
          ]
        }
      ]
    },
    {
      "cell_type": "code",
      "source": [
        "import calendar\n",
        "print(calendar.weekday(2020, 12, 24))\n"
      ],
      "metadata": {
        "colab": {
          "base_uri": "https://localhost:8080/"
        },
        "id": "JIn6Gi6Bpjtb",
        "outputId": "de2e98d7-f16b-44cf-ad58-1c9433335754"
      },
      "execution_count": 65,
      "outputs": [
        {
          "output_type": "stream",
          "name": "stdout",
          "text": [
            "3\n"
          ]
        }
      ]
    },
    {
      "cell_type": "code",
      "source": [
        "import calendar\n",
        "print(calendar.weekheader(2))\n"
      ],
      "metadata": {
        "colab": {
          "base_uri": "https://localhost:8080/"
        },
        "id": "92WCN6DHp4jQ",
        "outputId": "ea0d0383-0dc6-4961-fc30-3d50893bdbea"
      },
      "execution_count": 66,
      "outputs": [
        {
          "output_type": "stream",
          "name": "stdout",
          "text": [
            "Su Mo Tu We Th Fr Sa\n"
          ]
        }
      ]
    },
    {
      "cell_type": "code",
      "source": [
        "import calendar\n",
        "\n",
        "print(calendar.isleap(2020))\n",
        "print(calendar.leapdays(2010, 2021))  # Hasta 2021, pero sin incluirlo.\n"
      ],
      "metadata": {
        "colab": {
          "base_uri": "https://localhost:8080/"
        },
        "id": "_oCrUkCUqax_",
        "outputId": "c946f50c-3d9c-4eb1-e9d8-54865584e603"
      },
      "execution_count": 67,
      "outputs": [
        {
          "output_type": "stream",
          "name": "stdout",
          "text": [
            "True\n",
            "3\n"
          ]
        }
      ]
    },
    {
      "cell_type": "code",
      "source": [
        "import calendar\n",
        "\n",
        "c = calendar.Calendar(calendar.SUNDAY)\n",
        "\n",
        "for weekday in c.iterweekdays():\n",
        "    print(weekday, end=\" \")\n"
      ],
      "metadata": {
        "colab": {
          "base_uri": "https://localhost:8080/"
        },
        "id": "XeW7-Rkorlr_",
        "outputId": "d548fd2b-ca3d-4200-858a-7f3785221ed9"
      },
      "execution_count": 68,
      "outputs": [
        {
          "output_type": "stream",
          "name": "stdout",
          "text": [
            "6 0 1 2 3 4 5 "
          ]
        }
      ]
    },
    {
      "cell_type": "code",
      "source": [
        "import calendar\n",
        "\n",
        "c = calendar.Calendar()\n",
        "\n",
        "for date in c.itermonthdates(2019, 11):\n",
        "    print(date, end=\" \")\n"
      ],
      "metadata": {
        "colab": {
          "base_uri": "https://localhost:8080/"
        },
        "id": "UwOzP1j2sHn5",
        "outputId": "47123f04-c028-421a-815a-96eef6fa5025"
      },
      "execution_count": 69,
      "outputs": [
        {
          "output_type": "stream",
          "name": "stdout",
          "text": [
            "2019-10-28 2019-10-29 2019-10-30 2019-10-31 2019-11-01 2019-11-02 2019-11-03 2019-11-04 2019-11-05 2019-11-06 2019-11-07 2019-11-08 2019-11-09 2019-11-10 2019-11-11 2019-11-12 2019-11-13 2019-11-14 2019-11-15 2019-11-16 2019-11-17 2019-11-18 2019-11-19 2019-11-20 2019-11-21 2019-11-22 2019-11-23 2019-11-24 2019-11-25 2019-11-26 2019-11-27 2019-11-28 2019-11-29 2019-11-30 2019-12-01 "
          ]
        }
      ]
    },
    {
      "cell_type": "code",
      "source": [
        "import calendar\n",
        "\n",
        "c = calendar.Calendar()\n",
        "\n",
        "for iter in c.itermonthdays(2019, 11):\n",
        "    print(iter, end=\" \")\n"
      ],
      "metadata": {
        "colab": {
          "base_uri": "https://localhost:8080/"
        },
        "id": "SQewrEFosuBp",
        "outputId": "f1883202-bf62-400e-f317-01a69ad8398f"
      },
      "execution_count": 70,
      "outputs": [
        {
          "output_type": "stream",
          "name": "stdout",
          "text": [
            "0 0 0 0 1 2 3 4 5 6 7 8 9 10 11 12 13 14 15 16 17 18 19 20 21 22 23 24 25 26 27 28 29 30 0 "
          ]
        }
      ]
    },
    {
      "cell_type": "code",
      "source": [
        "import calendar\n",
        "\n",
        "c = calendar.Calendar()\n",
        "\n",
        "for data in c.monthdays2calendar(2020, 12):\n",
        "    print(data)\n"
      ],
      "metadata": {
        "colab": {
          "base_uri": "https://localhost:8080/"
        },
        "id": "aatnq4mOtg_p",
        "outputId": "19f9c617-439c-4ec2-dcff-bb50019a59bd"
      },
      "execution_count": 73,
      "outputs": [
        {
          "output_type": "stream",
          "name": "stdout",
          "text": [
            "[(0, 0), (1, 1), (2, 2), (3, 3), (4, 4), (5, 5), (6, 6)]\n",
            "[(7, 0), (8, 1), (9, 2), (10, 3), (11, 4), (12, 5), (13, 6)]\n",
            "[(14, 0), (15, 1), (16, 2), (17, 3), (18, 4), (19, 5), (20, 6)]\n",
            "[(21, 0), (22, 1), (23, 2), (24, 3), (25, 4), (26, 5), (27, 6)]\n",
            "[(28, 0), (29, 1), (30, 2), (31, 3), (0, 4), (0, 5), (0, 6)]\n"
          ]
        }
      ]
    }
  ]
}