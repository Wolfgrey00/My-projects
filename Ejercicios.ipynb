{
  "nbformat": 4,
  "nbformat_minor": 0,
  "metadata": {
    "colab": {
      "provenance": [],
      "authorship_tag": "ABX9TyNeaQ/EVsipwyfzZLYd1pnx",
      "include_colab_link": true
    },
    "kernelspec": {
      "name": "python3",
      "display_name": "Python 3"
    },
    "language_info": {
      "name": "python"
    }
  },
  "cells": [
    {
      "cell_type": "markdown",
      "metadata": {
        "id": "view-in-github",
        "colab_type": "text"
      },
      "source": [
        "<a href=\"https://colab.research.google.com/github/Wolfgrey00/My-projects/blob/main/Ejercicios.ipynb\" target=\"_parent\"><img src=\"https://colab.research.google.com/assets/colab-badge.svg\" alt=\"Open In Colab\"/></a>"
      ]
    },
    {
      "cell_type": "code",
      "execution_count": null,
      "metadata": {
        "colab": {
          "base_uri": "https://localhost:8080/"
        },
        "id": "Dcb-szV53CLd",
        "outputId": "fca297ac-10f9-4dd2-aeb7-302816cc4985"
      },
      "outputs": [
        {
          "output_type": "stream",
          "name": "stdout",
          "text": [
            "Indica tu nombre: André\n",
            "Indica tu apellido Paterno: Alejandre\n",
            "Indica tu apellido Materno: Pérez\n",
            "Indica tu fecha de nacimiento(dd/mm/yy): 09/07/05\n",
            "AlPA090705\n"
          ]
        }
      ],
      "source": [
        "nombre = input(\"Indica tu nombre: \")\n",
        "apellido_p = input(\"Indica tu apellido Paterno: \")\n",
        "apellido_m = input(\"Indica tu apellido Materno: \")\n",
        "nacimiento = input(\"Indica tu fecha de nacimiento(dd/mm/yy): \")\n",
        "RFC = apellido_p[:2]\n",
        "RFC += apellido_m[:1]\n",
        "RFC += nombre[:1]\n",
        "RFC += nacimiento[:2]\n",
        "RFC += nacimiento[3:5]\n",
        "RFC += nacimiento[6:8]\n",
        "RFC.upper()\n",
        "print(RFC)"
      ]
    },
    {
      "cell_type": "code",
      "source": [
        "nombre = input(\"Indica tu nombre completo: \")\n",
        "print(nombre.lower())\n",
        "print(nombre.upper())\n",
        "print(nombre.title())"
      ],
      "metadata": {
        "colab": {
          "base_uri": "https://localhost:8080/"
        },
        "id": "5OkZQbHj6FLH",
        "outputId": "d0b4ef7b-fbc2-4589-93e7-f56facd97188"
      },
      "execution_count": null,
      "outputs": [
        {
          "output_type": "stream",
          "name": "stdout",
          "text": [
            "Indica tu nombre completo: André Dominic Alejandre Pérez\n",
            "andré dominic alejandre pérez\n",
            "ANDRÉ DOMINIC ALEJANDRE PÉREZ\n",
            "André Dominic Alejandre Pérez\n"
          ]
        }
      ]
    },
    {
      "cell_type": "code",
      "source": [
        "n = \"\"\n",
        "nombre = input(\"Indica tu nombre completo: \")\n",
        "for letter in nombre:\n",
        "  if letter == \" \":\n",
        "    continue\n",
        "  else:\n",
        "    n += letter\n",
        "print(nombre.upper()+\" tiene \"+str(len(n))+\" letras\")\n"
      ],
      "metadata": {
        "colab": {
          "base_uri": "https://localhost:8080/"
        },
        "id": "YtNN0KTd7Be0",
        "outputId": "3ba5ebf9-c1e8-46a0-d1d5-b01bda8940ae"
      },
      "execution_count": null,
      "outputs": [
        {
          "output_type": "stream",
          "name": "stdout",
          "text": [
            "Indica tu nombre completo: André Dominic Alejandre Pérez\n",
            "ANDRÉ DOMINIC ALEJANDRE PÉREZ tiene 26 letras\n"
          ]
        }
      ]
    }
  ]
}