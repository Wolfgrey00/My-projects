{
  "nbformat": 4,
  "nbformat_minor": 0,
  "metadata": {
    "colab": {
      "provenance": [],
      "authorship_tag": "ABX9TyNIlXD9Ic6353fo0WCg1qNi",
      "include_colab_link": true
    },
    "kernelspec": {
      "name": "python3",
      "display_name": "Python 3"
    },
    "language_info": {
      "name": "python"
    }
  },
  "cells": [
    {
      "cell_type": "markdown",
      "metadata": {
        "id": "view-in-github",
        "colab_type": "text"
      },
      "source": [
        "<a href=\"https://colab.research.google.com/github/Wolfgrey00/My-projects/blob/main/M%C3%B3dulo_3_y_4_Semana_6.ipynb\" target=\"_parent\"><img src=\"https://colab.research.google.com/assets/colab-badge.svg\" alt=\"Open In Colab\"/></a>"
      ]
    },
    {
      "cell_type": "markdown",
      "source": [
        "# Ejercicios"
      ],
      "metadata": {
        "id": "_kLfX6v6v7uW"
      }
    },
    {
      "cell_type": "markdown",
      "source": [
        "Ejercicio 4.1.1.5"
      ],
      "metadata": {
        "id": "jrPmImo5v-Gy"
      }
    },
    {
      "cell_type": "code",
      "source": [
        "def powers_of_2(n):\n",
        "    power = 1\n",
        "    for i in range(n):\n",
        "        yield power\n",
        "        power *= 2\n",
        "\n",
        "\n",
        "for v in powers_of_2(8):\n",
        "    print(v)"
      ],
      "metadata": {
        "colab": {
          "base_uri": "https://localhost:8080/"
        },
        "id": "-AJtGYPcwArq",
        "outputId": "724ada08-735c-4fbc-a9b7-d561301e4338"
      },
      "execution_count": null,
      "outputs": [
        {
          "output_type": "stream",
          "name": "stdout",
          "text": [
            "1\n",
            "2\n",
            "4\n",
            "8\n",
            "16\n",
            "32\n",
            "64\n",
            "128\n"
          ]
        }
      ]
    },
    {
      "cell_type": "code",
      "source": [
        "#Por lista de comprensión\n",
        "def powers_of_2(n):\n",
        "    power = 1\n",
        "    for i in range(n):\n",
        "        yield power\n",
        "        power *= 2\n",
        "\n",
        "\n",
        "t = [x for x in powers_of_2(5)] #Gracias a esta línea de código, es que se generala lista de comprensión\n",
        "print(t)"
      ],
      "metadata": {
        "colab": {
          "base_uri": "https://localhost:8080/"
        },
        "id": "m7hWupJ_wl6K",
        "outputId": "1e51aca5-8303-4555-9e0a-45200ba11520"
      },
      "execution_count": null,
      "outputs": [
        {
          "output_type": "stream",
          "name": "stdout",
          "text": [
            "[1, 2, 4, 8, 16]\n"
          ]
        }
      ]
    },
    {
      "cell_type": "code",
      "source": [
        "#La función list()\n",
        "def powers_of_2(n):\n",
        "    power = 1\n",
        "    for i in range(n):\n",
        "        yield power\n",
        "        power *= 2\n",
        "\n",
        "\n",
        "t = list(powers_of_2(3)) #Se imprime de esta manera por la función list\n",
        "print(t)"
      ],
      "metadata": {
        "colab": {
          "base_uri": "https://localhost:8080/"
        },
        "id": "usC2bCurwx6x",
        "outputId": "0e454933-ce39-48cd-910b-b97f30ca9f89"
      },
      "execution_count": null,
      "outputs": [
        {
          "output_type": "stream",
          "name": "stdout",
          "text": [
            "[1, 2, 4]\n"
          ]
        }
      ]
    },
    {
      "cell_type": "code",
      "source": [
        "#El operador in\n",
        "def powers_of_2(n):\n",
        "    power = 1\n",
        "    for i in range(n):\n",
        "        yield power\n",
        "        power *= 2\n",
        "\n",
        "\n",
        "for i in range(20): #El bucle va a generar 20 iteraciones\n",
        "    if i in powers_of_2(4): #De las cuales solo las primeras 4 va a mostrar algo\n",
        "        print(i)"
      ],
      "metadata": {
        "colab": {
          "base_uri": "https://localhost:8080/"
        },
        "id": "e-q4xhDnxADR",
        "outputId": "7f0e99e9-5a2c-42bf-c459-dd8bc7f45d67"
      },
      "execution_count": null,
      "outputs": [
        {
          "output_type": "stream",
          "name": "stdout",
          "text": [
            "1\n",
            "2\n",
            "4\n",
            "8\n"
          ]
        }
      ]
    },
    {
      "cell_type": "code",
      "source": [
        "#El generador de números Fibonacci\n",
        "def fibonacci(n):\n",
        "    p = pp = 1\n",
        "    for i in range(n):\n",
        "        if i in [0, 1]: #Se definen los primeros dos resultados\n",
        "            yield 1\n",
        "        else:\n",
        "            n = p + pp #Se suman los dos números anteriores y se le asigna a una tercera variable\n",
        "            pp, p = p, n #Se cambia de valor las variables\n",
        "            yield n\n",
        "\n",
        "fibs = list(fibonacci(10)) #Se imprime en formato de lista\n",
        "print(fibs)\n",
        "#De esta forma se simplifica el código, haciendolo más legible"
      ],
      "metadata": {
        "colab": {
          "base_uri": "https://localhost:8080/"
        },
        "id": "puptwZBzx-HU",
        "outputId": "1bdf2b33-d268-41ea-c279-f2654333d84c"
      },
      "execution_count": null,
      "outputs": [
        {
          "output_type": "stream",
          "name": "stdout",
          "text": [
            "[1, 1, 2, 3, 5, 8, 13, 21, 34, 55]\n"
          ]
        }
      ]
    },
    {
      "cell_type": "markdown",
      "source": [
        "# Laboratoios"
      ],
      "metadata": {
        "id": "_zCB2_6oEliy"
      }
    },
    {
      "cell_type": "markdown",
      "source": [
        "Laboratorio 3.4.1.15 Triángulo"
      ],
      "metadata": {
        "id": "22EOPSexEpB-"
      }
    },
    {
      "cell_type": "code",
      "execution_count": null,
      "metadata": {
        "colab": {
          "base_uri": "https://localhost:8080/"
        },
        "id": "7sX6UAoVEhCx",
        "outputId": "d4c8e48b-2c9a-42ab-fbe9-ffa36a0c44bb"
      },
      "outputs": [
        {
          "output_type": "stream",
          "name": "stdout",
          "text": [
            "3.414213562373095\n"
          ]
        }
      ],
      "source": [
        "import math\n",
        "\n",
        "\n",
        "class Point:\n",
        "    def __init__(self, x=0.0, y=0.0):\n",
        "        self.__x = x\n",
        "        self.__y = y\n",
        "\n",
        "    def getx(self):\n",
        "        return self.__x\n",
        "\n",
        "    def gety(self):\n",
        "        return self.__y\n",
        "\n",
        "    def __distance_from_xy(self, x, y):\n",
        "        return math.hypot(self.__x - x, self.__y - y)\n",
        "\n",
        "    def __distance_from_point(self, point):\n",
        "        return self.__distance_from_xy(point.getx(), point.gety())\n",
        "\n",
        "class Triangle:\n",
        "    def __init__(self, vertice1, vertice2, vertice3):\n",
        "        self.vertice1 = vertice1\n",
        "        self.vertice2 = vertice2\n",
        "        self.vertice3 = vertice3\n",
        "\n",
        "    def perimeter(self):\n",
        "        perimeter = 0\n",
        "        perimeter += self.vertice1._Point__distance_from_point(self.vertice2)\n",
        "        perimeter += self.vertice2._Point__distance_from_point(self.vertice3)\n",
        "        perimeter += self.vertice3._Point__distance_from_point(self.vertice1)\n",
        "        return perimeter\n",
        "\n",
        "triangle = Triangle(Point(0, 0), Point(1, 0), Point(0, 1))\n",
        "print(triangle.perimeter())"
      ]
    },
    {
      "cell_type": "markdown",
      "source": [
        "Laboratorio 4.3.1.15 Histograma de frecuencia de caracteres"
      ],
      "metadata": {
        "id": "ZGYVHIPdrT_z"
      }
    },
    {
      "cell_type": "code",
      "source": [
        "from os import strerror\n",
        "\n",
        "try:\n",
        "\tfile = open('alphabet.txt', 'wt')\n",
        "\tfile.write(\"cBabAa\")\n",
        "\tfile.close()\n",
        "except IOError as e:\n",
        "\tprint(\"Se produjo un error de E/S:\", strerror(e.errno))\n",
        "\n",
        "try:\n",
        "    destination_file = open('alphabet.hist', 'wb')\n",
        "    destination_file.close() #Fixed indentation\n",
        "except Exception as e:\n",
        "    print(\"No se puede crear el archivo de destino:\", strerror(e.errno))\n",
        "    file.close()\n",
        "    exit(e.errno)"
      ],
      "metadata": {
        "id": "38SxzEgWUy0Q"
      },
      "execution_count": null,
      "outputs": []
    },
    {
      "cell_type": "code",
      "source": [
        "from os import strerror\n",
        "\n",
        "name_file = input(\"Ingresa el nombre del archivo (alphabet.txt): \")\n",
        "counter = {}\n",
        "\n",
        "try:\n",
        "    file = open(name_file, 'rt')\n",
        "    text = file.read()\n",
        "    for letter in text.lower():\n",
        "        if letter in counter:\n",
        "            counter[letter] += 1\n",
        "        else:\n",
        "            counter[letter] = 1\n",
        "    file.close()\n",
        "except IOError as e:\n",
        "    print(\"Se produjo un error de E/S:\", strerror(e.errno))\n",
        "\n",
        "for valor in sorted(counter):\n",
        "\tprint(f'{valor} -> {counter[valor]}')"
      ],
      "metadata": {
        "colab": {
          "base_uri": "https://localhost:8080/"
        },
        "id": "kLdBvmb7v9J_",
        "outputId": "a6be25b0-7624-4df7-b910-be7cfee5770d"
      },
      "execution_count": null,
      "outputs": [
        {
          "output_type": "stream",
          "name": "stdout",
          "text": [
            "Ingresa el nombre del archivo (alphabet.txt): alphabet.txt\n",
            "a -> 1\n",
            "b -> 1\n",
            "c -> 1\n"
          ]
        }
      ]
    },
    {
      "cell_type": "markdown",
      "source": [
        "Laboratorio 4.3.1.16"
      ],
      "metadata": {
        "id": "87U3dBFtXnq5"
      }
    },
    {
      "cell_type": "code",
      "source": [
        "from os import strerror\n",
        "\n",
        "name_file = input(\"Ingresa el nombre del archivo (alphabet.txt): \")\n",
        "counter = {}\n",
        "\n",
        "try:\n",
        "    file = open(name_file, 'rt')\n",
        "    text = file.read()\n",
        "    for letter in text.lower():\n",
        "        if letter in counter:\n",
        "            counter[letter] += 1\n",
        "        else:\n",
        "            counter[letter] = 1\n",
        "    file.close()\n",
        "except IOError as e:\n",
        "    print(\"Se produjo un error de E/S:\", strerror(e.errno))\n",
        "\n",
        "try:\n",
        "    destination_file = open('alphabet.hist', 'wt')\n",
        "    for valor in sorted(counter):\n",
        "        destination_file.write(f'{valor} -> {counter[valor]}\\n')\n",
        "    destination_file.close() #Fixed indentation\n",
        "except Exception as e:\n",
        "    print(\"No se puede crear el archivo de destino:\", strerror(e.errno))\n",
        "    file.close()\n",
        "    exit(e.errno)\n",
        "\n",
        "for valor in sorted(counter):\n",
        "\tprint(f'{valor} -> {counter[valor]}')\n"
      ],
      "metadata": {
        "colab": {
          "base_uri": "https://localhost:8080/"
        },
        "id": "5DU5w2cyV8ka",
        "outputId": "dad6015a-8121-4495-8b52-b01167fcb1f0"
      },
      "execution_count": null,
      "outputs": [
        {
          "output_type": "stream",
          "name": "stdout",
          "text": [
            "Ingresa el nombre del archivo (alphabet.txt): alphabet.txt\n",
            "a -> 3\n",
            "b -> 2\n",
            "c -> 1\n"
          ]
        }
      ]
    },
    {
      "cell_type": "markdown",
      "source": [
        "Laboratorio 4.3.1.17"
      ],
      "metadata": {
        "id": "FhvyS6vJXvWr"
      }
    },
    {
      "cell_type": "code",
      "source": [
        "import os\n",
        "\n",
        "class StudentsDataException(Exception):\n",
        "    def __init__(self):\n",
        "        Exception.__init__(self)\n",
        "\n",
        "\n",
        "class WrongLine(StudentsDataException):\n",
        "    def __init__(self):\n",
        "        StudentsDataException.__init__(self)\n",
        "    def __str__(self):\n",
        "        print('El archivo contiene una mala linea de información')\n",
        "\n",
        "class FileEmpty(StudentsDataException):\n",
        "    def __init__(self):\n",
        "        SudentDataException.__init__(self)\n",
        "\n",
        "    def __str__(self):\n",
        "        print('El archivo esta vacío')\n",
        "\n",
        "\n",
        "\n",
        "Lista = 'students.txt'\n",
        "Text = open(Lista, 'w')\n",
        "Text.write(\"John\tSmith\t5\\nAnna\tBoleyn\t4.5\\nJohn\tSmith\t2\\nAnna\tBoleyn\t11\\nAndrew\tCox\t1.5\")\n",
        "Text.close()\n",
        "\n",
        "try:\n",
        "    File = open(Lista, 'r')\n",
        "except Exception as exc:\n",
        "    print('El archivo no se pudo abrir - ' + os.strerror(exc.errno))\n",
        "\n",
        "if os.stat(Lista).st_size == 0:\n",
        "    FileEmptyP = FileEmpty()\n",
        "\n",
        "Counter = {}\n",
        "\n",
        "for line in File:\n",
        "    line = line.split()\n",
        "    try:\n",
        "        Nombre = line[0] + ' ' + line[1]\n",
        "        Puntos = float(line[2])\n",
        "    except:\n",
        "        WrongLineP = WrongLine()\n",
        "    else:\n",
        "        if Nombre in Counter:\n",
        "            Counter.update({Nombre: Counter[Nombre] + Puntos})\n",
        "        else:\n",
        "            Counter.update({Nombre: Puntos})\n",
        "\n",
        "Ordenado = sorted(Counter.keys())\n",
        "\n",
        "for i in Ordenado:\n",
        "      print(i + ' ' + str(Counter[i]))"
      ],
      "metadata": {
        "colab": {
          "base_uri": "https://localhost:8080/"
        },
        "id": "4EOIheUjdpwC",
        "outputId": "d33065e4-2fce-4deb-844b-3c1ade16e2fc"
      },
      "execution_count": null,
      "outputs": [
        {
          "output_type": "stream",
          "name": "stdout",
          "text": [
            "Andrew Cox 1.5\n",
            "Anna Boleyn 15.5\n",
            "John Smith 7.0\n"
          ]
        }
      ]
    },
    {
      "cell_type": "markdown",
      "source": [
        "Laboratorio 4.5.1.22"
      ],
      "metadata": {
        "id": "qhK8xJkee7NT"
      }
    },
    {
      "cell_type": "code",
      "source": [
        "from datetime import datetime\n",
        "\n",
        "dt = datetime(2020, 11, 4, 14, 53, 0)\n",
        "print(dt.strftime('%Y/%m/%d %H:%M:%S'))\n",
        "print(dt.strftime('%y/%B/%d %H:%M:%S %p'))\n",
        "print(dt.strftime('%a, %Y/%B/%d'))\n",
        "print(dt.strftime('%A, %Y/%B/%d'))\n",
        "print(dt.strftime('Día de la semana: %w'))\n",
        "print(dt.strftime('Día del año: %j'))\n",
        "print(dt.strftime('Número de semana del año: %U'))"
      ],
      "metadata": {
        "colab": {
          "base_uri": "https://localhost:8080/"
        },
        "id": "ng64_L36idV9",
        "outputId": "7c0363bd-5a71-4ec6-c60b-662f566bda81"
      },
      "execution_count": null,
      "outputs": [
        {
          "output_type": "stream",
          "name": "stdout",
          "text": [
            "2020/11/04 14:53:00\n",
            "20/November/04 14:53:00 PM\n",
            "Wed, 2020/November/04\n",
            "Wednesday, 2020/November/04\n",
            "Día de la semana: 3\n",
            "Día del año: 309\n",
            "Número de semana del año: 44\n"
          ]
        }
      ]
    },
    {
      "cell_type": "markdown",
      "source": [
        "Laboratorio 4.6.1.13"
      ],
      "metadata": {
        "id": "7ZkbNtfTj4O9"
      }
    },
    {
      "cell_type": "code",
      "source": [
        "import calendar\n",
        "\n",
        "class Calendar:\n",
        "  pass\n",
        "\n",
        "class MyCalendar(Calendar):\n",
        "  def __init__(self):\n",
        "    Calendar.__init__(self)\n",
        "\n",
        "  def __str__(self, result):\n",
        "    print(str(result))\n",
        "\n",
        "  def count_weekday_in_year(self, year, weekday):\n",
        "    y = year\n",
        "    wd = weekday\n",
        "    c = calendar.Calendar()\n",
        "    counter_week = 0\n",
        "    for mes in range(12):\n",
        "      mes += 1\n",
        "      for semana in c.monthdays2calendar(y, mes):\n",
        "        for dia in semana:\n",
        "          if dia[1] == wd and dia[0] != 0:\n",
        "            counter_week += 1\n",
        "    self.__str__(counter_week)\n",
        "\n",
        "Week = MyCalendar()\n",
        "\n",
        "Week.count_weekday_in_year(2019,0)\n",
        "Week.count_weekday_in_year(2000,6)\n"
      ],
      "metadata": {
        "id": "kX6xRTvrj_Js",
        "colab": {
          "base_uri": "https://localhost:8080/"
        },
        "outputId": "32fba7d8-ffc6-4adc-d9f3-35fd5331d530"
      },
      "execution_count": null,
      "outputs": [
        {
          "output_type": "stream",
          "name": "stdout",
          "text": [
            "52\n",
            "53\n"
          ]
        }
      ]
    }
  ]
}