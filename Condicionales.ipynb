{
  "nbformat": 4,
  "nbformat_minor": 0,
  "metadata": {
    "colab": {
      "provenance": [],
      "authorship_tag": "ABX9TyP4MWRBjYWm78vQs1LGgz1U",
      "include_colab_link": true
    },
    "kernelspec": {
      "name": "python3",
      "display_name": "Python 3"
    },
    "language_info": {
      "name": "python"
    }
  },
  "cells": [
    {
      "cell_type": "markdown",
      "metadata": {
        "id": "view-in-github",
        "colab_type": "text"
      },
      "source": [
        "<a href=\"https://colab.research.google.com/github/Wolfgrey00/My-projects/blob/main/Condicionales.ipynb\" target=\"_parent\"><img src=\"https://colab.research.google.com/assets/colab-badge.svg\" alt=\"Open In Colab\"/></a>"
      ]
    },
    {
      "cell_type": "code",
      "execution_count": null,
      "metadata": {
        "colab": {
          "base_uri": "https://localhost:8080/"
        },
        "id": "_3WBaGCFYIzz",
        "outputId": "a8b5c368-eaaa-47a0-f476-3773216ac738"
      },
      "outputs": [
        {
          "output_type": "stream",
          "name": "stdout",
          "text": [
            "Digita un número: +123\n",
            "True\n"
          ]
        }
      ],
      "source": [
        "n = int(input(\"Digita un número: \"))\n",
        "print(n >= 100)"
      ]
    },
    {
      "cell_type": "code",
      "source": [
        "planta = input(\"Escribe el nombre de la planta: \")\n",
        "\n",
        "if planta == \"ESPATIFILIO\":\n",
        "    print(\"Si, ¡El ESPATIFILIO es la mejor planta de todos los tiempos!\")\n",
        "elif planta == \"espatifilio\":\n",
        "    print(\"No, ¡quiero un gran ESPATIFILIO!\")\n",
        "else:\n",
        "    print(\"!ESPATIFILIO!, ¡No \" + planta + \"!\")"
      ],
      "metadata": {
        "colab": {
          "base_uri": "https://localhost:8080/"
        },
        "id": "7LyG-NeJCIux",
        "outputId": "c1747222-0380-483c-fb9c-6efd602f4ed9"
      },
      "execution_count": null,
      "outputs": [
        {
          "output_type": "stream",
          "name": "stdout",
          "text": [
            "Escribe el nombre de la planta: ESPATIFILIO\n",
            "Si, ¡El ESPATIFILIO es la mejor planta de todos los tiempos!\n"
          ]
        }
      ]
    },
    {
      "cell_type": "code",
      "source": [
        "income = float(input(\"Introduce el ingreso anual: \"))\n",
        "\n",
        "if income < 85528:\n",
        "    tax = income * .18 - 556.2\n",
        "else:\n",
        "    tax =  14839.2 + (income - 85528) * .32\n",
        "if tax < 0:\n",
        "    tax = 0.0\n",
        "\n",
        "tax = round(tax, 0)\n",
        "print(\"El impuesto es:\", tax, \"pesos\")\n"
      ],
      "metadata": {
        "colab": {
          "base_uri": "https://localhost:8080/"
        },
        "id": "ZRR0aUkECVIq",
        "outputId": "d22a0304-b564-47d6-ee0b-1b7a2503e8ac"
      },
      "execution_count": null,
      "outputs": [
        {
          "output_type": "stream",
          "name": "stdout",
          "text": [
            "Introduce el ingreso anual: -100\n",
            "El impuesto es: 0.0 pesos\n"
          ]
        }
      ]
    },
    {
      "cell_type": "code",
      "source": [
        "year = int(input(\"Introduce un año: \"))\n",
        "\n",
        "if year < 1582:\n",
        "    print(\"No esta dentro del período del calendario Gregoriano\")\n",
        "elif year%4 != 0:\n",
        "    print(\"Año Común\")\n",
        "elif year%100 != 0:\n",
        "    print(\"Año Bisiesto\")\n",
        "elif year%400 != 0:\n",
        "    print(\"Año Común\")\n",
        "else:\n",
        "    print(\"Año Bisiesto\")"
      ],
      "metadata": {
        "colab": {
          "base_uri": "https://localhost:8080/"
        },
        "id": "CmhpnSLRPScQ",
        "outputId": "f245399c-d761-42af-ac79-466931fcf0f4"
      },
      "execution_count": null,
      "outputs": [
        {
          "output_type": "stream",
          "name": "stdout",
          "text": [
            "Introduce un año: 1900\n",
            "Año Común\n"
          ]
        }
      ]
    },
    {
      "cell_type": "code",
      "source": [
        "# Almacena el actual número más grande aquí.\n",
        "largest_number = -999999999\n",
        "\n",
        "# Ingresa el primer valor.\n",
        "number = int(input(\"Introduce un número o escribe -1 para detener: \"))\n",
        "\n",
        "# Si el número no es igual a -1, continuaremos\n",
        "while number != -1:\n",
        "    # ¿Es el número más grande que el valor de largest_number?\n",
        "    if number > largest_number:\n",
        "        # Sí si, se actualiza largest_number.\n",
        "        largest_number = number\n",
        "    # Ingresa el siguiente número.\n",
        "    number = int(input(\"Introduce un número o escribe -1 para detener: \"))\n",
        "\n",
        "# Imprime el número más grande\n",
        "print(\"El número más grande es:\", largest_number)"
      ],
      "metadata": {
        "colab": {
          "base_uri": "https://localhost:8080/"
        },
        "id": "mUn7WjX9TqJo",
        "outputId": "e0c2121c-8c21-4dae-ebe8-7423ab30551a"
      },
      "execution_count": null,
      "outputs": [
        {
          "output_type": "stream",
          "name": "stdout",
          "text": [
            "Introduce un número o escribe -1 para detener: 52\n",
            "Introduce un número o escribe -1 para detener: 54\n",
            "Introduce un número o escribe -1 para detener: 58\n",
            "Introduce un número o escribe -1 para detener: -1\n",
            "El número más grande es: 58\n"
          ]
        }
      ]
    }
  ]
}