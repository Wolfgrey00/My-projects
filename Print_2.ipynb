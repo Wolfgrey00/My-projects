{
  "nbformat": 4,
  "nbformat_minor": 0,
  "metadata": {
    "colab": {
      "provenance": [],
      "authorship_tag": "ABX9TyNmP/WroBgCd4ty3aewg079",
      "include_colab_link": true
    },
    "kernelspec": {
      "name": "python3",
      "display_name": "Python 3"
    },
    "language_info": {
      "name": "python"
    }
  },
  "cells": [
    {
      "cell_type": "markdown",
      "metadata": {
        "id": "view-in-github",
        "colab_type": "text"
      },
      "source": [
        "<a href=\"https://colab.research.google.com/github/Wolfgrey00/My-projects/blob/main/Print_2.ipynb\" target=\"_parent\"><img src=\"https://colab.research.google.com/assets/colab-badge.svg\" alt=\"Open In Colab\"/></a>"
      ]
    },
    {
      "cell_type": "code",
      "execution_count": 2,
      "metadata": {
        "colab": {
          "base_uri": "https://localhost:8080/"
        },
        "id": "NN_UOScqMivV",
        "outputId": "753cae42-e0c0-474a-ef26-b678534e32f4"
      },
      "outputs": [
        {
          "output_type": "stream",
          "name": "stdout",
          "text": [
            "Fundamentos***Programación***en...Python\n"
          ]
        }
      ],
      "source": [
        "print(\"Fundamentos\",\"Programación\",\"en\",sep=\"***\",end=\"...\")\n",
        "print(\"Python\")"
      ]
    },
    {
      "cell_type": "code",
      "source": [
        "print(\"    *\")\n",
        "print(\"   * *\")\n",
        "print(\"  *   *\")\n",
        "print(\" *     *\")\n",
        "print(\"***   ***\")\n",
        "print(\"  *   *\")\n",
        "print(\"  *   *\")\n",
        "print(\"  *****\")"
      ],
      "metadata": {
        "colab": {
          "base_uri": "https://localhost:8080/"
        },
        "id": "CP9qcVlpN5vC",
        "outputId": "636042b2-9563-4e65-e97e-61318437c92d"
      },
      "execution_count": 3,
      "outputs": [
        {
          "output_type": "stream",
          "name": "stdout",
          "text": [
            "    *\n",
            "   * *\n",
            "  *   *\n",
            " *     *\n",
            "***   ***\n",
            "  *   *\n",
            "  *   *\n",
            "  *****\n"
          ]
        }
      ]
    },
    {
      "cell_type": "code",
      "source": [
        "print(\"    *\\n   * *\\n  *   *\\n *     *\\n***   ***\\n  *   *\\n  *   *\\n  *****\")"
      ],
      "metadata": {
        "colab": {
          "base_uri": "https://localhost:8080/"
        },
        "id": "513RBMIeQhs8",
        "outputId": "54bddb8e-8fea-4180-affd-7de2ec91945e"
      },
      "execution_count": 19,
      "outputs": [
        {
          "output_type": "stream",
          "name": "stdout",
          "text": [
            "    *\n",
            "   * *\n",
            "  *   *\n",
            " *     *\n",
            "***   ***\n",
            "  *   *\n",
            "  *   *\n",
            "  *****\n"
          ]
        }
      ]
    },
    {
      "cell_type": "code",
      "source": [
        "print(\"        *\")\n",
        "print(\"       * *\")\n",
        "print(\"      *   *\")\n",
        "print(\"     *     *\")\n",
        "print(\"    *       *\")\n",
        "print(\"   *         *\")\n",
        "print(\"  *           *\")\n",
        "print(\" *             *\")\n",
        "print(\"******     ******\")\n",
        "print(\"     *     *\")\n",
        "print(\"     *     *\")\n",
        "print(\"     *     *\")\n",
        "print(\"     *     *\")\n",
        "print(\"     *     *\")\n",
        "print(\"     *     *\")\n",
        "print(\"     *******\")"
      ],
      "metadata": {
        "colab": {
          "base_uri": "https://localhost:8080/"
        },
        "id": "NSQXnNRSQQjA",
        "outputId": "4f8ea621-6288-451a-98c9-6e665849459f"
      },
      "execution_count": 21,
      "outputs": [
        {
          "output_type": "stream",
          "name": "stdout",
          "text": [
            "        *\n",
            "       * *\n",
            "      *   *\n",
            "     *     *\n",
            "    *       *\n",
            "   *         *\n",
            "  *           *\n",
            " *             *\n",
            "******     ******\n",
            "     *     *\n",
            "     *     *\n",
            "     *     *\n",
            "     *     *\n",
            "     *     *\n",
            "     *     *\n",
            "     *******\n"
          ]
        }
      ]
    },
    {
      "cell_type": "code",
      "source": [
        "print(\"        *        \"*2)\n",
        "print(\"       * *       \"*2)\n",
        "print(\"      *   *      \"*2)\n",
        "print(\"     *     *     \"*2)\n",
        "print(\"    *       *    \"*2)\n",
        "print(\"   *         *   \"*2)\n",
        "print(\"  *              \"*2)\n",
        "print(\" *             * \"*2)\n",
        "print(\"******     ******\"*2)\n",
        "print(\"     *     *     \"*2)\n",
        "print(\"     *     *     \"*2)\n",
        "print(\"     *     *     \"*2)\n",
        "print(\"     *     *     \"*2)\n",
        "print(\"     *     *     \"*2)\n",
        "print(\"     *     *     \"*2)\n",
        "print(\"     *******     \"*2)"
      ],
      "metadata": {
        "colab": {
          "base_uri": "https://localhost:8080/"
        },
        "id": "hfBwn-zQWBmb",
        "outputId": "ec0bc43b-0904-448a-822f-5038a22b453b"
      },
      "execution_count": 30,
      "outputs": [
        {
          "output_type": "stream",
          "name": "stdout",
          "text": [
            "        *                *        \n",
            "       * *              * *       \n",
            "      *   *            *   *      \n",
            "     *     *          *     *     \n",
            "    *       *        *       *    \n",
            "   *         *      *         *   \n",
            "  *                *              \n",
            " *             *  *             * \n",
            "******     ************     ******\n",
            "     *     *          *     *     \n",
            "     *     *          *     *     \n",
            "     *     *          *     *     \n",
            "     *     *          *     *     \n",
            "     *     *          *     *     \n",
            "     *     *          *     *     \n",
            "     *******          *******     \n"
          ]
        }
      ]
    }
  ]
}