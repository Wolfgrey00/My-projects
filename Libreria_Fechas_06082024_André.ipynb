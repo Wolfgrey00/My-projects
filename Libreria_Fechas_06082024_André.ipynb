{
  "nbformat": 4,
  "nbformat_minor": 0,
  "metadata": {
    "colab": {
      "provenance": [],
      "authorship_tag": "ABX9TyOmDu8RdFsFPdMiDExK5j7R",
      "include_colab_link": true
    },
    "kernelspec": {
      "name": "python3",
      "display_name": "Python 3"
    },
    "language_info": {
      "name": "python"
    }
  },
  "cells": [
    {
      "cell_type": "markdown",
      "metadata": {
        "id": "view-in-github",
        "colab_type": "text"
      },
      "source": [
        "<a href=\"https://colab.research.google.com/github/Wolfgrey00/My-projects/blob/main/Libreria_Fechas_06082024_Andr%C3%A9.ipynb\" target=\"_parent\"><img src=\"https://colab.research.google.com/assets/colab-badge.svg\" alt=\"Open In Colab\"/></a>"
      ]
    },
    {
      "cell_type": "code",
      "execution_count": null,
      "metadata": {
        "colab": {
          "base_uri": "https://localhost:8080/"
        },
        "id": "b_Kha6n3k6Vu",
        "outputId": "87fbd836-4f4c-493d-b026-a08f31264928"
      },
      "outputs": [
        {
          "output_type": "stream",
          "name": "stdout",
          "text": [
            "La diferencia es de 6 días y 0 segundos. La diferencia total es de 518400.0 segundos\n"
          ]
        }
      ],
      "source": [
        "from datetime import datetime\n",
        "navidad = datetime.strptime(\"2024-12-25\", \"%Y-%m-%d\")\n",
        "fin_anio = datetime.strptime(\"2024-12-31\", \"%Y-%m-%d\")\n",
        "diferencia = fin_anio-navidad\n",
        "print(f\"La diferencia es de {diferencia.days} días y {diferencia.seconds} segundos. La diferencia total es de {diferencia.total_seconds()} segundos\")\n"
      ]
    },
    {
      "cell_type": "code",
      "source": [
        "from datetime import datetime, timedelta\n",
        "ahora = datetime.now()\n",
        "print(ahora)\n",
        "dentro_de_50_horas = ahora + timedelta(hours=50)\n",
        "diferencia = (dentro_de_50_horas-ahora)\n",
        "print(diferencia.total_seconds())\n",
        "print(diferencia.days)"
      ],
      "metadata": {
        "colab": {
          "base_uri": "https://localhost:8080/"
        },
        "id": "Q6XTq504rygd",
        "outputId": "121a4f8e-c0bd-47c6-fdef-c331af82c6a7"
      },
      "execution_count": null,
      "outputs": [
        {
          "output_type": "stream",
          "name": "stdout",
          "text": [
            "2024-08-07 02:37:29.321182\n",
            "180000.0\n",
            "2\n"
          ]
        }
      ]
    },
    {
      "cell_type": "code",
      "source": [
        "from datetime import datetime, timedelta\n",
        "\n",
        "def obtener_tiempo_transcurrido(segundos):\n",
        "  dias = int(segundos / 60 /60 / 24)\n",
        "  segundos -= dias * 60 * 60 * 24\n",
        "  horas = int(segundos / 60 / 60)\n",
        "  segundos -= horas*60*60\n",
        "  minutos = int(segundos/60)\n",
        "  segundos -= minutos*60\n",
        "  return f\"{dias} días, {horas} horas, {minutos} minutos y {segundos} segundos\"\n",
        "\n",
        "ahora = datetime.now()\n",
        "futuro = ahora + timedelta(hours=50, seconds=925)\n",
        "diferencia = futuro-ahora\n",
        "\n",
        "legible = obtener_tiempo_transcurrido(diferencia.total_seconds())\n",
        "print(legible)\n"
      ],
      "metadata": {
        "colab": {
          "base_uri": "https://localhost:8080/"
        },
        "id": "K04ZBaZvovK_",
        "outputId": "51606708-aade-4b23-acef-be609652dbc4"
      },
      "execution_count": null,
      "outputs": [
        {
          "output_type": "stream",
          "name": "stdout",
          "text": [
            "2 días, 2 horas, 15 minutos y 25.0 segundos\n"
          ]
        }
      ]
    },
    {
      "cell_type": "code",
      "source": [
        "from datetime import datetime\n",
        "horaingreso = input(\"Indica la hora de entrada (hh:mm:ss):\")\n",
        "horasalida = input (\"Indica la hora de salida (hh:mm:ss):\")\n",
        "\n",
        "time_1 = datetime.strptime(horaingreso, \"%H:%M:%S\")\n",
        "time_2 = datetime.strptime(horasalida, \"%H:%M:%S\")\n",
        "\n",
        "time_interval = time_2 - time_1\n",
        "print(time_interval)"
      ],
      "metadata": {
        "colab": {
          "base_uri": "https://localhost:8080/"
        },
        "id": "wr9ZoSKw2QRZ",
        "outputId": "2ec75a36-8982-4500-bd44-ec1bbe64319f"
      },
      "execution_count": null,
      "outputs": [
        {
          "output_type": "stream",
          "name": "stdout",
          "text": [
            "Indica la hora de entrada (hh:mm:ss):10:30:26\n",
            "Indica la hora de salida (hh:mm:ss):12:25:45\n",
            "1:55:19\n"
          ]
        }
      ]
    },
    {
      "cell_type": "code",
      "source": [
        "#Calculo de antiguedad laboral\n",
        "from datetime import datetime\n",
        "import calendar\n",
        "def calculoFecha (fcontrato):\n",
        "  try:\n",
        "    fcontrato = datetime.strptime(fcontrato, '%d/%m/%Y')\n",
        "  except:\n",
        "    print (\"La fecha no se encuentra en el formato adecuado (dd/mm/yyyy)\")\n",
        "    exit()\n",
        "  yearContrato= fcontrato.year\n",
        "  mounthContrato=  fcontrato.month\n",
        "  dayContrato= fcontrato.day\n",
        "  FechaActual = datetime.today()\n",
        "  yearActual = FechaActual.year\n",
        "  mounthActual=  FechaActual.month\n",
        "  dayActual= FechaActual.day\n",
        "  mesadicional =0\n",
        "  if dayContrato > dayActual:\n",
        "    ultimodia = calendar.monthrange(yearContrato,mounthContrato)[1]\n",
        "    dayActual = dayActual+ultimodia\n",
        "    mesadicional = 1\n",
        "  dias = dayActual - dayContrato\n",
        "  yearadicional = 0\n",
        "  if  mounthContrato > mounthActual:\n",
        "    mounthActual = mounthActual + 12\n",
        "    yearadicional = 1\n",
        "  meses = mounthActual - (mounthContrato + mesadicional)\n",
        "  years = yearActual - (yearContrato + yearadicional)\n",
        "  print (\"La antiguedad del colaborador es de \" + str(years) + \" Años \" +\n",
        "         str(meses)+ \" Meses \"  + str(dias)+ \" Dias\")\n",
        "  # -- Calculo de Fecha de Antiguedad Laboral\n",
        "fantiguedad = input (\"Ingresa la fecha de ingreso laboral (dd/mm/yyyy): \")\n",
        "print (\"Dato Capturado: \" + fantiguedad)\n",
        "calculoFecha(fantiguedad)"
      ],
      "metadata": {
        "colab": {
          "base_uri": "https://localhost:8080/"
        },
        "id": "21dw-qeS2yR6",
        "outputId": "bec37f93-6781-4894-a793-7922a5621f65"
      },
      "execution_count": null,
      "outputs": [
        {
          "output_type": "stream",
          "name": "stdout",
          "text": [
            "Ingresa la fecha de ingreso laboral (dd/mm/yyyy): 15/05/2004\n",
            "Dato Capturado: 15/05/2004\n",
            "La antiguedad del colaborador es de 20 Años 2 Meses 23 Dias\n"
          ]
        }
      ]
    },
    {
      "cell_type": "code",
      "source": [
        "#numero aleatorios\n",
        "from random import *\n",
        "\n",
        "n = random()\n",
        "n1 = randint(1,10)\n",
        "n2 = randrange(100)\n",
        "n3 = randrange(0,50,3)\n",
        "\n",
        "print(\"El numero obtenido es: \", n)\n",
        "print(\"El numero obtenido es: \", n1)\n",
        "print(\"El numero obtenido es: \", n2)\n",
        "print(\"El numero obtenido es: \", n3)"
      ],
      "metadata": {
        "colab": {
          "base_uri": "https://localhost:8080/"
        },
        "id": "wHOBgtoQ6N_7",
        "outputId": "c01bf445-10f2-4ab7-b43d-26f82f25e74b"
      },
      "execution_count": null,
      "outputs": [
        {
          "output_type": "stream",
          "name": "stdout",
          "text": [
            "El numero obtenido es:  0.38273752924731486\n",
            "El numero obtenido es:  9\n",
            "El numero obtenido es:  99\n",
            "El numero obtenido es:  3\n"
          ]
        }
      ]
    },
    {
      "cell_type": "code",
      "source": [
        "x=1\n",
        "cara=0\n",
        "sol=0\n",
        "n = int(input(\"Indica el numero de tiros a ejecutar: \"))\n",
        "while x<=n:\n",
        "  aleatorio = randint(0,1)\n",
        "  if aleatorio == 0:\n",
        "    print(\"La tira fue una: Cara\")\n",
        "    cara+=1\n",
        "  else:\n",
        "    print(\"La tira fue un: Sol\")\n",
        "    sol+=1\n",
        "  x+=1\n",
        "print(\"El numero de caras que salieron son: \", cara)\n",
        "print(\"El numero de soles que salieron son: \", sol)"
      ],
      "metadata": {
        "colab": {
          "base_uri": "https://localhost:8080/"
        },
        "id": "poGAbmh467jK",
        "outputId": "01dacd8f-1d91-45db-9e72-0debbc23c163"
      },
      "execution_count": null,
      "outputs": [
        {
          "output_type": "stream",
          "name": "stdout",
          "text": [
            "Indica el numero de tiros a ejecutar: 5\n",
            "La tira fue un: Sol\n",
            "La tira fue un: Sol\n",
            "La tira fue un: Sol\n",
            "La tira fue una: Cara\n",
            "La tira fue un: Sol\n",
            "El numero de caras que salieron son:  1\n",
            "El numero de soles que salieron son:  4\n"
          ]
        }
      ]
    },
    {
      "cell_type": "code",
      "source": [
        "from platform import platform, machine, processor, system, version\n",
        "print(platform())\n",
        "print(platform(1))\n",
        "print(platform(0,1))\n",
        "print(machine())\n",
        "print(processor())\n",
        "print(system())\n",
        "print(version())"
      ],
      "metadata": {
        "colab": {
          "base_uri": "https://localhost:8080/"
        },
        "id": "sgGR8b4w7YgU",
        "outputId": "2490b86c-c4a1-4282-c922-680dff88a9b0"
      },
      "execution_count": null,
      "outputs": [
        {
          "output_type": "stream",
          "name": "stdout",
          "text": [
            "Linux-6.1.85+-x86_64-with-glibc2.35\n",
            "Linux-6.1.85+-x86_64-with-glibc2.35\n",
            "Linux-6.1.85+-x86_64-with-glibc2.35\n",
            "x86_64\n",
            "x86_64\n",
            "Linux\n",
            "#1 SMP PREEMPT_DYNAMIC Thu Jun 27 21:05:47 UTC 2024\n"
          ]
        }
      ]
    },
    {
      "cell_type": "code",
      "source": [
        "from datetime import datetime\n",
        "dt=datetime.now()     #Fecha y hora actual\n",
        "print(dt)\n",
        "print(dt.year)        #Año\n",
        "print(dt.month)       #Mes\n",
        "print(dt.day)         #Dia\n",
        "print(dt.hour)        #Hora\n",
        "print(dt.minute)      #Minutos\n",
        "print(dt.second)      #Segundos\n",
        "print(dt.microsecond) #Microsegundos\n",
        "print(\"{}:{}:{}\".format(dt.hour, dt.minute, dt.second))\n",
        "print(\"{}:{}:{}\".format(dt.day, dt.month, dt.year))\n",
        "dt=datetime(2023,3,9)\n",
        "print(dt)\n",
        "dt=datetime(2023,8,10,20,27,23)\n",
        "print(dt)"
      ],
      "metadata": {
        "colab": {
          "base_uri": "https://localhost:8080/"
        },
        "id": "fw-UwTHC73cn",
        "outputId": "24ca72ea-cc16-4f62-de68-b8b4852affb8"
      },
      "execution_count": null,
      "outputs": [
        {
          "output_type": "stream",
          "name": "stdout",
          "text": [
            "2024-08-07 03:45:47.424029\n",
            "2024\n",
            "8\n",
            "7\n",
            "3\n",
            "45\n",
            "47\n",
            "424029\n",
            "3:45:47\n",
            "7:8:2024\n",
            "2023-03-09 00:00:00\n",
            "2023-08-10 20:27:23\n"
          ]
        }
      ]
    }
  ]
}