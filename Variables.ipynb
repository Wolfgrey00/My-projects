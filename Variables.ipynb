{
  "nbformat": 4,
  "nbformat_minor": 0,
  "metadata": {
    "colab": {
      "provenance": [],
      "authorship_tag": "ABX9TyNorZrwRj69IJExl1ufL5x4",
      "include_colab_link": true
    },
    "kernelspec": {
      "name": "python3",
      "display_name": "Python 3"
    },
    "language_info": {
      "name": "python"
    }
  },
  "cells": [
    {
      "cell_type": "markdown",
      "metadata": {
        "id": "view-in-github",
        "colab_type": "text"
      },
      "source": [
        "<a href=\"https://colab.research.google.com/github/Wolfgrey00/My-projects/blob/main/Variables.ipynb\" target=\"_parent\"><img src=\"https://colab.research.google.com/assets/colab-badge.svg\" alt=\"Open In Colab\"/></a>"
      ]
    },
    {
      "cell_type": "code",
      "execution_count": null,
      "metadata": {
        "colab": {
          "base_uri": "https://localhost:8080/"
        },
        "id": "HeOWySfDCMp2",
        "outputId": "c223ad0a-dff7-428c-d099-98c352c2e4bc"
      },
      "outputs": [
        {
          "output_type": "stream",
          "name": "stdout",
          "text": [
            "3 5 6\n",
            "El número total de manzanas es: 14\n"
          ]
        }
      ],
      "source": [
        "juan = 3\n",
        "maria = 5\n",
        "adan = 6\n",
        "print(juan, maria, adan)\n",
        "total_manzanas = juan+maria+adan\n",
        "print(\"El número total de manzanas es:\",total_manzanas)"
      ]
    },
    {
      "cell_type": "code",
      "source": [
        "kilometers = 12.25\n",
        "miles = 7.38\n",
        "\n",
        "miles_to_kilometers = miles*1.61\n",
        "kilometers_to_miles = kilometers/1.61\n",
        "\n",
        "print(miles, \"millas son\", round(miles_to_kilometers, 2), \"kilómetros\")\n",
        "print(kilometers, \"kilómetros son\", round(kilometers_to_miles, 2), \"millas\")"
      ],
      "metadata": {
        "colab": {
          "base_uri": "https://localhost:8080/"
        },
        "id": "9isEto80D6bH",
        "outputId": "4bfe1048-d609-40d1-8a9d-38ca06699ad8"
      },
      "execution_count": null,
      "outputs": [
        {
          "output_type": "stream",
          "name": "stdout",
          "text": [
            "7.38 millas son 11.88 kilómetros\n",
            "12.25 kilómetros son 7.61 millas\n"
          ]
        }
      ]
    },
    {
      "cell_type": "code",
      "source": [
        "x = -1\n",
        "x = float(x)\n",
        "y = 3*x**3-2*x**2+3*x-1\n",
        "print(\"y =\", y)"
      ],
      "metadata": {
        "colab": {
          "base_uri": "https://localhost:8080/"
        },
        "id": "Zrh9Q2ubHq-p",
        "outputId": "de66cbd1-a565-4222-ba13-8a8e036a4f47"
      },
      "execution_count": null,
      "outputs": [
        {
          "output_type": "stream",
          "name": "stdout",
          "text": [
            "y = -9.0\n"
          ]
        }
      ]
    },
    {
      "cell_type": "markdown",
      "source": [
        "Comentarios"
      ],
      "metadata": {
        "id": "HMtZ97TIMYfo"
      }
    },
    {
      "cell_type": "code",
      "source": [
        "# Calcula los segundos en cierto número de horas\n",
        "\n",
        "Hours = 2\n",
        "seconds_per_Hour = 3600\n",
        "\n",
        "print(\"Horas: \", Hours) #imprime el numero de horas\n",
        "print(\"Segundos en Horas: \",Hours * seconds_per_Hour) # se imprime el numero de segundos que pasan en una derterminada cantidad de horas\n",
        "print(\"Adiós\")\n",
        "#Fin del código"
      ],
      "metadata": {
        "id": "0xx9mOBOMaCD"
      },
      "execution_count": null,
      "outputs": []
    },
    {
      "cell_type": "code",
      "source": [
        "anything = input(\"Dime algo...\")\n",
        "print(\"Mmm...\", anything, \"...¿En serio?\")"
      ],
      "metadata": {
        "id": "9kDfkP5uQJUA",
        "outputId": "d7ac39d1-1a38-4ea7-d2e8-6483b67949e2",
        "colab": {
          "base_uri": "https://localhost:8080/"
        }
      },
      "execution_count": null,
      "outputs": [
        {
          "output_type": "stream",
          "name": "stdout",
          "text": [
            "Dime algo...Jajaja\n",
            "Mmm... Jajaja ...¿En serio?\n"
          ]
        }
      ]
    }
  ]
}