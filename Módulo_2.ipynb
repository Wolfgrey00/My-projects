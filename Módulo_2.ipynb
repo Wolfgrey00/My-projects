{
  "nbformat": 4,
  "nbformat_minor": 0,
  "metadata": {
    "colab": {
      "provenance": [],
      "toc_visible": true,
      "authorship_tag": "ABX9TyPVNasxQAhl/oDtz7I+HcoN",
      "include_colab_link": true
    },
    "kernelspec": {
      "name": "python3",
      "display_name": "Python 3"
    },
    "language_info": {
      "name": "python"
    }
  },
  "cells": [
    {
      "cell_type": "markdown",
      "metadata": {
        "id": "view-in-github",
        "colab_type": "text"
      },
      "source": [
        "<a href=\"https://colab.research.google.com/github/Wolfgrey00/My-projects/blob/main/M%C3%B3dulo_2.ipynb\" target=\"_parent\"><img src=\"https://colab.research.google.com/assets/colab-badge.svg\" alt=\"Open In Colab\"/></a>"
      ]
    },
    {
      "cell_type": "markdown",
      "source": [
        "# Ejercicios"
      ],
      "metadata": {
        "id": "_W9ummnBJ9Ea"
      }
    },
    {
      "cell_type": "markdown",
      "source": [
        "Ejercicio 2.2.1.6 La naturaleza de las cadenas en Python"
      ],
      "metadata": {
        "id": "tGx96yWbDWWs"
      }
    },
    {
      "cell_type": "code",
      "source": [
        "#Indexando cadenas\n",
        "\n",
        "the_string = 'silly walks'\n",
        "\n",
        "for ix in range(len(the_string)):\n",
        "    print(the_string[ix], end=' ')\n",
        "\n",
        "print()"
      ],
      "metadata": {
        "id": "ogEzCgbgCuDR"
      },
      "execution_count": null,
      "outputs": []
    },
    {
      "cell_type": "code",
      "source": [
        "#Iterando a través de una cadena\n",
        "\n",
        "the_string = 'silly walks'\n",
        "\n",
        "for character in the_string:\n",
        "    print(character, end=' ')\n",
        "\n",
        "print()"
      ],
      "metadata": {
        "id": "2mqjqcsyDN6F"
      },
      "execution_count": null,
      "outputs": []
    },
    {
      "cell_type": "markdown",
      "source": [
        "Ejercicio 2.2.1.8"
      ],
      "metadata": {
        "id": "WYYFQ-KlFrE3"
      }
    },
    {
      "cell_type": "code",
      "source": [
        "alphabet = \"abcdefghijklmnopqrstuvwxyz\"\n",
        "\n",
        "print(\"f\" in alphabet)\n",
        "print(\"F\" in alphabet)\n",
        "print(\"1\" in alphabet)\n",
        "print(\"ghi\" in alphabet)\n",
        "print(\"Xyz\" in alphabet)"
      ],
      "metadata": {
        "id": "pSuSueoFFMVx"
      },
      "execution_count": null,
      "outputs": []
    },
    {
      "cell_type": "code",
      "source": [
        "alphabet = \"abcdefghijklmnopqrstuvwxyz\"\n",
        "\n",
        "print(\"f\" not in alphabet)\n",
        "print(\"F\" not in alphabet)\n",
        "print(\"1\" not in alphabet)\n",
        "print(\"ghi\" not in alphabet)\n",
        "print(\"Xyz\" not in alphabet)\n",
        "#"
      ],
      "metadata": {
        "id": "4x8vf6z4FXRQ"
      },
      "execution_count": null,
      "outputs": []
    },
    {
      "cell_type": "markdown",
      "source": [
        "Ejercicio 2.2.1.9"
      ],
      "metadata": {
        "id": "ziG00d_KFx3Z"
      }
    },
    {
      "cell_type": "code",
      "source": [
        "alphabet = \"abcdefghijklmnopqrstuvwxyz\"\n",
        "\n",
        "del alphabet[0] #Ocasionará una excepción"
      ],
      "metadata": {
        "id": "iXgpD4sCF1fw"
      },
      "execution_count": null,
      "outputs": []
    },
    {
      "cell_type": "code",
      "source": [
        "alphabet = \"abcdefghijklmnopqrstuvwxyz\"\n",
        "\n",
        "alphabet.append(\"A\") #Ocasionará una excepción"
      ],
      "metadata": {
        "id": "mcbhvpSrGnSw"
      },
      "execution_count": null,
      "outputs": []
    },
    {
      "cell_type": "code",
      "source": [
        "alphabet = \"abcdefghijklmnopqrstuvwxyz\"\n",
        "\n",
        "alphabet.insert(0, \"A\") #Ocasionará una excepción"
      ],
      "metadata": {
        "id": "8tsOqQHwGsYc"
      },
      "execution_count": null,
      "outputs": []
    },
    {
      "cell_type": "markdown",
      "source": [
        "Ejercicio 2.4.1.1 Cadenas en acción"
      ],
      "metadata": {
        "id": "8miBnABeqbAK"
      }
    },
    {
      "cell_type": "code",
      "source": [
        "print('alpha' == 'alpha')\n",
        "print('alpha' != 'Alpha')\n",
        "\n",
        "print('alpha' < 'alphabet') #En este caso se mide la longitud\n",
        "print('beta' > 'Beta') #Las letras mayusculas se consideeran menores que las minusculas"
      ],
      "metadata": {
        "id": "n3hBs2srpkC9"
      },
      "execution_count": null,
      "outputs": []
    },
    {
      "cell_type": "markdown",
      "source": [
        "Ejercicio 2.4.1.2 Cadenas en acción"
      ],
      "metadata": {
        "id": "6YtaXw3gsKk4"
      }
    },
    {
      "cell_type": "code",
      "source": [
        "print('10' == '010')\n",
        "print('10' > '010')\n",
        "print('10' > '8')\n",
        "print('20' < '8')\n",
        "print('20' < '80')\n",
        "print('10' == 10)\n",
        "print('10' != 10)\n",
        "print('10' == 1)\n",
        "print('10' != 1)\n",
        "print('10' > 10)"
      ],
      "metadata": {
        "id": "o-9vHWKRsQxm"
      },
      "execution_count": null,
      "outputs": []
    },
    {
      "cell_type": "markdown",
      "source": [
        "Ejercicio 2.4.1.4 Cadenas en acción"
      ],
      "metadata": {
        "id": "lr17z0WIu0vt"
      }
    },
    {
      "cell_type": "code",
      "source": [
        "itg = 13\n",
        "flt = 1.3\n",
        "si = str(itg)\n",
        "sf = str(flt)\n",
        "\n",
        "print(si + ' ' + sf)\n",
        "\n",
        "si = '13'\n",
        "sf = '1.3'\n",
        "itg = int(si)\n",
        "flt = float(sf) #El valor tiene que ser válido\n",
        "\n",
        "print(itg + flt)\n"
      ],
      "metadata": {
        "id": "1EMmNLyKu5WV"
      },
      "execution_count": null,
      "outputs": []
    },
    {
      "cell_type": "markdown",
      "source": [
        "Analisis 2.5.1.4 Ejemplos IBAN"
      ],
      "metadata": {
        "id": "wpN4_3xJC7Fh"
      }
    },
    {
      "cell_type": "code",
      "source": [
        "#Validador IBAN\n",
        "\n",
        "iban = input(\"Ingresa un IBAN, por favor: \") #Se le pide al usuario ingresar el iban\n",
        "iban = iban.replace(' ','') #Se eliminan los espacios ingresados en el IBAN\n",
        "\n",
        "if not iban.isalnum(): #Se verifica que los valores sean alfanuméricos\n",
        "    print(\"Has introducido caracteres no válidos.\") #En el caso de que no lo sea\n",
        "elif len(iban) < 15: #Se verifica que sea mayor a 15\n",
        "    print(\"El IBAN ingresado es demasiado corto.\") #En el caso de que no lo sea\n",
        "elif len(iban) > 31: #Se verifica que sea menor a 31\n",
        "    print(\"El IBAN ingresado es demasiado largo.\") #En el caso de que no lo sea\n",
        "else: #Si todo lo anterior no se cumple, se empieza con la verificación\n",
        "    iban = (iban[4:] + iban[0:4]).upper() #Se concatenan los valores del quinto hasta el último con del primero al cuarto, aparte se colocan todas las letras en mayusculas\n",
        "    iban2 = '' # Se tiene otra variable vacía lista para la nueva secuencia\n",
        "    for ch in iban: #Se pasa por cada valor con el bucle for\n",
        "        if ch.isdigit(): # Se verifica que el caracter en cuestión sea un dígito\n",
        "            iban2 += ch #Si lo es, se concatena a la variable, ya que sigue siendo un string, no un entero\n",
        "        else: #En el caso de que sea una letra\n",
        "            iban2 += str(10 + ord(ch) - ord('A')) #Se le cambia el valor a la letra de la forma que A tenga un valor de 10, en este caso, se le hace una resta, el valor de ASCII de la letra que toque sera restado por el valor de A, a la resta se le sumará 10, si la letra es A, su valor será 65, por lo que sería 65 - 65 = 0 + 10 = 10, y así sucesivamente\n",
        "    iban = int(iban2) #El valor que se obtuvo en iban2 se transforma a entero y se le vuelve a asignar a la variable iban, eliminando la variable original en el proceso\n",
        "    if iban % 97 == 1: # Con el valor ya transforma a entero, ya se puede realizar la operación qe nos piden, en el que el residuo del iban hecho número dividido entre 97, tiene que ser igual a 1\n",
        "        print(\"El IBAN ingresado es válido.\") #En el caso de que lo sea va a imprimir el siguiente mensaje\n",
        "    else: #En el caso de que no lo sea\n",
        "        print(\"El IBAN ingresado no es válido.\") #Imprimirá este mensaje"
      ],
      "metadata": {
        "id": "sc4a7K1YfwX2"
      },
      "execution_count": null,
      "outputs": []
    },
    {
      "cell_type": "markdown",
      "source": [
        "# Laboratorios"
      ],
      "metadata": {
        "id": "NnAb23baKDOa"
      }
    },
    {
      "cell_type": "markdown",
      "source": [
        "Ejercicio 2.3.1.18 Tu propio split"
      ],
      "metadata": {
        "id": "6lcMJKDkjtbq"
      }
    },
    {
      "cell_type": "code",
      "source": [
        "def mysplit(strng):\n",
        "  lista = []\n",
        "  palabra = \"\"\n",
        "  strng = strng.strip()\n",
        "  if strng.isspace() == True:\n",
        "    return lista\n",
        "  elif strng == \"\":\n",
        "    return lista\n",
        "  else:\n",
        "    for i in range(len(strng)):\n",
        "      if strng[i] != \" \":\n",
        "        palabra = palabra + strng[i]\n",
        "      else:\n",
        "        lista.append(palabra)\n",
        "        palabra = \"\"\n",
        "  lista.append(palabra)\n",
        "  return lista\n",
        "\n",
        "\n",
        "print(mysplit(\"Ser o no ser, esa es la pregunta\"))\n",
        "print(mysplit(\"Ser o no ser,esa es la pregunta\"))\n",
        "print(mysplit(\"   \"))\n",
        "print(mysplit(\" abc \"))\n",
        "print(mysplit(\"\"))"
      ],
      "metadata": {
        "id": "rEL3mckMkYXl"
      },
      "execution_count": null,
      "outputs": []
    },
    {
      "cell_type": "markdown",
      "source": [
        "Laboratorio 2.4.1.6 Un Display LED"
      ],
      "metadata": {
        "id": "ie8G9oo1xT0g"
      }
    },
    {
      "cell_type": "code",
      "source": [
        "numero = input()\n",
        "patron_final = \"\"\n",
        "numeros = (('###','# #','# #','# #','###'),\n",
        "    ('  #','  #','  #','  #','  #'),\n",
        "    ('###','  #','###','#  ','###'),\n",
        "    ('###','  #','###','  #','###'),\n",
        "    ('# #','# #','###','  #','  #'),\n",
        "    ('###','#  ','###','  #','###'),\n",
        "    ('###','#  ','###','# #','###'),\n",
        "    ('###','  #','  #','  #','  #'),\n",
        "    ('###','# #','###','# #','###'),\n",
        "    ('###','# #','###','  #','###'))\n",
        "for i in range(5):\n",
        "  for j in range(len(numero)):\n",
        "    print(numeros[int(numero[j])][i], end = \" \")\n",
        "  print()\n",
        "\n"
      ],
      "metadata": {
        "id": "5b4kUbdJ9GHX"
      },
      "execution_count": null,
      "outputs": []
    },
    {
      "cell_type": "markdown",
      "source": [
        "Laboratirio 2.5.1.4 Leer enteros de forma segura"
      ],
      "metadata": {
        "id": "KDVQ9ETx5VuG"
      }
    },
    {
      "cell_type": "code",
      "source": [
        "def read_int(prompt, min, max):\n",
        "    while True:\n",
        "      try:\n",
        "          x = int(input(prompt))\n",
        "          assert x >= min and x <= max\n",
        "          return x\n",
        "          break\n",
        "      except ValueError:\n",
        "          print(\"Error: entrada incorrecta\")\n",
        "      except AssertionError:\n",
        "          print(\"Error: el valor no está dentro del rango permitido (\" + str(min) + \" - \" + str(max) + \")\")\n",
        "\n",
        "v = read_int(\"Ingresa un número entre -10 a 10: \", -10, 10)\n",
        "\n",
        "print(\"El número es:\", v)"
      ],
      "metadata": {
        "id": "5Gi9u3VE6dC7"
      },
      "execution_count": null,
      "outputs": []
    },
    {
      "cell_type": "markdown",
      "source": [
        "# Anotaciones"
      ],
      "metadata": {
        "id": "FlDJ69xhKGq4"
      }
    },
    {
      "cell_type": "markdown",
      "source": [
        "La naturaleza de las cadenas en Python"
      ],
      "metadata": {
        "id": "OdzRWOlfKPCw"
      }
    },
    {
      "cell_type": "code",
      "execution_count": null,
      "metadata": {
        "id": "87OAKPwyim1X"
      },
      "outputs": [],
      "source": [
        "word = 'by'\n",
        "print(len(word))\n",
        "\n",
        "empty = ''\n",
        "print(len(empty))\n",
        "\n",
        "i_am = 'I\\'m'\n",
        "print(len(i_am))\n"
      ]
    },
    {
      "cell_type": "code",
      "source": [
        "multiline = '''Line 1\n",
        "Line 2\n",
        "Line 3'''\n",
        "print(len(multiline))"
      ],
      "metadata": {
        "id": "ownUQrQ6lOyB"
      },
      "execution_count": null,
      "outputs": []
    },
    {
      "cell_type": "code",
      "source": [
        "str1 = 'a'\n",
        "str2 = 'b'\n",
        "\n",
        "print(str1 + str2)\n",
        "print(str2 + str1)\n",
        "print(5 * 'a')\n",
        "print('b' * 4)\n"
      ],
      "metadata": {
        "id": "wRYC9BQWn0aR"
      },
      "execution_count": null,
      "outputs": []
    },
    {
      "cell_type": "code",
      "source": [
        "char_1 = 'a'\n",
        "char_2 = ' '\n",
        "\n",
        "print(ord(char_1))\n",
        "print(ord(char_2))"
      ],
      "metadata": {
        "id": "labJPqbKopIK"
      },
      "execution_count": null,
      "outputs": []
    },
    {
      "cell_type": "code",
      "source": [
        "print(chr(97))\n",
        "print(chr(945))"
      ],
      "metadata": {
        "id": "ecuIoFwSpp0T"
      },
      "execution_count": null,
      "outputs": []
    },
    {
      "cell_type": "code",
      "source": [
        "#Rebanadas\n",
        "\n",
        "alpha = \"abdefg\"\n",
        "\n",
        "print(alpha[1:3])\n",
        "print(alpha[3:])\n",
        "print(alpha[:3])\n",
        "print(alpha[3:-2])\n",
        "print(alpha[-3:4])\n",
        "print(alpha[::2])\n",
        "print(alpha[1::2])"
      ],
      "metadata": {
        "id": "eckXDPSlEpg3"
      },
      "execution_count": null,
      "outputs": []
    },
    {
      "cell_type": "code",
      "source": [
        "alphabet = \"bcdefghijklmnopqrstuvwxy\"\n",
        "\n",
        "alphabet = \"a\" + alphabet\n",
        "alphabet = alphabet + \"z\"\n",
        "\n",
        "print(alphabet)"
      ],
      "metadata": {
        "id": "v8GksA2fG2qL"
      },
      "execution_count": null,
      "outputs": []
    },
    {
      "cell_type": "code",
      "source": [
        "print(min(\"aAbByYzZ\"))\n",
        "\n",
        "t = 'Los Caballeros Que Dicen \"¡Ni!\"'\n",
        "print('[' + min(t) + ']')\n",
        "\n",
        "t = [0, 1, 2]\n",
        "print(min(t))"
      ],
      "metadata": {
        "id": "Fyj0kvELJu9r"
      },
      "execution_count": null,
      "outputs": []
    },
    {
      "cell_type": "code",
      "source": [
        "print(max(\"aAbByYzZ\"))\n",
        "\n",
        "t = 'Los Caballeros Que Dicen \"¡Ni!\"'\n",
        "print('[' + max(t) + ']')\n",
        "\n",
        "t = [0, 1, 2]\n",
        "print(max(t))\n",
        "#"
      ],
      "metadata": {
        "id": "89qyxjX2Kztj"
      },
      "execution_count": null,
      "outputs": []
    },
    {
      "cell_type": "code",
      "source": [
        "#Demostrando el método index()\n",
        "print(\"aAbByYzZaA\".index(\"b\"))\n",
        "print(\"aAbByYzZaA\".index(\"Z\"))\n",
        "print(\"aAbByYzZaA\".index(\"A\"))"
      ],
      "metadata": {
        "id": "GDv_LTyWL7Wv"
      },
      "execution_count": null,
      "outputs": []
    },
    {
      "cell_type": "code",
      "source": [
        "#Demostración de la función list():\n",
        "print(list(\"abcabc\"))\n",
        "\n",
        "#Demostración del método count()\n",
        "print(\"abcabc\".count(\"b\"))\n",
        "print('abcabc'.count(\"d\"))"
      ],
      "metadata": {
        "id": "VnyirJgiMlwp"
      },
      "execution_count": null,
      "outputs": []
    },
    {
      "cell_type": "markdown",
      "source": [
        "Métodos de cadenas"
      ],
      "metadata": {
        "id": "0I_7s4hMLxN4"
      }
    },
    {
      "cell_type": "code",
      "source": [
        "# Demostración del método capitaliza():\n",
        "print(\"aBcD\".capitalize())\n",
        "print(\"Alpha\".capitalize())\n",
        "print('ALPHA'.capitalize())\n",
        "print(' Alpha'.capitalize())\n",
        "print('123'.capitalize())\n",
        "print(\"αβγδ\".capitalize())"
      ],
      "metadata": {
        "id": "X_c7ZpUEP2e_"
      },
      "execution_count": null,
      "outputs": []
    },
    {
      "cell_type": "code",
      "source": [
        "# Demostración del método center():\n",
        "print('[' + 'alpha'.center(10) + ']')\n",
        "print('[' + 'Beta'.center(2) + ']')\n",
        "print('[' + 'Beta'.center(4) + ']')\n",
        "print('[' + 'Beta'.center(6) + ']')\n",
        "print('[' + 'gamma'.center(20, '*') + ']')\n"
      ],
      "metadata": {
        "id": "rjrqewLHQzkS"
      },
      "execution_count": null,
      "outputs": []
    },
    {
      "cell_type": "code",
      "source": [
        "# Demostración del método endswitch():\n",
        "if \"epsilon\".endswith(\"on\"):\n",
        "    print(\"si\")\n",
        "else:\n",
        "    print(\"no\")\n",
        "\n",
        "t = \"zeta\"\n",
        "print(t.endswith(\"a\"))\n",
        "print(t.endswith(\"A\"))\n",
        "print(t.endswith(\"et\"))\n",
        "print(t.endswith(\"eta\"))"
      ],
      "metadata": {
        "id": "35TSRp6zRh4V"
      },
      "execution_count": null,
      "outputs": []
    },
    {
      "cell_type": "code",
      "source": [
        "# Demostración del método find():\n",
        "print(\"Eta\".find(\"ta\"))\n",
        "print(\"Eta\".find(\"mma\"))\n",
        "\n",
        "t = 'theta'\n",
        "print(t.find('eta'))\n",
        "print(t.find('et'))\n",
        "print(t.find('the'))\n",
        "print(t.find('ha'))"
      ],
      "metadata": {
        "id": "4j2C_MllTlHe"
      },
      "execution_count": null,
      "outputs": []
    },
    {
      "cell_type": "code",
      "source": [
        "the_text = \"\"\"A variation of the ordinary lorem ipsum\n",
        "text has been used in typesetting since the 1960s\n",
        "or earlier, when it was popularized by advertisements\n",
        "for Letraset transfer sheets. It was introduced to\n",
        "the Information Age in the mid-1980s by the Aldus Corporation,\n",
        "which employed it in graphics and word-processing templates\n",
        "for its desktop publishing program PageMaker (from Wikipedia)\"\"\"\n",
        "\n",
        "fnd = the_text.find('the')\n",
        "while fnd != -1:\n",
        "    print(fnd)\n",
        "    fnd = the_text.find('the', fnd + 1)\n",
        "#"
      ],
      "metadata": {
        "id": "Ns6Wvhx8TzTO"
      },
      "execution_count": null,
      "outputs": []
    },
    {
      "cell_type": "code",
      "source": [
        "print('kappa'.find('a', 1, 4))\n",
        "print('kappa'.find('a', 2, 4))\n",
        "\n",
        "#"
      ],
      "metadata": {
        "id": "RY9R4K7sUCgC"
      },
      "execution_count": null,
      "outputs": []
    },
    {
      "cell_type": "code",
      "source": [
        "# Demostración del método the isalnum()\n",
        "print('lambda30'.isalnum())\n",
        "print('lambda'.isalnum())\n",
        "print('30'.isalnum())\n",
        "print('@'.isalnum())\n",
        "print('lambda_30'.isalnum())\n",
        "print(''.isalnum())"
      ],
      "metadata": {
        "id": "o6xYiw71WvvS"
      },
      "execution_count": null,
      "outputs": []
    },
    {
      "cell_type": "code",
      "source": [
        "t = 'Six lambdas'\n",
        "print(t.isalnum())\n",
        "\n",
        "t = 'ΑβΓδ'\n",
        "print(t.isalnum())\n",
        "\n",
        "t = '20E1'\n",
        "print(t.isalnum())"
      ],
      "metadata": {
        "id": "NlS6rLg2W3X0"
      },
      "execution_count": null,
      "outputs": []
    },
    {
      "cell_type": "code",
      "source": [
        "# Demostración del método isalpha():\n",
        "print(\"Moooo\".isalpha())\n",
        "print('Mu40'.isalpha())\n",
        "\n",
        "# Demostración del método isdigit():\n",
        "print('2018'.isdigit())\n",
        "print(\"Year2019\".isdigit())"
      ],
      "metadata": {
        "id": "dEwfJbQmXQr0"
      },
      "execution_count": null,
      "outputs": []
    },
    {
      "cell_type": "code",
      "source": [
        "# Demostración del método islower():\n",
        "print(\"Moooo\".islower())\n",
        "print('moooo'.islower())\n",
        "\n",
        "# Demostración del método isspace():\n",
        "print(' \\n '.isspace())\n",
        "print(\" \".isspace())\n",
        "print(\"mooo mooo mooo\".isspace())\n",
        "\n",
        "# Demostración del método isupper():\n",
        "print(\"Moooo\".isupper())\n",
        "print('moooo'.isupper())\n",
        "print('MOOOO'.isupper())"
      ],
      "metadata": {
        "id": "QaA-dslKYSTV"
      },
      "execution_count": null,
      "outputs": []
    },
    {
      "cell_type": "code",
      "source": [
        "# Demostración del método join():\n",
        "print(\",\".join([\"omicron\", \"pi\", \"rho\"]))"
      ],
      "metadata": {
        "id": "Vev3RyudZXxJ"
      },
      "execution_count": null,
      "outputs": []
    },
    {
      "cell_type": "code",
      "source": [
        "# Demostración del método lower():\n",
        "print(\"SiGmA=60\".lower())"
      ],
      "metadata": {
        "id": "n-2aAdZaaFs9"
      },
      "execution_count": null,
      "outputs": []
    },
    {
      "cell_type": "code",
      "source": [
        "# Demostración del método lstrip()\n",
        "print(\"[\" + \" tau \".lstrip() + \"]\")\n",
        "\n",
        "print(\"www.cisco.com\".lstrip(\"w.\"))\n",
        "\n",
        "print(\"pythoninstitute.org\".lstrip(\".org\"))"
      ],
      "metadata": {
        "id": "7JuUT62Oa8gL"
      },
      "execution_count": null,
      "outputs": []
    },
    {
      "cell_type": "code",
      "source": [
        "# Demostración del método replace():\n",
        "print(\"www.netacad.com\".replace(\"netacad.com\", \"pythoninstitute.org\"))\n",
        "print(\"This is it!\".replace(\"is\", \"are\"))\n",
        "print(\"Apple juice\".replace(\"juice\", \"\"))\n",
        "\n",
        "print(\"This is it!\".replace(\"is\", \"are\", 1))\n",
        "print(\"This is it!\".replace(\"is\", \"are\", 2))\n",
        "#"
      ],
      "metadata": {
        "id": "vzqgX9bydqBJ"
      },
      "execution_count": null,
      "outputs": []
    },
    {
      "cell_type": "code",
      "source": [
        "# Demostración del método rfind():\n",
        "print(\"tau tau tau\".rfind(\"ta\"))\n",
        "print(\"tau tau tau\".rfind(\"ta\", 9))\n",
        "print(\"tau tau tau\".rfind(\"ta\", 3, 9))"
      ],
      "metadata": {
        "id": "tGJUjD1VeQ4f"
      },
      "execution_count": null,
      "outputs": []
    },
    {
      "cell_type": "code",
      "source": [
        "# Demostración del método rstrip():\n",
        "print(\"[\" + \" upsilon \".rstrip() + \"]\")\n",
        "print(\"cisco.com\".rstrip(\".com\"))"
      ],
      "metadata": {
        "id": "9rumvCLieqDp"
      },
      "execution_count": null,
      "outputs": []
    },
    {
      "cell_type": "code",
      "source": [
        "# Demostración del método split():\n",
        "print(\"phi       chi\\npsi\".split())"
      ],
      "metadata": {
        "id": "ixCHsOJ5ft-T"
      },
      "execution_count": null,
      "outputs": []
    },
    {
      "cell_type": "code",
      "source": [
        "# Demostración del método startswitch():\n",
        "print(\"omega\".startswith(\"meg\"))\n",
        "print(\"omega\".startswith(\"om\"))\n",
        "\n",
        "print()\n",
        "\n",
        "# Demostración del método strip():\n",
        "print(\"[\" + \"   aleph   \".strip() + \"]\")"
      ],
      "metadata": {
        "id": "ZGhPUdtogRTN"
      },
      "execution_count": null,
      "outputs": []
    },
    {
      "cell_type": "code",
      "source": [
        "# Demostración del método swapcase():\n",
        "print(\"Yo sé que no sé nada.\".swapcase())\n",
        "\n",
        "print()\n",
        "\n",
        "# Demostración del método title():\n",
        "print(\"Yo sé que no sé nada. Parte 1.\".title())\n",
        "\n",
        "print()\n",
        "\n",
        "print(\"Yo sé que no sé nada. Parte 2.\".title())\n",
        "\n",
        "print()\n",
        "\n",
        "# Demostración del método upper():\n",
        "print(\"Yo sé que no sé nada. Parte 3.\".upper())"
      ],
      "metadata": {
        "id": "_vTLgkvEhcGx"
      },
      "execution_count": null,
      "outputs": []
    },
    {
      "cell_type": "markdown",
      "source": [
        "Cadenas en Acción"
      ],
      "metadata": {
        "id": "KFuvt5WXtMyg"
      }
    },
    {
      "cell_type": "code",
      "source": [
        "# Demostración de la función sorted():\n",
        "first_greek = ['omega', 'alfa', 'pi', 'gama']\n",
        "first_greek_2 = sorted(first_greek)\n",
        "\n",
        "print(first_greek)\n",
        "print(first_greek_2)\n",
        "\n",
        "print()\n",
        "\n",
        "# Demostración del método sort():\n",
        "second_greek = ['omega', 'alfa', 'pi', 'gama']\n",
        "print(second_greek)\n",
        "\n",
        "second_greek.sort()\n",
        "print(second_greek)"
      ],
      "metadata": {
        "id": "5_LWO8CxtaNu"
      },
      "execution_count": null,
      "outputs": []
    },
    {
      "cell_type": "markdown",
      "source": [
        "Cuatro Programas Simples"
      ],
      "metadata": {
        "id": "e6yU6QvAOd4-"
      }
    },
    {
      "cell_type": "code",
      "source": [
        "# Cifrado César\n",
        "text = input(\"Ingresa tu mensaje: \") #Se ingresa el mensaje y se almacena en la variable text\n",
        "cifrado = '' #Se crea una nueva variable para almacenar la cadena cifrada\n",
        "for char in text: #Se crea un bucle for para cada una de las letras en el texto\n",
        "    if not char.isalpha(): #Se verifica que el caracter sea alfabético o no\n",
        "        continue #De ser el caso, se omite\n",
        "    char = char.upper() #Se convierte a mayúsculas\n",
        "    code = ord(char) + 1 #Se obtiene el código de la letra y se le incrementa en uno\n",
        "    if code > ord('Z'): #En el caso de que la letra haya salido del abecedario, prosigue\n",
        "        code = ord('A') #Y se le asigna automáticamente la letra A\n",
        "    cifrado += chr(code) #Cada letra codificada se añade a la variable cifrado\n",
        "\n",
        "print(cifrado) #Se imprime dicha variable en la consola"
      ],
      "metadata": {
        "id": "8PHeoBLuDCsn"
      },
      "execution_count": null,
      "outputs": []
    },
    {
      "cell_type": "code",
      "source": [
        "#Cifrado César - descifrar un mensaje\n",
        "#Se hace casi exactamente lo mismo, con excepción de una que otra línea de código\n",
        "cifrado = input('Ingresa tu criptograma: ')\n",
        "text = ''\n",
        "for char in cifrado:\n",
        "    if not char.isalpha():\n",
        "        continue\n",
        "    char = char.upper()\n",
        "    code = ord(char) - 1 #En este caso, en lugar de aumentar un valor para ir a la siguiente letra, se va a restar, para que esta regresa a como estaba\n",
        "    if code < ord('A'): #En este caso se checa del otro lado del alfabeto y si esta es A\n",
        "        code = ord('Z') #Se cambiará a Z\n",
        "    text += chr(code)\n",
        "\n",
        "print(text) #Aquí se imprime el código, con la cuestión de que se pierden los espacios del texto original, quedando todo junto"
      ],
      "metadata": {
        "id": "K7pWWULNXtPg"
      },
      "execution_count": null,
      "outputs": []
    },
    {
      "cell_type": "code",
      "source": [
        "#Procesador de Números\n",
        "\n",
        "line = input(\"Ingresa una línea de números, separados por espacios: \") # Se ingresa la línea de números\n",
        "strings = line.split() #Se separa en varios subconjuntos\n",
        "total = 0 #Se define una variable para la suma y se le asigna un valor de 0\n",
        "try: #En el caso de que haya un error por transformar las palabras a flotantes, se le agrega un bloque preventivo de try-except\n",
        "  if len(strings) == 0: #Se verifica que la línea no este vacía\n",
        "    print(\"La línea no tiene números.\") #En el caso de que lo este, se va a imprimir en pantalla este mensaje\n",
        "  else: #De lo contrario\n",
        "    for substr in strings: #Va a realizar un bucle for analizando cada valor\n",
        "        total += float(substr) #El número se va a transformar a flotante y se le va a sumar a la variable total\n",
        "    print(\"El total es:\", total) #Va imprimir el texto junto con la suma total de los valores en formato de flotante\n",
        "except: #En el caso de que haya algún error\n",
        "    print(substr, \"no es un numero.\") #Imprime el valor con el que se tuvo el error y se especifica que no es un número"
      ],
      "metadata": {
        "id": "UydNW3wybKQt"
      },
      "execution_count": null,
      "outputs": []
    },
    {
      "cell_type": "markdown",
      "source": [
        "Errores: el pan diario del programador"
      ],
      "metadata": {
        "id": "PUmtc7IQoK4A"
      }
    },
    {
      "cell_type": "code",
      "source": [
        "import math\n",
        "\n",
        "x = float(input(\"Ingresa un número: \")) #Si se ingresan letras puede generar error\n",
        "y = math.sqrt(x) #Si el número es negativo ocasionará otro error\n",
        "print(\"La raíz cuadrada de\", x, \"es\", y)\n"
      ],
      "metadata": {
        "id": "LxHTQ6TNoM-a"
      },
      "execution_count": null,
      "outputs": []
    },
    {
      "cell_type": "code",
      "source": [
        "#Sin Try-Except\n",
        "first_number = int(input(\"Ingresa un número entero: \"))\n",
        "second_number = int(input(\"Ingresa otro número entero: \"))\n",
        "\n",
        "if second_number != 0:\n",
        "    print(first_number / second_number)\n",
        "else:\n",
        "    print(\"No se puede dividir por cero, ¡dividido por uno!\")\n",
        "\n",
        "print(\"El programa ha terminado\")"
      ],
      "metadata": {
        "id": "n1n9XxpKpmfh"
      },
      "execution_count": null,
      "outputs": []
    },
    {
      "cell_type": "code",
      "source": [
        "#Con Try-Except\n",
        "first_number = int(input(\"Ingresa un número entero: \"))\n",
        "second_number = int(input(\"Ingresa otro número entero: \"))\n",
        "\n",
        "try:\n",
        "    print(first_number / second_number)\n",
        "except:\n",
        "    print(\"No se puede dividir por cero, ¡dividido por uno!\")\n",
        "\n",
        "print(\"El programa ha terminado\")"
      ],
      "metadata": {
        "id": "QIV6yDq4qoQI"
      },
      "execution_count": null,
      "outputs": []
    },
    {
      "cell_type": "code",
      "source": [
        "try:\n",
        "    print(\"1\")\n",
        "    x = 1 / 0\n",
        "    print(\"2\")\n",
        "except:\n",
        "    print(\"Oh cielos, algo salió mal...\")\n",
        "\n",
        "print(\"3\")\n",
        "# Se omitió el 2"
      ],
      "metadata": {
        "id": "C-hN02bfrnr5"
      },
      "execution_count": null,
      "outputs": []
    },
    {
      "cell_type": "code",
      "source": [
        "try:\n",
        "    x = int(input(\"Ingresa un número entero: \"))\n",
        "    y = 1 / x\n",
        "    print(y)\n",
        "except ValueError:\n",
        "    print(\"Debes ingresar un valor entero.\")\n",
        "except ZeroDivisionError:\n",
        "    print(\"No es posible dividir por cero.\")\n",
        "except:\n",
        "    print(\"Oh cielos, algo salió mal...\")\n",
        "\n",
        "print(\"El programa ha terminado.\")\n"
      ],
      "metadata": {
        "id": "wqjfRR1ds8PK"
      },
      "execution_count": null,
      "outputs": []
    },
    {
      "cell_type": "code",
      "source": [
        "try:\n",
        "    x = int(input(\"Ingresa un número entero: \"))\n",
        "    y = 1 / x\n",
        "    print(y)\n",
        "except ValueError:\n",
        "    print(\"Debes ingresar un valor entero.\")\n",
        "except: #Cualquier error no especificado va a caer en esta casilla\n",
        "    print(\"Oh cielos, algo salió mal...\")\n",
        "\n",
        "print(\"El programa ha terminado.\")"
      ],
      "metadata": {
        "id": "PR0DfhARuDL7"
      },
      "execution_count": null,
      "outputs": []
    },
    {
      "cell_type": "code",
      "source": [
        "try:\n",
        "    x = int(input(\"Ingresa un número entero: \"))\n",
        "    y = 1 / x\n",
        "    print(y)\n",
        "except ValueError: #Si se divide entre cero no puede entrar en este bloque porque no tiene nada que ver\n",
        "    print(\"Debes ingresar un valor entero.\")\n",
        "#Por lo que se generará un error y se dentendrá el programa, debido a que no hay nada previsto que hacer\n",
        "print(\"El programa ha terminado.\")"
      ],
      "metadata": {
        "id": "jYPjOx_2udaR"
      },
      "execution_count": null,
      "outputs": []
    },
    {
      "cell_type": "markdown",
      "source": [
        "La anatomía de las excepciones"
      ],
      "metadata": {
        "id": "4XveerV6Pj_V"
      }
    },
    {
      "cell_type": "code",
      "source": [
        "try:\n",
        "    y = 1 / 0\n",
        "except ZeroDivisionError:\n",
        "    print(\"Uuuuppppssss\")\n",
        "print(\"Fin\")\n",
        "\n",
        "try:\n",
        "    y = 1 / 0\n",
        "except ArithmeticError:\n",
        "    print(\"Uuuuppppssss\")\n",
        "print(\"Fin\")"
      ],
      "metadata": {
        "id": "O-jTmbNAwiFk"
      },
      "execution_count": null,
      "outputs": []
    },
    {
      "cell_type": "code",
      "source": [
        "try:\n",
        "    y = 1 / 0\n",
        "except ArithmeticError: #Detecta el más general\n",
        "    print(\"Hay no\")\n",
        "except ZeroDivisionError: #Dejando los más específicos inutiles\n",
        "    print(\"Uuuuppppssss\")\n",
        "print(\"Fin\")"
      ],
      "metadata": {
        "id": "dEnD_M8OxZEb"
      },
      "execution_count": null,
      "outputs": []
    },
    {
      "cell_type": "code",
      "source": [
        "def bad_fun(n):\n",
        "    try:\n",
        "        return n / 0\n",
        "    except:\n",
        "        print(\"Uuuuppppssss\")\n",
        "\n",
        "bad_fun(0)"
      ],
      "metadata": {
        "id": "JZ8lPfcAyowL"
      },
      "execution_count": null,
      "outputs": []
    },
    {
      "cell_type": "code",
      "source": [
        "def bad_fun(n):\n",
        "    return n / 0\n",
        "\n",
        "try:\n",
        "    bad_fun(0)\n",
        "except ArithmeticError:\n",
        "    print(\"Uuuuppppssss\")\n"
      ],
      "metadata": {
        "id": "D5V-IEB0ytby"
      },
      "execution_count": null,
      "outputs": []
    },
    {
      "cell_type": "code",
      "source": [
        "def bad_fun(n):\n",
        "    raise ZeroDivisionError\n",
        "\n",
        "try:\n",
        "    bad_fun(0)\n",
        "except ArithmeticError:\n",
        "    print(\"Uuuuppppssss\")\n",
        "print(\"Fin\")"
      ],
      "metadata": {
        "id": "qUwxOZabzM9C"
      },
      "execution_count": null,
      "outputs": []
    },
    {
      "cell_type": "code",
      "source": [
        "def bad_fun(n):\n",
        "    try:\n",
        "        return n / 0\n",
        "    except:\n",
        "        print(\"Hay no\")\n",
        "        raise #Si se coloca de esta manera, se va a volver a generar la excepción para probarla más adelante\n",
        "\n",
        "try:\n",
        "    bad_fun(0)\n",
        "except ArithmeticError:\n",
        "    print(\"Uuuuppppssss\")\n",
        "print(\"Fin\")"
      ],
      "metadata": {
        "id": "Xzk8_DJ9z-C1"
      },
      "execution_count": null,
      "outputs": []
    },
    {
      "cell_type": "code",
      "source": [
        "import math\n",
        "\n",
        "x = float(input(\"Ingresa un número: \"))\n",
        "assert x >= 0.0\n",
        "\n",
        "x = math.sqrt(x)\n",
        "\n",
        "print(x)\n"
      ],
      "metadata": {
        "id": "sOVDr1TE1IOn"
      },
      "execution_count": null,
      "outputs": []
    }
  ]
}