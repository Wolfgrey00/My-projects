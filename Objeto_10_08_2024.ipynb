{
  "nbformat": 4,
  "nbformat_minor": 0,
  "metadata": {
    "colab": {
      "provenance": [],
      "authorship_tag": "ABX9TyPnxRf2NVquqYRGG7dVnnzA",
      "include_colab_link": true
    },
    "kernelspec": {
      "name": "python3",
      "display_name": "Python 3"
    },
    "language_info": {
      "name": "python"
    }
  },
  "cells": [
    {
      "cell_type": "markdown",
      "metadata": {
        "id": "view-in-github",
        "colab_type": "text"
      },
      "source": [
        "<a href=\"https://colab.research.google.com/github/Wolfgrey00/My-projects/blob/main/Objeto_10_08_2024.ipynb\" target=\"_parent\"><img src=\"https://colab.research.google.com/assets/colab-badge.svg\" alt=\"Open In Colab\"/></a>"
      ]
    },
    {
      "cell_type": "code",
      "execution_count": null,
      "metadata": {
        "id": "WxVId3LUFrVr"
      },
      "outputs": [],
      "source": [
        "# Clase Persona\n",
        "# Class - Clase\n",
        "class Persona:\n",
        "    # Método Consturctor\n",
        "    def __init__(self, nombre, apellido, fechanac, genero):\n",
        "        self.nombre = nombre\n",
        "        self.apellido = apellido\n",
        "        self.fechanac = fechanac\n",
        "        self.genero = genero\n",
        "\n",
        "    def __str__(self):\n",
        "        return \"Nombre: \" + self.nombre + \"\\nApellido: \" + self.apellido + \"\\nFecha de nacimiento: \" + self.fechanac + \"\\nGenero: \" + self.genero\n",
        "\n",
        "    def mostrar(self):\n",
        "        print(\"Nombre: \", self.nombre)\n",
        "        print(\"Apellido: \", self.apellido)\n",
        "        print(\"Fecha de nacimiento: \", self.fechanac)\n",
        "        print(\"Genero: \", self.genero)\n",
        "\n",
        "    #Método encapsulamiento\n",
        "    def getNombre(self):\n",
        "        return self.nombre\n",
        "\n",
        "    def getApellido(self,):\n",
        "        return self.apellido\n",
        "\n",
        "    def getGenero(self):\n",
        "        return self.genero\n",
        "\n",
        "    def getFechaNac(self):\n",
        "        return self.fechanac\n",
        "\n",
        "    def setNombre(self, nombre):\n",
        "        self.nombre = nombre\n",
        "\n",
        "    def setApellido(self, apellido):\n",
        "        self.apellido = apellido\n",
        "\n",
        "    def setGenero(self, genero):\n",
        "        self.genero = genero\n",
        "\n",
        "    def setFechaNac(self, fechanac):\n",
        "        self.fechanac = fechanac"
      ]
    },
    {
      "cell_type": "code",
      "source": [
        "# Instancia de la clase persona\n",
        "\n",
        "persona1 = Persona(\"Juan\", \"Perez\", \"01/01/1990\", \"Masculino\")"
      ],
      "metadata": {
        "id": "WfTIqrj7G9A0"
      },
      "execution_count": null,
      "outputs": []
    },
    {
      "cell_type": "code",
      "source": [
        "# Método de abstracción GET\n",
        "\n",
        "print(\"Nombre: \", persona1.getNombre())\n",
        "print(\"Apellido: \", persona1.getApellido())\n",
        "print(\"Genero: \", persona1.getGenero())\n",
        "print(\"Fecha Nacimiento: \", persona1.getFechaNac())\n"
      ],
      "metadata": {
        "colab": {
          "base_uri": "https://localhost:8080/"
        },
        "id": "TyKHLDXxHLxZ",
        "outputId": "a8cff576-3b51-4ef4-d9fd-f138140a4c4d"
      },
      "execution_count": null,
      "outputs": [
        {
          "output_type": "stream",
          "name": "stdout",
          "text": [
            "Juan\n",
            "Jimenez\n",
            "M\n",
            "01-05-1999\n"
          ]
        }
      ]
    },
    {
      "cell_type": "code",
      "source": [
        "#Métodos de abstracción SET\n",
        "\n",
        "nom = input(\"Ingrese el nombre: \")\n",
        "persona1.setNombre(nom)\n",
        "\n",
        "ape = input(\"Ingrese el apellido: \")\n",
        "persona1.setApellido(ape)\n",
        "\n",
        "gen = input(\"Ingrese el genero: \")\n",
        "persona1.setGenero(gen)\n",
        "\n",
        "fec = input(\"Ingrese la fecha de nacimiento: \")\n",
        "persona1.setFechaNac(fec)"
      ],
      "metadata": {
        "colab": {
          "base_uri": "https://localhost:8080/"
        },
        "id": "WngkWe3_Hxwv",
        "outputId": "f5d726fa-d010-4fba-8579-6d76a8e2cbb4"
      },
      "execution_count": null,
      "outputs": [
        {
          "name": "stdout",
          "output_type": "stream",
          "text": [
            "Ingrese el nombre: Juan\n",
            "Ingrese el apellido: Jimenez\n",
            "Ingrese el genero: M\n",
            "Ingrese la fecha de nacimiento: 01-05-1999\n"
          ]
        }
      ]
    },
    {
      "cell_type": "code",
      "source": [
        "persona1.mostrar()"
      ],
      "metadata": {
        "colab": {
          "base_uri": "https://localhost:8080/"
        },
        "id": "kIMCY5QNInpw",
        "outputId": "b0be0488-4d39-40df-f7f5-980a8c5e20eb"
      },
      "execution_count": null,
      "outputs": [
        {
          "output_type": "stream",
          "name": "stdout",
          "text": [
            "Nombre:  Juan\n",
            "Apellido:  Perez\n",
            "Fecha de nacimiento:  01/01/1990\n",
            "Genero:  Masculino\n"
          ]
        }
      ]
    },
    {
      "cell_type": "code",
      "source": [
        "persona1"
      ],
      "metadata": {
        "colab": {
          "base_uri": "https://localhost:8080/"
        },
        "id": "Z4uuxMuTIiL5",
        "outputId": "de0dc7b7-794d-44e3-c0b5-b0688910528f"
      },
      "execution_count": null,
      "outputs": [
        {
          "output_type": "execute_result",
          "data": {
            "text/plain": [
              "<__main__.Persona at 0x7da5f75d1cf0>"
            ]
          },
          "metadata": {},
          "execution_count": 13
        }
      ]
    },
    {
      "cell_type": "code",
      "source": [
        "print(persona1)"
      ],
      "metadata": {
        "colab": {
          "base_uri": "https://localhost:8080/"
        },
        "id": "l0bYdO0jIqvl",
        "outputId": "f16729a3-a3f0-4231-c58b-8d9ddd3ad429"
      },
      "execution_count": null,
      "outputs": [
        {
          "output_type": "stream",
          "name": "stdout",
          "text": [
            "Nombre: Juan\n",
            "Apellido: Perez\n",
            "Fecha de nacimiento: 01/01/1990\n",
            "Genero: Masculino\n"
          ]
        }
      ]
    }
  ]
}