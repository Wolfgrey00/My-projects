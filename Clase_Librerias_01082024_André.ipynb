{
  "nbformat": 4,
  "nbformat_minor": 0,
  "metadata": {
    "colab": {
      "provenance": [],
      "authorship_tag": "ABX9TyOMi0NdXJc6Rd3nBaBXwBej",
      "include_colab_link": true
    },
    "kernelspec": {
      "name": "python3",
      "display_name": "Python 3"
    },
    "language_info": {
      "name": "python"
    }
  },
  "cells": [
    {
      "cell_type": "markdown",
      "metadata": {
        "id": "view-in-github",
        "colab_type": "text"
      },
      "source": [
        "<a href=\"https://colab.research.google.com/github/Wolfgrey00/My-projects/blob/main/Clase_Librerias_01082024_Andr%C3%A9.ipynb\" target=\"_parent\"><img src=\"https://colab.research.google.com/assets/colab-badge.svg\" alt=\"Open In Colab\"/></a>"
      ]
    },
    {
      "cell_type": "code",
      "execution_count": null,
      "metadata": {
        "colab": {
          "base_uri": "https://localhost:8080/"
        },
        "id": "R9SDG6mv3zWq",
        "outputId": "fb5e38c1-1030-429d-8983-d5c0430a6925"
      },
      "outputs": [
        {
          "output_type": "stream",
          "name": "stdout",
          "text": [
            "Hola Mundo\n"
          ]
        }
      ],
      "source": [
        "print(\"Hola Mundo\")"
      ]
    },
    {
      "cell_type": "code",
      "source": [
        "valor = int(input(\"Indica un número del 1 al 10\"))\n",
        "print(\"El valor capturado es: \", valor)"
      ],
      "metadata": {
        "colab": {
          "base_uri": "https://localhost:8080/"
        },
        "id": "zxT3b4vz5Dvz",
        "outputId": "d8ea9477-b475-4dc3-f57a-b144949b646f"
      },
      "execution_count": null,
      "outputs": [
        {
          "output_type": "stream",
          "name": "stdout",
          "text": [
            "Indica un número del 1 al 105\n",
            "El valor capturado es:  5\n"
          ]
        }
      ]
    },
    {
      "cell_type": "code",
      "source": [
        "import math\n",
        "valor = int(input(\"Indica un número\"))\n",
        "print(\"El factorial del valor capturado es: \", math.factorial(valor))\n",
        "print(\"La raíz cuadrada del valor capturado es: \", math.sqrt(valor))"
      ],
      "metadata": {
        "colab": {
          "base_uri": "https://localhost:8080/"
        },
        "id": "G1jwp3-06FQl",
        "outputId": "0b524e03-d978-4093-a838-f1553141a4a1"
      },
      "execution_count": null,
      "outputs": [
        {
          "output_type": "stream",
          "name": "stdout",
          "text": [
            "Indica un número5\n",
            "El factorial del valor capturado es:  120\n",
            "La raíz cuadrada del valor capturado es:  2.23606797749979\n"
          ]
        }
      ]
    },
    {
      "cell_type": "code",
      "source": [
        "import math as mt\n",
        "valor = int(input(\"Indica un número\"))\n",
        "print(\"El factorial del valor capturado es: \", mt.factorial(valor))\n",
        "print(\"La raíz cuadrada del valor capturado es: \", mt.sqrt(valor))"
      ],
      "metadata": {
        "colab": {
          "base_uri": "https://localhost:8080/"
        },
        "id": "cQF5mYB28FPv",
        "outputId": "eec0582f-b9f5-41e2-dc07-491c1488327c"
      },
      "execution_count": null,
      "outputs": [
        {
          "output_type": "stream",
          "name": "stdout",
          "text": [
            "Indica un número5\n",
            "El factorial del valor capturado es:  120\n",
            "La raíz cuadrada del valor capturado es:  2.23606797749979\n"
          ]
        }
      ]
    },
    {
      "cell_type": "code",
      "source": [
        "from math import fabs,sqrt\n",
        "valor = int(input(\"Indica un número\"))\n",
        "print(\"El valor absoluto del número capturado es: \", fabs(valor))\n",
        "print(\"La raíz cuadrada del valor capturado es: \", sqrt(fabs(valor)))"
      ],
      "metadata": {
        "colab": {
          "base_uri": "https://localhost:8080/"
        },
        "id": "B-IQgnVo8Vrg",
        "outputId": "cd0f956d-90db-4253-ef5b-6ef7ec8f576d"
      },
      "execution_count": null,
      "outputs": [
        {
          "output_type": "stream",
          "name": "stdout",
          "text": [
            "Indica un número5\n",
            "El valor absoluto del número capturado es:  5.0\n",
            "La raíz cuadrada del valor capturado es:  2.23606797749979\n"
          ]
        }
      ]
    },
    {
      "cell_type": "code",
      "source": [
        "#potencia\n",
        "from math import pow\n",
        "base = int(input(\"Indica la base del número\"))\n",
        "exponente = int(input(\"Indica el exponente del número\"))\n",
        "print(\"El valor de la potencia es: \", pow(base,exponente))"
      ],
      "metadata": {
        "colab": {
          "base_uri": "https://localhost:8080/"
        },
        "id": "0nQf_FB6-OJs",
        "outputId": "ef48a5b9-a1b6-44d3-fc7e-34b49b460ec5"
      },
      "execution_count": null,
      "outputs": [
        {
          "output_type": "stream",
          "name": "stdout",
          "text": [
            "Indica la base del número10\n",
            "Indica el exponente del número2\n",
            "El valor de la potencia es:  100.0\n"
          ]
        }
      ]
    },
    {
      "cell_type": "code",
      "source": [
        "import math\n",
        "A = int(input(\"Indica un número para A: \"))\n",
        "B = int(input(\"Indica un número para B: \"))\n",
        "X = int(input(\"Indica un número para X: \"))\n",
        "Y = int(input(\"Indica un número para Y: \"))\n",
        "R1 = A*X\n",
        "R2 = B*X\n",
        "R3 = A*Y\n",
        "R4 = B*Y\n",
        "R6 = R1-R2\n",
        "R7 = R3-R4\n",
        "R8 = math.pow(R6,2)\n",
        "R9 = math.pow(R7,2)\n",
        "R10 = R8 + R9\n",
        "R11 = math.sqrt(R10)\n",
        "print(\"AX = \", R1)\n",
        "print(\"BX = \", R2)\n",
        "print(\"AY = \", R3)\n",
        "print(\"BY = \", R4)\n",
        "print(\"El resultado total es: \", R11)\n"
      ],
      "metadata": {
        "colab": {
          "base_uri": "https://localhost:8080/"
        },
        "id": "ZyHXm6GXDDnv",
        "outputId": "f0c2f48d-1963-4825-e191-3fb9376047e1"
      },
      "execution_count": null,
      "outputs": [
        {
          "output_type": "stream",
          "name": "stdout",
          "text": [
            "Indica un número para A: 10\n",
            "Indica un número para B: 20\n",
            "Indica un número para X: 5\n",
            "Indica un número para Y: 2\n",
            "AX =  50\n",
            "BX =  100\n",
            "AY =  20\n",
            "BY =  40\n",
            "El resultado total es:  53.85164807134504\n"
          ]
        }
      ]
    }
  ]
}