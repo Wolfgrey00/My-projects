{
  "nbformat": 4,
  "nbformat_minor": 0,
  "metadata": {
    "colab": {
      "provenance": [],
      "authorship_tag": "ABX9TyN3qskH1t+SauYSN+v1KRoX",
      "include_colab_link": true
    },
    "kernelspec": {
      "name": "python3",
      "display_name": "Python 3"
    },
    "language_info": {
      "name": "python"
    }
  },
  "cells": [
    {
      "cell_type": "markdown",
      "metadata": {
        "id": "view-in-github",
        "colab_type": "text"
      },
      "source": [
        "<a href=\"https://colab.research.google.com/github/Wolfgrey00/My-projects/blob/main/Tarjeta.ipynb\" target=\"_parent\"><img src=\"https://colab.research.google.com/assets/colab-badge.svg\" alt=\"Open In Colab\"/></a>"
      ]
    },
    {
      "cell_type": "code",
      "execution_count": null,
      "metadata": {
        "id": "xupO1wvN-zwv"
      },
      "outputs": [],
      "source": [
        "class Tarjeta:\n",
        "  def __init__(self, numerox, cuantahx, caducidadx, estadox, bancox, tipox, cvvx, cantidadx = 0):\n",
        "    self.numero = numerox\n",
        "    self.cuantahabiente = cuantahx\n",
        "    self.caducidad = caducidadx\n",
        "    self.estado = estadox\n",
        "    self.banco = bancox\n",
        "    self.saldo = cantidadx\n",
        "    self.tipo = tipox\n",
        "    self.cvv = cvvx\n",
        "    self.apartado = 0\n",
        "    self.adicional = False\n",
        "    self.numadicionales = 0\n",
        "    return\n",
        "\n",
        "  def __str__(self):\n",
        "    return 'Banco: {} \\nTarjeta número: {} del cuentahabiente: {} \\nTiene una fecha de expiración: {},\\nEstado de la cuenta: {}, \\nCuenta con un saldo: ${}\\nTipo de Tarjeta: {} \\nCVV: {}'.format(self.banco, self.numero, self.cuantahabiente, self.caducidad, self.estado,str(self.saldo),self.tipo,self.cvv)\n",
        "\n",
        "  def deposito (self, cantidadx):\n",
        "    if self.estado == 'Inactiva' or self.estado == 'Bloqueada':\n",
        "      print(\"No es posible hacer el deposito debido a que la cuenta esta inactiva y/o bloqueada, Presentarse con su Ejecutivo de Cuenta.\")\n",
        "    else:\n",
        "      self.saldo += cantidadx\n",
        "      print(\"El saldo nuevo de la tarjeta es ()\".format(self.saldo))\n",
        "    return\n",
        "\n",
        "  def apartado (self, cantidadx):\n",
        "    self.apartado += cantidadx\n",
        "    return\n",
        "\n",
        "  def liberacionApartado (self):\n",
        "    self.apartado = 0\n",
        "    return\n",
        "\n",
        "  def retirar (self, cantidadx):\n",
        "    disponiblex = self.saldo - self.apartado\n",
        "    if disponiblex < cantidadx:\n",
        "      msg = 'Saldo insuficiente para el retiro'\n",
        "    else:\n",
        "      self.saldo -= cantidadx\n",
        "      msg = 'El saldo nuevo de la tarjeta es ()'.format(self.saldo)\n",
        "    print(msg)\n",
        "\n",
        "  def mostrar_saldo(self):\n",
        "    print('El saldo actual de la cuenta es $: ',self.saldo)\n",
        "\n",
        "  def activar (self):\n",
        "    self.estado = 'Activa'\n",
        "    print('Proceso de activación satisfactorio')\n",
        "    return\n",
        "\n",
        "  def suspendido (self):\n",
        "    self.estado = 'Inactiva'\n",
        "    print('Proceso de inactivación satisfactorio')\n",
        "    return\n",
        "\n",
        "  def cancelar (self):\n",
        "    self.estado = 'Cancelada'\n",
        "    print('Proceso de cancelación satisfactorio')\n",
        "    return\n",
        "\n",
        "  def bloqueada (self):\n",
        "    self.estado = 'Bloqueada'\n",
        "    print('Proceso de bloqueo satisfactirio')\n",
        "    return\n",
        "\n",
        "  def mostrar_estatus(self):\n",
        "    print(\"El estatus de la tarjeta actual es: \", self.estado)\n",
        "\n",
        "  def asignacionbanco (self, bancos):\n",
        "    self.banco = bancos\n",
        "    print('Proceso de actualización de Banco satisfactoria')\n",
        "    return\n",
        "\n",
        "  def asignarAdicionales(self, asignacionx, nasignacionesx):\n",
        "    if asignacionx == 1:\n",
        "      self.adicional = True\n",
        "      self.numadicionales = nasignacionesx\n",
        "    return\n",
        "\n",
        "  def asignarAdicionalesImprimir(self):\n",
        "    if self.adicional == True:\n",
        "      msg = \"Si\"\n",
        "    else:\n",
        "      msg = \"No\"\n",
        "    print(\"Tarjeta número: {} del cuentahabiente: {} \\nCuenta con adicionales: {} \\nNúmero de adicionales: {}\".format(self.numero,self.cuantahabiente,msg,self.numadicionales))"
      ]
    },
    {
      "cell_type": "code",
      "source": [
        "t1 = Tarjeta('9110010','Juan Lopez','05/23','Inactiva','Banamex','VISA','123',3)\n",
        "t2 = Tarjeta('9110011', 'Monica Naranjo','05/23','Inactiva','HSBC','MASTERCARD','123',0)\n",
        "t3 = Tarjeta('9110012', 'Pedro Garcia','05/23','Inactiva','Bancomer','VISA','123',3000)\n",
        "t4  = Tarjeta ('9875623', 'Juana Sanchez', '05/24', 'Inactiva', 'Banorte', 'MASTERCARD','123',1000)\n",
        "t5  = Tarjeta ('9875624', 'Jose Fernandez ', '05/24', 'Inactiva', '', 'VISA', '123',1000)\n",
        "t6  = Tarjeta ('9875625', 'Eduardo Lopez', '05/24', 'Inactiva', 'Banorte', 'VISA' , '123')\n",
        "t7  = Tarjeta ('9875626', 'Sofia Morales','', 'Inactiva', 'Banorte', 'MASTERCARD','123' )"
      ],
      "metadata": {
        "id": "uKNXr1XlQgs8"
      },
      "execution_count": null,
      "outputs": []
    },
    {
      "cell_type": "code",
      "source": [
        "print(t1)\n",
        "print('*****************************')\n",
        "print(t2)\n",
        "print('*****************************')\n",
        "print(t3)\n",
        "print('*****************************')\n",
        "print(t4)\n",
        "print('*****************************')\n",
        "print(t5)\n",
        "print('*****************************')\n",
        "print(t6)\n",
        "print('*****************************')\n",
        "print(t7)"
      ],
      "metadata": {
        "colab": {
          "base_uri": "https://localhost:8080/"
        },
        "id": "rIep39keQio4",
        "outputId": "23c7ecff-165b-48e3-cff9-a8a036153cc8"
      },
      "execution_count": null,
      "outputs": [
        {
          "output_type": "stream",
          "name": "stdout",
          "text": [
            "Banco: Banamex \n",
            "Tarjeta número: 9110010 del cuentahabiente: Juan Lopez \n",
            "Tiene una fecha de expiración: 05/23,\n",
            "Estado de la cuenta: Inactiva, \n",
            "Cuenta con un saldo: $3\n",
            "Tipo de Tarjeta: VISA \n",
            "CVV: 123\n",
            "*****************************\n",
            "Banco: HSBC \n",
            "Tarjeta número: 9110011 del cuentahabiente: Monica Naranjo \n",
            "Tiene una fecha de expiración: 05/23,\n",
            "Estado de la cuenta: Inactiva, \n",
            "Cuenta con un saldo: $0\n",
            "Tipo de Tarjeta: MASTERCARD \n",
            "CVV: 123\n",
            "*****************************\n",
            "Banco: Bancomer \n",
            "Tarjeta número: 9110012 del cuentahabiente: Pedro Garcia \n",
            "Tiene una fecha de expiración: 05/23,\n",
            "Estado de la cuenta: Inactiva, \n",
            "Cuenta con un saldo: $3000\n",
            "Tipo de Tarjeta: VISA \n",
            "CVV: 123\n",
            "*****************************\n",
            "Banco: Banorte \n",
            "Tarjeta número: 9875623 del cuentahabiente: Juana Sanchez \n",
            "Tiene una fecha de expiración: 05/24,\n",
            "Estado de la cuenta: Inactiva, \n",
            "Cuenta con un saldo: $1000\n",
            "Tipo de Tarjeta: MASTERCARD \n",
            "CVV: 123\n",
            "*****************************\n",
            "Banco:  \n",
            "Tarjeta número: 9875624 del cuentahabiente: Jose Fernandez  \n",
            "Tiene una fecha de expiración: 05/24,\n",
            "Estado de la cuenta: Inactiva, \n",
            "Cuenta con un saldo: $1000\n",
            "Tipo de Tarjeta: VISA \n",
            "CVV: 123\n",
            "*****************************\n",
            "Banco: Banorte \n",
            "Tarjeta número: 9875625 del cuentahabiente: Eduardo Lopez \n",
            "Tiene una fecha de expiración: 05/24,\n",
            "Estado de la cuenta: Inactiva, \n",
            "Cuenta con un saldo: $0\n",
            "Tipo de Tarjeta: VISA \n",
            "CVV: 123\n",
            "*****************************\n",
            "Banco: Banorte \n",
            "Tarjeta número: 9875626 del cuentahabiente: Sofia Morales \n",
            "Tiene una fecha de expiración: ,\n",
            "Estado de la cuenta: Inactiva, \n",
            "Cuenta con un saldo: $0\n",
            "Tipo de Tarjeta: MASTERCARD \n",
            "CVV: 123\n"
          ]
        }
      ]
    },
    {
      "cell_type": "code",
      "source": [
        "#Creacion de la Lista de objetos\n",
        "listaObjetos = []\n",
        "#Agregación de un nuevo objeto dentro de la lista\n",
        "# Creación de Instancias\n",
        "            # numerox, cuentahx, caducidadx, estadox, bancox, tipox , cvvx ,  cantidadx = 0\n",
        "listaObjetos.append (Tarjeta('9110010','Juan Lopez','05/23','Inactiva','Banamex','VISA','123',3))\n",
        "listaObjetos.append (Tarjeta('9110011', 'Monica Naranjo','05/23','Inactiva','HSBC','MASTERCARD','123',0))\n",
        "listaObjetos.append ( Tarjeta('9110012', 'Pedro Garcia','05/23','Inactiva','Bancomer','VISA','123',3000))\n",
        "listaObjetos.append ( Tarjeta ('9875623', 'Juan Lopez', '05/24', 'Inactiva', 'Banorte', 'MASTERCARD','123',1000))\n",
        "listaObjetos.append ( Tarjeta ('9875624', 'Juan Lopez', '05/24', 'Inactiva', '', 'VISA', '123',1000))\n",
        "listaObjetos.append ( Tarjeta ('9875625', 'Juan Lopez', '05/24', 'Inactiva', 'Banorte', 'VISA' , '123'))\n",
        "listaObjetos.append ( Tarjeta ('9875626', 'Sofia Morales','', 'Inactiva', 'Banorte', 'MASTERCARD','123' ))"
      ],
      "metadata": {
        "id": "tVVEvuwyRpcJ"
      },
      "execution_count": null,
      "outputs": []
    },
    {
      "cell_type": "code",
      "source": [
        "#Imprimir los elementos dentro de la lista\n",
        "x=1\n",
        "for objetos in listaObjetos:\n",
        "        print ('**************************')\n",
        "        print ('Numero de Tarjetahabientes', x)\n",
        "        print(objetos)\n",
        "        print ('**************************')\n",
        "        x+=1"
      ],
      "metadata": {
        "colab": {
          "base_uri": "https://localhost:8080/"
        },
        "id": "STc2NHuGRqXf",
        "outputId": "8117b5f9-0c7e-44a2-80e6-1444cbca3d10"
      },
      "execution_count": null,
      "outputs": [
        {
          "output_type": "stream",
          "name": "stdout",
          "text": [
            "**************************\n",
            "Numero de Tarjetahabientes 1\n",
            "Banco: Banamex \n",
            "Tarjeta número: 9110010 del cuentahabiente: Juan Lopez \n",
            "Tiene una fecha de expiración: 05/23,\n",
            "Estado de la cuenta: Inactiva, \n",
            "Cuenta con un saldo: $3\n",
            "Tipo de Tarjeta: VISA \n",
            "CVV: 123\n",
            "**************************\n",
            "**************************\n",
            "Numero de Tarjetahabientes 2\n",
            "Banco: HSBC \n",
            "Tarjeta número: 9110011 del cuentahabiente: Monica Naranjo \n",
            "Tiene una fecha de expiración: 05/23,\n",
            "Estado de la cuenta: Inactiva, \n",
            "Cuenta con un saldo: $0\n",
            "Tipo de Tarjeta: MASTERCARD \n",
            "CVV: 123\n",
            "**************************\n",
            "**************************\n",
            "Numero de Tarjetahabientes 3\n",
            "Banco: Bancomer \n",
            "Tarjeta número: 9110012 del cuentahabiente: Pedro Garcia \n",
            "Tiene una fecha de expiración: 05/23,\n",
            "Estado de la cuenta: Inactiva, \n",
            "Cuenta con un saldo: $3000\n",
            "Tipo de Tarjeta: VISA \n",
            "CVV: 123\n",
            "**************************\n",
            "**************************\n",
            "Numero de Tarjetahabientes 4\n",
            "Banco: Banorte \n",
            "Tarjeta número: 9875623 del cuentahabiente: Juan Lopez \n",
            "Tiene una fecha de expiración: 05/24,\n",
            "Estado de la cuenta: Inactiva, \n",
            "Cuenta con un saldo: $1000\n",
            "Tipo de Tarjeta: MASTERCARD \n",
            "CVV: 123\n",
            "**************************\n",
            "**************************\n",
            "Numero de Tarjetahabientes 5\n",
            "Banco:  \n",
            "Tarjeta número: 9875624 del cuentahabiente: Juan Lopez \n",
            "Tiene una fecha de expiración: 05/24,\n",
            "Estado de la cuenta: Inactiva, \n",
            "Cuenta con un saldo: $1000\n",
            "Tipo de Tarjeta: VISA \n",
            "CVV: 123\n",
            "**************************\n",
            "**************************\n",
            "Numero de Tarjetahabientes 6\n",
            "Banco: Banorte \n",
            "Tarjeta número: 9875625 del cuentahabiente: Juan Lopez \n",
            "Tiene una fecha de expiración: 05/24,\n",
            "Estado de la cuenta: Inactiva, \n",
            "Cuenta con un saldo: $0\n",
            "Tipo de Tarjeta: VISA \n",
            "CVV: 123\n",
            "**************************\n",
            "**************************\n",
            "Numero de Tarjetahabientes 7\n",
            "Banco: Banorte \n",
            "Tarjeta número: 9875626 del cuentahabiente: Sofia Morales \n",
            "Tiene una fecha de expiración: ,\n",
            "Estado de la cuenta: Inactiva, \n",
            "Cuenta con un saldo: $0\n",
            "Tipo de Tarjeta: MASTERCARD \n",
            "CVV: 123\n",
            "**************************\n"
          ]
        }
      ]
    },
    {
      "cell_type": "code",
      "source": [
        "listaObjetos[0].activar()"
      ],
      "metadata": {
        "colab": {
          "base_uri": "https://localhost:8080/"
        },
        "id": "0SKeBN_4Sh6c",
        "outputId": "e6a933a4-ccda-4314-b341-cccfe75c5c6f"
      },
      "execution_count": null,
      "outputs": [
        {
          "output_type": "stream",
          "name": "stdout",
          "text": [
            "Proceso de activación satisfactorio\n"
          ]
        }
      ]
    },
    {
      "cell_type": "code",
      "source": [
        "listaObjetos.append ( Tarjeta ('9875628', 'Carmen Sanchez','', 'Inactiva', 'NU', 'MASTERCARD','1234' ))"
      ],
      "metadata": {
        "id": "n9Fy9DrGSkI_"
      },
      "execution_count": null,
      "outputs": []
    },
    {
      "cell_type": "code",
      "source": [
        "listaObjetos[7].activar()\n",
        "listaObjetos[7].deposito(500)"
      ],
      "metadata": {
        "id": "W7Jdc2HwSoNT",
        "outputId": "38c607fd-2716-4167-cd3e-eb6a4354ca0b",
        "colab": {
          "base_uri": "https://localhost:8080/"
        }
      },
      "execution_count": null,
      "outputs": [
        {
          "output_type": "stream",
          "name": "stdout",
          "text": [
            "Proceso de activación satisfactorio\n",
            "El saldo nuevo de la tarjeta es ()\n"
          ]
        }
      ]
    }
  ]
}