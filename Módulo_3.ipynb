{
  "nbformat": 4,
  "nbformat_minor": 0,
  "metadata": {
    "colab": {
      "provenance": [],
      "toc_visible": true,
      "authorship_tag": "ABX9TyNTapycP7lQEp4tsudRKsZV",
      "include_colab_link": true
    },
    "kernelspec": {
      "name": "python3",
      "display_name": "Python 3"
    },
    "language_info": {
      "name": "python"
    }
  },
  "cells": [
    {
      "cell_type": "markdown",
      "metadata": {
        "id": "view-in-github",
        "colab_type": "text"
      },
      "source": [
        "<a href=\"https://colab.research.google.com/github/Wolfgrey00/My-projects/blob/main/M%C3%B3dulo_3.ipynb\" target=\"_parent\"><img src=\"https://colab.research.google.com/assets/colab-badge.svg\" alt=\"Open In Colab\"/></a>"
      ]
    },
    {
      "cell_type": "markdown",
      "source": [
        "# Trabajos"
      ],
      "metadata": {
        "id": "hNwXfTD06YUv"
      }
    },
    {
      "cell_type": "markdown",
      "source": [
        "Trabajo 3.2.1.2 Un corto viaje desde el enfoque procedimental hacia el orientado a objetos"
      ],
      "metadata": {
        "id": "GSne2KK88RVV"
      }
    },
    {
      "cell_type": "code",
      "source": [
        "stack = [] #Se define la pila en forma de lista\n",
        "\n",
        "\n",
        "def push(val): #Se define una función llamada push para aumentar los valores de la pila\n",
        "    stack.append(val) #Se utiliza el método append para aumentar el valor que se indique\n",
        "\n",
        "\n",
        "def pop(): #Se define una seegunda función para eliminar los valores de la pila\n",
        "    val = stack[-1] #Se le asigna a la variable val el último valor de stack\n",
        "    del stack[-1] #Se elimina el último valor de la lista\n",
        "    return val #Regresa el valor previamente eliminado de la pila\n",
        "\n",
        "\n",
        "push(3)\n",
        "push(2)\n",
        "push(1) #La pila esta acomodada con una secuencia de 3, 2, 1\n",
        "\n",
        "print(pop())\n",
        "print(pop())\n",
        "print(pop()) #Para sacarlos va a ser del último al primero, osea 1, 2, 3\n",
        "#Finalidad del programa - Principalmente se utiliza para poder organizar información de manera simple y sencilla, para después poder obtener la información igual de manera ordenada"
      ],
      "metadata": {
        "colab": {
          "base_uri": "https://localhost:8080/"
        },
        "id": "CmoePVJX8QRZ",
        "outputId": "a6b8d831-4072-4fdd-9029-31c1d8091221"
      },
      "execution_count": null,
      "outputs": [
        {
          "output_type": "stream",
          "name": "stdout",
          "text": [
            "1\n",
            "2\n",
            "3\n"
          ]
        }
      ]
    },
    {
      "cell_type": "markdown",
      "source": [
        "Ejercicio 3.2.1.6"
      ],
      "metadata": {
        "id": "8AkdvACDZIff"
      }
    },
    {
      "cell_type": "code",
      "source": [
        "class Stack:\n",
        "    def __init__(self):\n",
        "        self.__stack_list = [] #Al colocar el doble guión bajo se indica que la proiedad sea privada\n",
        "\n",
        "\n",
        "stack_object = Stack()\n",
        "print(len(stack_object.__stack_list)) #Por lo tanto si se intenta realizar esta acción, va a generar un AttributeError, porque no es capaz de encontrar lo que esta pididendo\n",
        "#Esto se hace con el fin de mantener a salvo algunas propiedades que no pueden ser modificadas, ya que podrían dañar la integridad del programa, esto puede ser tanto por razones maliciosas o simplemente por accidente\n",
        "#Así que resumiendo, su motivo es para mantener a estas propiedades totalmente seguras"
      ],
      "metadata": {
        "id": "FHU4kxTGZVER"
      },
      "execution_count": null,
      "outputs": []
    },
    {
      "cell_type": "markdown",
      "source": [
        "Ejercicio 3.2.1.7"
      ],
      "metadata": {
        "id": "4VzZqcNydCDi"
      }
    },
    {
      "cell_type": "code",
      "source": [
        "class Stack:\n",
        "    def __init__(self):\n",
        "        self.__stack_list = [] #Esta variable sigue marcada como provada\n",
        "\n",
        "\n",
        "    def push(self, val): #A diferencias de estas, que son para todo público\n",
        "        self.__stack_list.append(val)\n",
        "\n",
        "\n",
        "    def pop(self): #Todas las funciones deben de tnener por lo menos un parámetro\n",
        "        val = self.__stack_list[-1]\n",
        "        del self.__stack_list[-1]\n",
        "        return val\n",
        "\n",
        "\n",
        "stack_object = Stack()\n",
        "\n",
        "stack_object.push(3)\n",
        "stack_object.push(2)\n",
        "stack_object.push(1)\n",
        "\n",
        "print(stack_object.pop())\n",
        "print(stack_object.pop())\n",
        "print(stack_object.pop())\n",
        "#Este a diferencia del procedimental, es más seguro, con sus diferencia, como el tener que nombrar a fuerzas el primer parametro de self\n",
        "#Pero la diferencia más grande es que permite modificar los aspectos que no queremos que se muestren, como propiamente la pila\n",
        "#Por lo que tiene la misma función, pero es consederablemente más segura"
      ],
      "metadata": {
        "id": "RUpL4wwydEre"
      },
      "execution_count": null,
      "outputs": []
    },
    {
      "cell_type": "markdown",
      "source": [
        "Ejercicio 3.2.1.9"
      ],
      "metadata": {
        "id": "a7J1hTFwg2XD"
      }
    },
    {
      "cell_type": "code",
      "source": [
        "class Stack:\n",
        "    def __init__(self):\n",
        "        self.__stack_list = []\n",
        "\n",
        "    def push(self, val):\n",
        "        self.__stack_list.append(val)\n",
        "\n",
        "    def pop(self):\n",
        "        val = self.__stack_list[-1]\n",
        "        del self.__stack_list[-1]\n",
        "        return val\n",
        "\n",
        "\n",
        "little_stack = Stack()\n",
        "another_stack = Stack() #Se definieron los tres objetos desde la misma clase\n",
        "funny_stack = Stack()\n",
        "\n",
        "little_stack.push(1) #Se le aumenta 1\n",
        "another_stack.push(little_stack.pop() + 1) #Se obtiene el último número de little_stack (1) y se deja a esta última vacía, después se procede a sumar el número con 1 (1 + 1 = 2)\n",
        "funny_stack.push(another_stack.pop() - 2) #De la misma forma, se obtiene el número anterior y se le resta 2 (2 - 2 = 0)\n",
        "\n",
        "print(funny_stack.pop()) #Se imprime el resultado final y se deja vacia a la pila\n",
        "#En efecto, se pueden tener más de un objeto en una misma clase y cada uno de estos va a actuar de manera completamente independiente, aunque aún así van a tener las misma propiedades y van a funcionar de la misma manera"
      ],
      "metadata": {
        "colab": {
          "base_uri": "https://localhost:8080/"
        },
        "id": "rEDSHkeTg19w",
        "outputId": "ba1c712a-2168-4939-bcfa-64002c2e9f00"
      },
      "execution_count": null,
      "outputs": [
        {
          "output_type": "stream",
          "name": "stdout",
          "text": [
            "0\n"
          ]
        }
      ]
    },
    {
      "cell_type": "markdown",
      "source": [
        "Ejercicio 3.2.1.11"
      ],
      "metadata": {
        "id": "WxVuSfERqUUC"
      }
    },
    {
      "cell_type": "code",
      "source": [
        "class Stack:\n",
        "    def __init__(self):\n",
        "        self.__stack_list = []\n",
        "\n",
        "    def push(self, val):\n",
        "        self.__stack_list.append(val)\n",
        "\n",
        "    def pop(self):\n",
        "        val = self.__stack_list[-1]\n",
        "        del self.__stack_list[-1]\n",
        "        return val\n",
        "\n",
        "\n",
        "class AddingStack(Stack):\n",
        "    def __init__(self):\n",
        "        Stack.__init__(self) #Si no se tiene esta línea el código puede fallar.\n",
        "        self.__sum = 0\n",
        "\n",
        "    def push(self, val):\n",
        "        self.__sum += val\n",
        "        Stack.push(self, val) #En este caso se tomo la propiedad de la superclase y se utilizó para esta subclase, se especificó el nombre y por así decirlo, se le despojó de lo que tenía\n",
        "        #Ahora es una nueva función con el mismo nombre, pero no se perdió la anterior, que segue estando en la superclase\n",
        "#Esto nos ayuda a reutilizar algunas funciones cuando se quiere crear subclases\n"
      ],
      "metadata": {
        "id": "pdnXBbN0mSxj"
      },
      "execution_count": null,
      "outputs": []
    },
    {
      "cell_type": "markdown",
      "source": [
        "Ejercicio 3.2.1.12"
      ],
      "metadata": {
        "id": "dvboyhuPq5le"
      }
    },
    {
      "cell_type": "code",
      "source": [
        "class Stack:\n",
        "    def __init__(self):\n",
        "        self.__stack_list = []\n",
        "\n",
        "    def push(self, val):\n",
        "        self.__stack_list.append(val)\n",
        "\n",
        "    def pop(self):\n",
        "        val = self.__stack_list[-1]\n",
        "        del self.__stack_list[-1]\n",
        "        return val\n",
        "\n",
        "\n",
        "class AddingStack(Stack):\n",
        "    def __init__(self):\n",
        "        Stack.__init__(self)\n",
        "        self.__sum = 0\n",
        "\n",
        "    def get_sum(self): #Se necesita porque tenemos la variable sum escondida, por lo que con esta nueva variable, podemos visualizar la variable sin tener que desprotegerla\n",
        "        return self.__sum\n",
        "\n",
        "    def push(self, val):\n",
        "        self.__sum += val\n",
        "        Stack.push(self, val)\n",
        "\n",
        "    def pop(self):\n",
        "        val = Stack.pop(self) #Se hizo algo parecido, pero se tiene que definir la variable val de forma diferente, ya que la función pop no cuenta con argumentos, considerando que self no cuente como argumento\n",
        "        self.__sum -= val\n",
        "        return val\n",
        "\n",
        "\n",
        "stack_object = AddingStack()\n",
        "\n",
        "for i in range(5):\n",
        "    stack_object.push(i) #Esta es para realizar la suma de todos los números ingresados\n",
        "print(stack_object.get_sum())\n",
        "\n",
        "for i in range(5):\n",
        "    print(stack_object.pop()) #Esta es para imprimir los números de la pila\n",
        "#Aquí se comprueba que podemos manipular una variable sin quitarle la protección, cosa que es muy útil ya que le mete una cierta flexibilidad al programa, ya que nos quita la limitante de no poder utilizar una variable que es crucial pero en algunos momentos necesitamos."
      ],
      "metadata": {
        "colab": {
          "base_uri": "https://localhost:8080/"
        },
        "id": "Ek8BSW4vq77N",
        "outputId": "a51262ce-baf4-41e8-d66d-02a0ab8761fa"
      },
      "execution_count": null,
      "outputs": [
        {
          "output_type": "stream",
          "name": "stdout",
          "text": [
            "10\n",
            "4\n",
            "3\n",
            "2\n",
            "1\n",
            "0\n"
          ]
        }
      ]
    },
    {
      "cell_type": "markdown",
      "source": [
        "Ejercicio 3.4.1.2"
      ],
      "metadata": {
        "id": "QEzHSa7U8RL8"
      }
    },
    {
      "cell_type": "code",
      "source": [
        "class Classy:\n",
        "    varia = 2\n",
        "    def method(self):\n",
        "        print(self.varia, self.var)\n",
        "\n",
        "\n",
        "obj = Classy()\n",
        "obj.var = 3 #Se crea un nuevo atributo\n",
        "obj.method() #Que se necesita para que esta línea funcione\n",
        "\n"
      ],
      "metadata": {
        "colab": {
          "base_uri": "https://localhost:8080/"
        },
        "id": "74E-nj9d8U8W",
        "outputId": "f774a781-c5d5-4b5b-c272-00480c80ed07"
      },
      "execution_count": null,
      "outputs": [
        {
          "output_type": "stream",
          "name": "stdout",
          "text": [
            "2 3\n"
          ]
        }
      ]
    },
    {
      "cell_type": "code",
      "source": [
        "class Classy:\n",
        "    def other(self):\n",
        "        print(\"otro\")\n",
        "\n",
        "    def method(self):\n",
        "        print(\"método\")\n",
        "        self.other() #Se volvió a utilizar la instrucción anterior, en casos más grandes eso nos ayudaría a reducir tamaños en el caso de que se tenga que reutilizar una instrucción\n",
        "\n",
        "\n",
        "obj = Classy()\n",
        "obj.method() #Así nada más se llama a method y activa ambas instrucciones\n",
        "\n"
      ],
      "metadata": {
        "colab": {
          "base_uri": "https://localhost:8080/"
        },
        "id": "omiyEouq8eYA",
        "outputId": "21f1e638-ccc5-4c72-e427-ddc806604ce4"
      },
      "execution_count": null,
      "outputs": [
        {
          "output_type": "stream",
          "name": "stdout",
          "text": [
            "método\n",
            "otro\n"
          ]
        }
      ]
    },
    {
      "cell_type": "markdown",
      "source": [
        "# Laboratorios"
      ],
      "metadata": {
        "id": "UhBDmzJv6YzO"
      }
    },
    {
      "cell_type": "markdown",
      "source": [
        "Laboratorio 3.2.1.14 Pila Contadora"
      ],
      "metadata": {
        "id": "6A0HL2mWtEvq"
      }
    },
    {
      "cell_type": "code",
      "source": [
        "class Stack:\n",
        "    def __init__(self):\n",
        "        self.__stk = []\n",
        "\n",
        "    def push(self, val):\n",
        "        self.__stk.append(val)\n",
        "\n",
        "    def pop(self):\n",
        "        val = self.__stk[-1]\n",
        "        del self.__stk[-1]\n",
        "        return val\n",
        "\n",
        "\n",
        "class CountingStack(Stack):\n",
        "    def __init__(self):\n",
        "      Stack.__init__(self)\n",
        "      self.__count = 0\n",
        "\n",
        "\n",
        "    def get_counter(self):\n",
        "      return self.__count\n",
        "\n",
        "\n",
        "    def pop(self):\n",
        "      val = Stack.pop(self)\n",
        "      self.__count += 1\n",
        "      return val\n",
        "\n",
        "\n",
        "stk = CountingStack()\n",
        "for i in range(100):\n",
        "    stk.push(i)\n",
        "    stk.pop()\n",
        "print(stk.get_counter())"
      ],
      "metadata": {
        "colab": {
          "base_uri": "https://localhost:8080/"
        },
        "id": "hva6y0k7u1ET",
        "outputId": "ee05f86b-047d-4087-e45b-81d5826acd89"
      },
      "execution_count": null,
      "outputs": [
        {
          "output_type": "stream",
          "name": "stdout",
          "text": [
            "100\n"
          ]
        }
      ]
    },
    {
      "cell_type": "markdown",
      "source": [
        "Laboratorio 3.2.1.15 Colas alias FIFO"
      ],
      "metadata": {
        "id": "eN-w8ZlwzPT5"
      }
    },
    {
      "cell_type": "code",
      "source": [
        "class QueueError():  # Eligir la clase base para la nueva excepción.\n",
        "    pass\n",
        "\n",
        "class Queue:\n",
        "    def __init__(self):\n",
        "      self.queue = []\n",
        "\n",
        "    def put(self, elem):\n",
        "      self.queue.insert(0, elem)\n",
        "\n",
        "\n",
        "    def get(self):\n",
        "      if len(self.queue) <= 0:\n",
        "        raise QueueError\n",
        "      return self.queue.pop()\n",
        "\n",
        "\n",
        "que = Queue()\n",
        "que.put(1)\n",
        "que.put(\"perro\")\n",
        "que.put(False)\n",
        "try:\n",
        "    for i in range(4):\n",
        "        print(que.get())\n",
        "except:\n",
        "    print(\"Error de Cola\")\n"
      ],
      "metadata": {
        "colab": {
          "base_uri": "https://localhost:8080/"
        },
        "id": "Qv8XU3F00mPX",
        "outputId": "c87d08fc-98c9-4aa6-bb36-5793a14e2a4c"
      },
      "execution_count": null,
      "outputs": [
        {
          "output_type": "stream",
          "name": "stdout",
          "text": [
            "1\n",
            "perro\n",
            "False\n",
            "Error de Cola\n"
          ]
        }
      ]
    },
    {
      "cell_type": "markdown",
      "source": [
        "Laboratorio 3.2.1.16"
      ],
      "metadata": {
        "id": "jDo9PMoW1_Jr"
      }
    },
    {
      "cell_type": "code",
      "source": [
        "class QueueError():\n",
        "    pass\n",
        "\n",
        "\n",
        "class Queue:\n",
        "      def __init__(self):\n",
        "        self.queue = []\n",
        "\n",
        "      def put(self, elem):\n",
        "        self.queue.insert(0, elem)\n",
        "\n",
        "\n",
        "      def get(self):\n",
        "        if len(self.queue) <= 0:\n",
        "          raise QueueError\n",
        "        return self.queue.pop()\n",
        "\n",
        "class SuperQueue(Queue):\n",
        "      def isempty(self):\n",
        "        if len(self.queue) <= 0:\n",
        "          return True\n",
        "        else:\n",
        "          return False\n",
        "\n",
        "que = SuperQueue()\n",
        "que.put(1)\n",
        "que.put(\"perro\")\n",
        "que.put(False)\n",
        "for i in range(4):\n",
        "    if not que.isempty():\n",
        "        print(que.get())\n",
        "    else:\n",
        "        print(\"Cola vacía\")\n"
      ],
      "metadata": {
        "colab": {
          "base_uri": "https://localhost:8080/"
        },
        "id": "O8ZkDpxP2MDQ",
        "outputId": "87018537-f66a-45c0-d374-4388cd5cf161"
      },
      "execution_count": null,
      "outputs": [
        {
          "output_type": "stream",
          "name": "stdout",
          "text": [
            "1\n",
            "perro\n",
            "False\n",
            "Cola vacía\n"
          ]
        }
      ]
    },
    {
      "cell_type": "markdown",
      "source": [
        "Laboratorio 3.4.1.12 La clase Timer"
      ],
      "metadata": {
        "id": "RZpcaYYMoTxJ"
      }
    },
    {
      "cell_type": "code",
      "source": [
        "class Timer:\n",
        "    def __init__(self, hours, min, sec):\n",
        "        self.hours = hours\n",
        "        self.min = min\n",
        "        self.sec = sec\n",
        "\n",
        "    def __str__(self):\n",
        "      return f\"{self.hours:02}:{self.min:02}:{self.sec:02}\"\n",
        "\n",
        "\n",
        "    def __next_second(self):\n",
        "        self.sec += 1\n",
        "        if self.sec > 59:\n",
        "          self.sec = 00\n",
        "          self.min += 1\n",
        "        if self.min > 59:\n",
        "          self.min = 00\n",
        "          self.hours += 1\n",
        "        if self.hours > 23:\n",
        "          self.hours = 00\n",
        "\n",
        "\n",
        "\n",
        "    def __prev_second(self):\n",
        "        self.sec -= 1\n",
        "        if self.sec < 0:\n",
        "          self.sec = 59\n",
        "          self.min -= 1\n",
        "        if self.min < 0:\n",
        "          self.min = 59\n",
        "          self.hours -= 1\n",
        "        if self.hours < 0:\n",
        "          self.hours = 23\n",
        "\n",
        "\n",
        "\n",
        "\n",
        "timer = Timer(23, 59, 59)\n",
        "print(timer)\n",
        "timer._Timer__next_second()\n",
        "print(timer)\n",
        "timer._Timer__prev_second()\n",
        "print(timer)\n"
      ],
      "metadata": {
        "colab": {
          "base_uri": "https://localhost:8080/"
        },
        "id": "GD_d_YBFoWzc",
        "outputId": "6069d830-aad7-4631-de90-5ed0f8380f13"
      },
      "execution_count": null,
      "outputs": [
        {
          "output_type": "stream",
          "name": "stdout",
          "text": [
            "23:59:59\n",
            "00:00:00\n",
            "23:59:59\n"
          ]
        }
      ]
    },
    {
      "cell_type": "markdown",
      "source": [
        "Laboratorio 3.4.1.13 Días de la semana"
      ],
      "metadata": {
        "id": "7roZBkbGuba5"
      }
    },
    {
      "cell_type": "code",
      "source": [
        "class WeekDayError(Exception):\n",
        "    pass\n",
        "\n",
        "\n",
        "class Weeker:\n",
        "    week = [\"Lun\", \"Mar\", \"Mie\", \"Jue\", \"Vie\", \"Sab\", \"Dom\"]\n",
        "\n",
        "    def __init__(self, day):\n",
        "        try:\n",
        "          self.day = Weeker.week.index(day)\n",
        "        except ValueError:\n",
        "          raise WeekDayError\n",
        "\n",
        "\n",
        "    def __str__(self):\n",
        "        return Weeker.week[self.day]\n",
        "\n",
        "    def __add_days(self, n):\n",
        "        self.day = (self.day + n) % 7\n",
        "\n",
        "    def __subtract_days(self, n):\n",
        "        self.day = (self.day + n) % 7\n",
        "\n",
        "\n",
        "try:\n",
        "    weekday = Weeker('Lun')\n",
        "    print(weekday)\n",
        "    weekday._Weeker__add_days(15)\n",
        "    print(weekday)\n",
        "    weekday._Weeker__subtract_days(23)\n",
        "    print(weekday)\n",
        "    weekday = Weeker('lun')\n",
        "except WeekDayError:\n",
        "    print(\"Lo siento, no puedo atender tu solicitud.\")"
      ],
      "metadata": {
        "colab": {
          "base_uri": "https://localhost:8080/"
        },
        "id": "3Y2LTNKZxBAn",
        "outputId": "fc95b279-4396-4e3f-a4d0-aafc3e0cca6a"
      },
      "execution_count": null,
      "outputs": [
        {
          "output_type": "stream",
          "name": "stdout",
          "text": [
            "Lun\n",
            "Mar\n",
            "Jue\n",
            "Lo siento, no puedo atender tu solicitud.\n"
          ]
        }
      ]
    },
    {
      "cell_type": "markdown",
      "source": [
        "Laboratorio 3.4.1.14 Puntos en un plano"
      ],
      "metadata": {
        "id": "avTE0pzK1laA"
      }
    },
    {
      "cell_type": "code",
      "source": [
        "import math\n",
        "\n",
        "\n",
        "class Point:\n",
        "    def __init__(self, x=0.0, y=0.0):\n",
        "        self.__x = x\n",
        "        self.__y = y\n",
        "\n",
        "    def getx(self):\n",
        "        return self.__x\n",
        "\n",
        "    def gety(self):\n",
        "        return self.__y\n",
        "\n",
        "    def __distance_from_xy(self, x, y):\n",
        "        return math.hypot(self.__x - x, self.__y - y)\n",
        "\n",
        "    def __distance_from_point(self, point):\n",
        "        return self.__distance_from_xy(point.getx(), point.gety())\n",
        "\n",
        "\n",
        "point1 = Point(0, 0)\n",
        "point2 = Point(1, 1)\n",
        "print(point1._Point__distance_from_point(point2))\n",
        "print(point2._Point__distance_from_xy(2, 0))"
      ],
      "metadata": {
        "colab": {
          "base_uri": "https://localhost:8080/"
        },
        "id": "gU42IjiT56On",
        "outputId": "bc73a9a8-9e06-483a-eb44-6eedf9592f3c"
      },
      "execution_count": null,
      "outputs": [
        {
          "output_type": "stream",
          "name": "stdout",
          "text": [
            "1.4142135623730951\n",
            "1.4142135623730951\n"
          ]
        }
      ]
    },
    {
      "cell_type": "markdown",
      "source": [
        "# Anotaciones"
      ],
      "metadata": {
        "id": "NyhaQLHr6ZGO"
      }
    },
    {
      "cell_type": "markdown",
      "source": [
        "Un corto viaje desde el enfoque procedimental hacia el orientado a objetos"
      ],
      "metadata": {
        "id": "1hg8TasYXe_0"
      }
    },
    {
      "cell_type": "code",
      "source": [
        "class Stack:  # Definiendo la clase de la pila.\n",
        "    def __init__(self):  # Definiendo la función del constructor.\n",
        "        print(\"¡Hola!\")\n",
        "\n",
        "\n",
        "stack_object = Stack()  # Instanciando el objeto."
      ],
      "metadata": {
        "colab": {
          "base_uri": "https://localhost:8080/"
        },
        "id": "wivgIdHDXlIl",
        "outputId": "945f4f2f-793c-4e34-ae87-344670e3ba1b"
      },
      "execution_count": null,
      "outputs": [
        {
          "output_type": "stream",
          "name": "stdout",
          "text": [
            "¡Hola!\n"
          ]
        }
      ]
    },
    {
      "cell_type": "code",
      "source": [
        "class Stack:\n",
        "    def __init__(self):\n",
        "        self.stack_list = []\n",
        "\n",
        "\n",
        "stack_object = Stack()\n",
        "print(len(stack_object.stack_list))\n"
      ],
      "metadata": {
        "colab": {
          "base_uri": "https://localhost:8080/"
        },
        "id": "Jptvn1ESYH7C",
        "outputId": "e3cc720d-f67a-44fb-d893-0a9914944ef3"
      },
      "execution_count": null,
      "outputs": [
        {
          "output_type": "stream",
          "name": "stdout",
          "text": [
            "0\n"
          ]
        }
      ]
    },
    {
      "cell_type": "code",
      "source": [
        "class Stack:\n",
        "    def __init__(self):\n",
        "        self.__stack_list = []\n",
        "\n",
        "    def push(self, val):\n",
        "        self.__stack_list.append(val)\n",
        "\n",
        "    def pop(self):\n",
        "        val = self.__stack_list[-1]\n",
        "        del self.__stack_list[-1]\n",
        "        return val\n",
        "\n",
        "\n",
        "stack_object_1 = Stack() #Se definieron ambos objetos desde la misma clase\n",
        "stack_object_2 = Stack()\n",
        "\n",
        "stack_object_1.push(3)\n",
        "stack_object_2.push(stack_object_1.pop())\n",
        "\n",
        "print(stack_object_2.pop())\n",
        "#Al final del programa ambos objetos quedaron vacíos y funcionan como listas completamente diferentes"
      ],
      "metadata": {
        "colab": {
          "base_uri": "https://localhost:8080/"
        },
        "id": "yUhMK1oMf7qP",
        "outputId": "e63bca47-98ce-41e6-8ff7-779d0e8a7c37"
      },
      "execution_count": null,
      "outputs": [
        {
          "output_type": "stream",
          "name": "stdout",
          "text": [
            "3\n"
          ]
        }
      ]
    },
    {
      "cell_type": "markdown",
      "source": [
        "POO: Propiedades"
      ],
      "metadata": {
        "id": "fhMjHxc8gtG3"
      }
    },
    {
      "cell_type": "code",
      "source": [
        "class ExampleClass:\n",
        "    def __init__(self, val = 1):\n",
        "        self.first = val #Esta variable solo le afecta a esta instancia\n",
        "\n",
        "    def set_second(self, val):\n",
        "        self.second = val #Lo mismo en esta caso\n",
        "\n",
        "\n",
        "example_object_1 = ExampleClass() #Aquí el objeto se le asigó a first\n",
        "example_object_2 = ExampleClass(2) #Al igual que aquí pero en el segundo objeto\n",
        "\n",
        "example_object_2.set_second(3) #Aquí se le asigno la segundo propiedad al segundo objeto\n",
        "\n",
        "example_object_3 = ExampleClass(4) #Se creo un tercer objeto y se le colocó la primera propiedad\n",
        "example_object_3.third = 5 #Al igual que se le asigno otro valor\n",
        "\n",
        "print(example_object_1.__dict__)\n",
        "print(example_object_2.__dict__)\n",
        "print(example_object_3.__dict__)\n",
        "\n"
      ],
      "metadata": {
        "colab": {
          "base_uri": "https://localhost:8080/"
        },
        "id": "gS2FKa3jgxH4",
        "outputId": "fdee5564-6011-4328-c78a-0efc01b40604"
      },
      "execution_count": null,
      "outputs": [
        {
          "output_type": "stream",
          "name": "stdout",
          "text": [
            "{'first': 1}\n",
            "{'first': 2, 'second': 3}\n",
            "{'first': 4, 'third': 5}\n"
          ]
        }
      ]
    },
    {
      "cell_type": "code",
      "source": [
        "class ExampleClass:\n",
        "    def __init__(self, val = 1): #En este caso las variables se hicieron privadas\n",
        "        self.__first = val\n",
        "\n",
        "    def set_second(self, val = 2):\n",
        "        self.__second = val\n",
        "\n",
        "\n",
        "example_object_1 = ExampleClass()\n",
        "example_object_2 = ExampleClass(2)\n",
        "\n",
        "example_object_2.set_second(3)\n",
        "\n",
        "example_object_3 = ExampleClass(4)\n",
        "example_object_3.__third = 5\n",
        "\n",
        "\n",
        "print(example_object_1.__dict__)\n",
        "print(example_object_2.__dict__)\n",
        "print(example_object_3.__dict__) #En estos casos los nombres aparecen con el nombre de la clase al inicio para que se puedan utilizar de manera normal, aunque sean privados\n",
        "#Con excepción del third\n"
      ],
      "metadata": {
        "colab": {
          "base_uri": "https://localhost:8080/"
        },
        "id": "Bs87XNbdhZqS",
        "outputId": "7a7617f3-e9e1-496f-e501-f7c0a224afbc"
      },
      "execution_count": null,
      "outputs": [
        {
          "output_type": "stream",
          "name": "stdout",
          "text": [
            "{'_ExampleClass__first': 1}\n",
            "{'_ExampleClass__first': 2, '_ExampleClass__second': 3}\n",
            "{'_ExampleClass__first': 4, '__third': 5}\n"
          ]
        }
      ]
    },
    {
      "cell_type": "code",
      "source": [
        "class ExampleClass:\n",
        "    counter = 0 #Esta variable le afecta a todas las instancias\n",
        "    def __init__(self, val = 1):\n",
        "        self.__first = val\n",
        "        ExampleClass.counter += 1\n",
        "\n",
        "\n",
        "example_object_1 = ExampleClass()\n",
        "example_object_2 = ExampleClass(2)\n",
        "example_object_3 = ExampleClass(4)\n",
        "\n",
        "print(example_object_1.__dict__, example_object_1.counter)\n",
        "print(example_object_2.__dict__, example_object_2.counter)\n",
        "print(example_object_3.__dict__, example_object_3.counter)\n",
        "\n"
      ],
      "metadata": {
        "colab": {
          "base_uri": "https://localhost:8080/"
        },
        "id": "zzjuwyWwnBCu",
        "outputId": "df934a76-9753-42f9-fd12-5f0dae1dfbf8"
      },
      "execution_count": null,
      "outputs": [
        {
          "output_type": "stream",
          "name": "stdout",
          "text": [
            "{'_ExampleClass__first': 1} 3\n",
            "{'_ExampleClass__first': 2} 3\n",
            "{'_ExampleClass__first': 4} 3\n"
          ]
        }
      ]
    },
    {
      "cell_type": "code",
      "source": [
        "class ExampleClass:\n",
        "    __counter = 0\n",
        "    def __init__(self, val = 1):\n",
        "        self.__first = val\n",
        "        ExampleClass.__counter += 1\n",
        "\n",
        "\n",
        "example_object_1 = ExampleClass()\n",
        "example_object_2 = ExampleClass(2)\n",
        "example_object_3 = ExampleClass(4)\n",
        "\n",
        "print(example_object_1.__dict__, example_object_1._ExampleClass__counter)\n",
        "print(example_object_2.__dict__, example_object_2._ExampleClass__counter)\n",
        "print(example_object_3.__dict__, example_object_3._ExampleClass__counter)\n"
      ],
      "metadata": {
        "colab": {
          "base_uri": "https://localhost:8080/"
        },
        "id": "T-oU660otRWJ",
        "outputId": "09d191fe-844a-4ad1-e695-03f795fd37a6"
      },
      "execution_count": null,
      "outputs": [
        {
          "output_type": "stream",
          "name": "stdout",
          "text": [
            "{'_ExampleClass__first': 1} 3\n",
            "{'_ExampleClass__first': 2} 3\n",
            "{'_ExampleClass__first': 4} 3\n"
          ]
        }
      ]
    },
    {
      "cell_type": "code",
      "source": [
        "class ExampleClass:\n",
        "    varia = 1\n",
        "    def __init__(self, val):\n",
        "        ExampleClass.varia = val #Se le asigna varia a val\n",
        "\n",
        "\n",
        "print(ExampleClass.__dict__) #Se imprime todo lo que esta dentro de la clase\n",
        "example_object = ExampleClass(2) #Se crea el primer objeto, cambiando de valor a la variable de clase\n",
        "\n",
        "print(ExampleClass.__dict__) #Se imprime algo parecido pero \"varia\" cambia a 2\n",
        "print(example_object.__dict__) #No se imprime nada porque no hay una variable de estancia\n"
      ],
      "metadata": {
        "colab": {
          "base_uri": "https://localhost:8080/"
        },
        "id": "V5tvT8Yhzzig",
        "outputId": "37a263e8-aae7-4cec-ced3-23900d1d7776"
      },
      "execution_count": null,
      "outputs": [
        {
          "output_type": "stream",
          "name": "stdout",
          "text": [
            "{'__module__': '__main__', 'varia': 1, '__init__': <function ExampleClass.__init__ at 0x7dd655b53d00>, '__dict__': <attribute '__dict__' of 'ExampleClass' objects>, '__weakref__': <attribute '__weakref__' of 'ExampleClass' objects>, '__doc__': None}\n",
            "{'__module__': '__main__', 'varia': 2, '__init__': <function ExampleClass.__init__ at 0x7dd655b53d00>, '__dict__': <attribute '__dict__' of 'ExampleClass' objects>, '__weakref__': <attribute '__weakref__' of 'ExampleClass' objects>, '__doc__': None}\n",
            "{}\n"
          ]
        }
      ]
    },
    {
      "cell_type": "code",
      "source": [
        "class ExampleClass:\n",
        "    def __init__(self, val):\n",
        "        if val % 2 != 0:\n",
        "            self.a = 1\n",
        "        else:\n",
        "            self.b = 1\n",
        "\n",
        "\n",
        "example_object = ExampleClass(1)\n",
        "\n",
        "print(example_object.a)\n",
        "print(example_object.b)\n"
      ],
      "metadata": {
        "colab": {
          "base_uri": "https://localhost:8080/",
          "height": 193
        },
        "id": "_jxIGU9U1riF",
        "outputId": "caf73fc9-f9ea-40dd-ff71-4434d8343abe"
      },
      "execution_count": null,
      "outputs": [
        {
          "output_type": "stream",
          "name": "stdout",
          "text": [
            "1\n"
          ]
        },
        {
          "output_type": "error",
          "ename": "AttributeError",
          "evalue": "'ExampleClass' object has no attribute 'b'",
          "traceback": [
            "\u001b[0;31m---------------------------------------------------------------------------\u001b[0m",
            "\u001b[0;31mAttributeError\u001b[0m                            Traceback (most recent call last)",
            "\u001b[0;32m<ipython-input-17-e96c796f1328>\u001b[0m in \u001b[0;36m<cell line: 12>\u001b[0;34m()\u001b[0m\n\u001b[1;32m     10\u001b[0m \u001b[0;34m\u001b[0m\u001b[0m\n\u001b[1;32m     11\u001b[0m \u001b[0mprint\u001b[0m\u001b[0;34m(\u001b[0m\u001b[0mexample_object\u001b[0m\u001b[0;34m.\u001b[0m\u001b[0ma\u001b[0m\u001b[0;34m)\u001b[0m\u001b[0;34m\u001b[0m\u001b[0;34m\u001b[0m\u001b[0m\n\u001b[0;32m---> 12\u001b[0;31m \u001b[0mprint\u001b[0m\u001b[0;34m(\u001b[0m\u001b[0mexample_object\u001b[0m\u001b[0;34m.\u001b[0m\u001b[0mb\u001b[0m\u001b[0;34m)\u001b[0m\u001b[0;34m\u001b[0m\u001b[0;34m\u001b[0m\u001b[0m\n\u001b[0m",
            "\u001b[0;31mAttributeError\u001b[0m: 'ExampleClass' object has no attribute 'b'"
          ]
        }
      ]
    },
    {
      "cell_type": "code",
      "source": [
        "class ExampleClass:\n",
        "    def __init__(self, val):\n",
        "        if val % 2 != 0:\n",
        "            self.a = 1\n",
        "        else:\n",
        "            self.b = 1\n",
        "\n",
        "\n",
        "example_object = ExampleClass(1)\n",
        "print(example_object.a)\n",
        "\n",
        "try:\n",
        "    print(example_object.b)\n",
        "except AttributeError:\n",
        "    pass\n"
      ],
      "metadata": {
        "colab": {
          "base_uri": "https://localhost:8080/"
        },
        "id": "XTWQmbG036gR",
        "outputId": "3d8546ff-f4ae-4635-83b9-f20e276ada39"
      },
      "execution_count": null,
      "outputs": [
        {
          "output_type": "stream",
          "name": "stdout",
          "text": [
            "1\n"
          ]
        }
      ]
    },
    {
      "cell_type": "code",
      "source": [
        "class ExampleClass:\n",
        "    def __init__(self, val):\n",
        "        if val % 2 != 0:\n",
        "            self.a = 1\n",
        "        else:\n",
        "            self.b = 1\n",
        "\n",
        "\n",
        "example_object = ExampleClass(1)\n",
        "print(example_object.a)\n",
        "\n",
        "if hasattr(example_object, 'b'):\n",
        "    print(example_object.b)\n",
        "\n"
      ],
      "metadata": {
        "colab": {
          "base_uri": "https://localhost:8080/"
        },
        "id": "9aJlRy10370r",
        "outputId": "8d4b4063-3d89-4bd6-e45c-19932fc04403"
      },
      "execution_count": null,
      "outputs": [
        {
          "output_type": "stream",
          "name": "stdout",
          "text": [
            "1\n"
          ]
        }
      ]
    },
    {
      "cell_type": "code",
      "source": [
        "class ExampleClass:\n",
        "    def __init__(self, val):\n",
        "        if val % 2 != 0:\n",
        "            self.a = 1\n",
        "        else:\n",
        "            self.b = 1\n",
        "\n",
        "\n",
        "example_object = ExampleClass(1)\n",
        "print(example_object.a)\n",
        "\n",
        "print(hasattr(example_object, 'b'))\n"
      ],
      "metadata": {
        "colab": {
          "base_uri": "https://localhost:8080/"
        },
        "id": "SqlcTZse4B7G",
        "outputId": "86dba487-ec23-418a-a2c4-2871603a05f6"
      },
      "execution_count": null,
      "outputs": [
        {
          "output_type": "stream",
          "name": "stdout",
          "text": [
            "1\n",
            "False\n"
          ]
        }
      ]
    },
    {
      "cell_type": "code",
      "source": [
        "class ExampleClass:\n",
        "    attr = 1\n",
        "\n",
        "\n",
        "print(hasattr(ExampleClass, 'attr'))\n",
        "print(hasattr(ExampleClass, 'prop'))\n"
      ],
      "metadata": {
        "colab": {
          "base_uri": "https://localhost:8080/"
        },
        "id": "7iihfCRz4zxd",
        "outputId": "53777b72-0417-4ae2-d92f-cd88cbe88aa6"
      },
      "execution_count": null,
      "outputs": [
        {
          "output_type": "stream",
          "name": "stdout",
          "text": [
            "True\n",
            "False\n"
          ]
        }
      ]
    },
    {
      "cell_type": "code",
      "source": [
        "class ExampleClass:\n",
        "    a = 1\n",
        "    def __init__(self):\n",
        "        self.b = 2\n",
        "\n",
        "\n",
        "example_object = ExampleClass()\n",
        "\n",
        "print(hasattr(example_object, 'b'))\n",
        "print(hasattr(example_object, 'a'))\n",
        "print(hasattr(ExampleClass, 'b'))\n",
        "print(hasattr(ExampleClass, 'a'))\n",
        "\n"
      ],
      "metadata": {
        "colab": {
          "base_uri": "https://localhost:8080/"
        },
        "id": "WzrusbRI411f",
        "outputId": "4a6b33e1-c6d7-4134-ebc7-92b987c00ebf"
      },
      "execution_count": null,
      "outputs": [
        {
          "output_type": "stream",
          "name": "stdout",
          "text": [
            "True\n",
            "True\n",
            "False\n",
            "True\n"
          ]
        }
      ]
    },
    {
      "cell_type": "markdown",
      "source": [
        "Métodos"
      ],
      "metadata": {
        "id": "8HqQ-riH7m4F"
      }
    },
    {
      "cell_type": "code",
      "source": [
        "class Classy:\n",
        "    def method(self):\n",
        "        print(\"método\")\n",
        "\n",
        "\n",
        "obj = Classy()\n",
        "obj.method()\n"
      ],
      "metadata": {
        "colab": {
          "base_uri": "https://localhost:8080/"
        },
        "id": "1H90bZe47ocO",
        "outputId": "7aa3fa2c-b086-44e3-c3fc-a45dec86eb28"
      },
      "execution_count": null,
      "outputs": [
        {
          "output_type": "stream",
          "name": "stdout",
          "text": [
            "método\n"
          ]
        }
      ]
    },
    {
      "cell_type": "code",
      "source": [
        "class Classy:\n",
        "    def method(self, par):\n",
        "        print(\"método:\", par)\n",
        "\n",
        "\n",
        "obj = Classy()\n",
        "obj.method(1)\n",
        "obj.method(2)\n",
        "obj.method(3)\n"
      ],
      "metadata": {
        "colab": {
          "base_uri": "https://localhost:8080/"
        },
        "id": "PzDrolX_7rNw",
        "outputId": "a39b84eb-fa72-4aea-872a-3a365eb0ed22"
      },
      "execution_count": null,
      "outputs": [
        {
          "output_type": "stream",
          "name": "stdout",
          "text": [
            "método: 1\n",
            "método: 2\n",
            "método: 3\n"
          ]
        }
      ]
    },
    {
      "cell_type": "code",
      "source": [
        "class Classy:\n",
        "    def __init__(self, value):\n",
        "        self.var = value\n",
        "\n",
        "\n",
        "obj_1 = Classy(\"objeto\")\n",
        "\n",
        "print(obj_1.var)\n"
      ],
      "metadata": {
        "colab": {
          "base_uri": "https://localhost:8080/"
        },
        "id": "lYnFolnzBMW1",
        "outputId": "81448f28-e7b6-491d-891a-f7221c036806"
      },
      "execution_count": null,
      "outputs": [
        {
          "output_type": "stream",
          "name": "stdout",
          "text": [
            "objeto\n"
          ]
        }
      ]
    },
    {
      "cell_type": "code",
      "source": [
        "class Classy:\n",
        "    def __init__(self, value = None):\n",
        "        self.var = value\n",
        "\n",
        "\n",
        "obj_1 = Classy(\"objeto\")\n",
        "obj_2 = Classy()\n",
        "\n",
        "print(obj_1.var)\n",
        "print(obj_2.var)"
      ],
      "metadata": {
        "colab": {
          "base_uri": "https://localhost:8080/"
        },
        "id": "0m30vug9CRtK",
        "outputId": "1e5ef366-1f57-446f-ef1f-66daf3d1171f"
      },
      "execution_count": null,
      "outputs": [
        {
          "output_type": "stream",
          "name": "stdout",
          "text": [
            "objeto\n",
            "None\n"
          ]
        }
      ]
    },
    {
      "cell_type": "code",
      "source": [
        "class Classy:\n",
        "    def visible(self):\n",
        "        print(\"visible\")\n",
        "\n",
        "    def __hidden(self):\n",
        "        print(\"oculto\")\n",
        "\n",
        "\n",
        "obj = Classy()\n",
        "obj.visible()\n",
        "\n",
        "try:\n",
        "    obj.__hidden()\n",
        "except:\n",
        "    print(\"fallido\")\n",
        "\n",
        "obj._Classy__hidden() #Se tiene que poner un nombre en específico para trabajar con los métodos ocultos\n",
        "\n"
      ],
      "metadata": {
        "colab": {
          "base_uri": "https://localhost:8080/"
        },
        "id": "xF620ErPCThD",
        "outputId": "268ed05a-0eef-47fb-e2a8-b03921757629"
      },
      "execution_count": null,
      "outputs": [
        {
          "output_type": "stream",
          "name": "stdout",
          "text": [
            "visible\n",
            "fallido\n",
            "oculto\n"
          ]
        }
      ]
    },
    {
      "cell_type": "code",
      "source": [
        "class Classy:\n",
        "    varia = 1\n",
        "    def __init__(self):\n",
        "        self.var = 2\n",
        "\n",
        "    def method(self):\n",
        "        pass\n",
        "\n",
        "    def __hidden(self):\n",
        "        pass\n",
        "\n",
        "\n",
        "obj = Classy()\n",
        "\n",
        "print(obj.__dict__)\n",
        "print(Classy.__dict__)\n"
      ],
      "metadata": {
        "colab": {
          "base_uri": "https://localhost:8080/"
        },
        "id": "T7hj8F8oDV7U",
        "outputId": "8d534aed-682f-4fa3-af74-a72ffe7ea90d"
      },
      "execution_count": null,
      "outputs": [
        {
          "output_type": "stream",
          "name": "stdout",
          "text": [
            "{'var': 2}\n",
            "{'__module__': '__main__', 'varia': 1, '__init__': <function Classy.__init__ at 0x7dd655b520e0>, 'method': <function Classy.method at 0x7dd655b52200>, '_Classy__hidden': <function Classy.__hidden at 0x7dd655b527a0>, '__dict__': <attribute '__dict__' of 'Classy' objects>, '__weakref__': <attribute '__weakref__' of 'Classy' objects>, '__doc__': None}\n"
          ]
        }
      ]
    },
    {
      "cell_type": "code",
      "source": [
        "class Classy:\n",
        "    pass\n",
        "\n",
        "\n",
        "print(Classy.__name__) #Lanza el nombre de la clase\n",
        "obj = Classy()\n",
        "print(type(obj).__name__) #Lanza el nombre de la clase a la que el objeto esta asociado\n"
      ],
      "metadata": {
        "colab": {
          "base_uri": "https://localhost:8080/"
        },
        "id": "ti1XXizje5pZ",
        "outputId": "b0d0e48a-3651-4a64-b21a-02ce8b8366a5"
      },
      "execution_count": null,
      "outputs": [
        {
          "output_type": "stream",
          "name": "stdout",
          "text": [
            "Classy\n",
            "Classy\n"
          ]
        }
      ]
    },
    {
      "cell_type": "code",
      "source": [
        "class Classy:\n",
        "    pass\n",
        "\n",
        "\n",
        "print(Classy.__module__)\n",
        "obj = Classy()\n",
        "print(obj.__module__)\n"
      ],
      "metadata": {
        "colab": {
          "base_uri": "https://localhost:8080/"
        },
        "id": "9igN9LdngCrf",
        "outputId": "6f12f5f1-d95f-489b-f40d-186ffeda1240"
      },
      "execution_count": null,
      "outputs": [
        {
          "output_type": "stream",
          "name": "stdout",
          "text": [
            "__main__\n",
            "__main__\n"
          ]
        }
      ]
    },
    {
      "cell_type": "code",
      "source": [
        "class SuperOne:\n",
        "    pass\n",
        "\n",
        "\n",
        "class SuperTwo:\n",
        "    pass\n",
        "\n",
        "\n",
        "class Sub(SuperOne, SuperTwo):\n",
        "    pass\n",
        "\n",
        "\n",
        "def printBases(cls):\n",
        "    print('( ', end='')\n",
        "\n",
        "    for x in cls.__bases__:\n",
        "        print(x.__name__, end=' ')\n",
        "    print(')')\n",
        "\n",
        "\n",
        "printBases(SuperOne)\n",
        "printBases(SuperTwo)\n",
        "printBases(Sub)\n"
      ],
      "metadata": {
        "colab": {
          "base_uri": "https://localhost:8080/"
        },
        "id": "H2pu2igkiZj5",
        "outputId": "09b6aec9-fc3b-46b6-8008-e1a529273661"
      },
      "execution_count": null,
      "outputs": [
        {
          "output_type": "stream",
          "name": "stdout",
          "text": [
            "( object )\n",
            "( object )\n",
            "( SuperOne SuperTwo )\n"
          ]
        }
      ]
    },
    {
      "cell_type": "code",
      "source": [
        "class MyClass:\n",
        "    pass\n",
        "\n",
        "\n",
        "obj = MyClass()\n",
        "obj.a = 1\n",
        "obj.b = 2\n",
        "obj.i = 3\n",
        "obj.ireal = 3.5\n",
        "obj.integer = 4\n",
        "obj.z = 5\n",
        "\n",
        "\n",
        "def incIntsI(obj):\n",
        "    for name in obj.__dict__.keys():\n",
        "        if name.startswith('i'):\n",
        "            val = getattr(obj, name)\n",
        "            if isinstance(val, int):\n",
        "                setattr(obj, name, val + 1)\n",
        "\n",
        "\n",
        "print(obj.__dict__)\n",
        "incIntsI(obj)\n",
        "print(obj.__dict__)\n"
      ],
      "metadata": {
        "colab": {
          "base_uri": "https://localhost:8080/"
        },
        "id": "BqhuDm94lBVj",
        "outputId": "48d1a3f1-64a3-4332-e97f-f970a0052b6e"
      },
      "execution_count": null,
      "outputs": [
        {
          "output_type": "stream",
          "name": "stdout",
          "text": [
            "{'a': 1, 'b': 2, 'i': 3, 'ireal': 3.5, 'integer': 4, 'z': 5}\n",
            "{'a': 1, 'b': 2, 'i': 4, 'ireal': 3.5, 'integer': 5, 'z': 5}\n"
          ]
        }
      ]
    },
    {
      "cell_type": "markdown",
      "source": [
        "Fundamentos de P0O: Herencia"
      ],
      "metadata": {
        "id": "k4CFBXsIrGPE"
      }
    },
    {
      "cell_type": "code",
      "source": [
        "#El objeto se presenta a si mismo\n",
        "class Star:\n",
        "    def __init__(self, name, galaxy):\n",
        "        self.name = name\n",
        "        self.galaxy = galaxy\n",
        "\n",
        "\n",
        "sun = Star(\"Sol\", \"Vía Láctea\")\n",
        "print(sun)\n"
      ],
      "metadata": {
        "colab": {
          "base_uri": "https://localhost:8080/"
        },
        "id": "qv8X3TUQrJ0f",
        "outputId": "30a0999a-5b8f-4aa6-c83f-9f0c7c9a0d4a"
      },
      "execution_count": null,
      "outputs": [
        {
          "output_type": "stream",
          "name": "stdout",
          "text": [
            "<__main__.Star object at 0x7d4fb8f39d20>\n"
          ]
        }
      ]
    },
    {
      "cell_type": "code",
      "source": [
        "#Funcionamiento del método __str__\n",
        "class Star:\n",
        "    def __init__(self, name, galaxy):\n",
        "        self.name = name\n",
        "        self.galaxy = galaxy\n",
        "\n",
        "    def __str__(self):\n",
        "        return self.name + ' en ' + self.galaxy\n",
        "\n",
        "\n",
        "sun = Star(\"Sol\", \"Vía Láctea\")\n",
        "print(sun)\n"
      ],
      "metadata": {
        "colab": {
          "base_uri": "https://localhost:8080/"
        },
        "id": "QLCINrg5sDED",
        "outputId": "83ca9eb7-b34e-49ad-96f9-2904faebe537"
      },
      "execution_count": null,
      "outputs": [
        {
          "output_type": "stream",
          "name": "stdout",
          "text": [
            "Sol en Vía Láctea\n"
          ]
        }
      ]
    },
    {
      "cell_type": "code",
      "source": [
        "#Verificación de subclases\n",
        "class Vehicle:\n",
        "    pass\n",
        "\n",
        "\n",
        "class LandVehicle(Vehicle):\n",
        "    pass\n",
        "\n",
        "\n",
        "class TrackedVehicle(LandVehicle):\n",
        "    pass\n",
        "\n",
        "\n",
        "for cls1 in [Vehicle, LandVehicle, TrackedVehicle]:\n",
        "    for cls2 in [Vehicle, LandVehicle, TrackedVehicle]:\n",
        "        print(issubclass(cls1, cls2), end=\"\\t\")\n",
        "    print()\n"
      ],
      "metadata": {
        "colab": {
          "base_uri": "https://localhost:8080/"
        },
        "id": "ELlv-Uzctml0",
        "outputId": "79baa9de-b6c6-4013-8513-e2ca0a2adde5"
      },
      "execution_count": null,
      "outputs": [
        {
          "output_type": "stream",
          "name": "stdout",
          "text": [
            "True\tFalse\tFalse\t\n",
            "True\tTrue\tFalse\t\n",
            "True\tTrue\tTrue\t\n"
          ]
        }
      ]
    },
    {
      "cell_type": "code",
      "source": [
        "#Verificacion de que si un objeto le pertenece a cierta clase\n",
        "class Vehicle:\n",
        "    pass\n",
        "\n",
        "\n",
        "class LandVehicle(Vehicle):\n",
        "    pass\n",
        "\n",
        "\n",
        "class TrackedVehicle(LandVehicle):\n",
        "    pass\n",
        "\n",
        "\n",
        "my_vehicle = Vehicle()\n",
        "my_land_vehicle = LandVehicle()\n",
        "my_tracked_vehicle = TrackedVehicle()\n",
        "\n",
        "for obj in [my_vehicle, my_land_vehicle, my_tracked_vehicle]:\n",
        "    for cls in [Vehicle, LandVehicle, TrackedVehicle]:\n",
        "        print(isinstance(obj, cls), end=\"\\t\")\n",
        "    print()\n"
      ],
      "metadata": {
        "id": "ddGEAph_uoIF"
      },
      "execution_count": null,
      "outputs": []
    },
    {
      "cell_type": "code",
      "source": [
        "class SampleClass:\n",
        "    def __init__(self, val):\n",
        "        self.val = val\n",
        "\n",
        "\n",
        "object_1 = SampleClass(0)\n",
        "object_2 = SampleClass(2)\n",
        "object_3 = object_1 #Son el mismo objeto\n",
        "object_3.val += 1 #Por lo tanto si se incrementa en 1 a uno, también se va a incrementar en 1 al otro\n",
        "\n",
        "print(object_1 is object_2)\n",
        "print(object_2 is object_3)\n",
        "print(object_3 is object_1)\n",
        "print(object_1.val, object_2.val, object_3.val) #Por eso es que el primer objeto imprime 1, a pesar de que se le haya asignado 1\n",
        "\n",
        "string_1 = \"Mary tenía un \"\n",
        "string_2 = \"Mary tenía un corderito\"\n",
        "string_1 += \"corderito\"\n",
        "\n",
        "print(string_1 == string_2, string_1 is string_2) #String 1 y 2 tienen el mismo contenido, pero no son lo mismo\n"
      ],
      "metadata": {
        "colab": {
          "base_uri": "https://localhost:8080/"
        },
        "id": "RNphMOPMvwtr",
        "outputId": "02ee480f-480d-4e09-a12c-cb90750f90e4"
      },
      "execution_count": null,
      "outputs": [
        {
          "output_type": "stream",
          "name": "stdout",
          "text": [
            "False\n",
            "False\n",
            "True\n",
            "1 2 1\n",
            "True False\n"
          ]
        }
      ]
    },
    {
      "cell_type": "code",
      "source": [
        "class Super:\n",
        "    def __init__(self, name):\n",
        "        self.name = name\n",
        "\n",
        "    def __str__(self):\n",
        "        return \"Mi nombre es \" + self.name + \".\"\n",
        "\n",
        "\n",
        "class Sub(Super):\n",
        "    def __init__(self, name): #Aún así esta subclase tiene su propio constructor\n",
        "        Super.__init__(self, name) #Se llama de esta forma a las propiedades de la superclase\n",
        "\n",
        "\n",
        "obj = Sub(\"Andy\")\n",
        "\n",
        "print(obj)\n"
      ],
      "metadata": {
        "colab": {
          "base_uri": "https://localhost:8080/"
        },
        "id": "J6ScrDsLxAYF",
        "outputId": "0529cdd3-bc2a-464c-e25b-d17a2a05c04f"
      },
      "execution_count": null,
      "outputs": [
        {
          "output_type": "stream",
          "name": "stdout",
          "text": [
            "Mi nombre es Andy.\n"
          ]
        }
      ]
    },
    {
      "cell_type": "code",
      "source": [
        "class Super:\n",
        "    def __init__(self, name):\n",
        "        self.name = name\n",
        "\n",
        "    def __str__(self):\n",
        "        return \"Mi nombre es \" + self.name + \".\"\n",
        "\n",
        "\n",
        "class Sub(Super):\n",
        "    def __init__(self, name):\n",
        "        super().__init__(name) #Se hace exactamente lo mismo que arriba, pero sin saber el nombre de la superclase\n",
        "\n",
        "\n",
        "obj = Sub(\"Andy\")\n",
        "\n",
        "print(obj)\n"
      ],
      "metadata": {
        "id": "9984aguoyC36"
      },
      "execution_count": null,
      "outputs": []
    },
    {
      "cell_type": "code",
      "source": [
        "# Probando propiedades: variables de clase.\n",
        "class Super:\n",
        "    supVar = 1\n",
        "\n",
        "\n",
        "class Sub(Super):\n",
        "    subVar = 2\n",
        "\n",
        "\n",
        "obj = Sub()\n",
        "\n",
        "print(obj.subVar)\n",
        "print(obj.supVar)\n"
      ],
      "metadata": {
        "colab": {
          "base_uri": "https://localhost:8080/"
        },
        "id": "4Pxpq9slypfV",
        "outputId": "e16a90fb-9d9e-4f0a-b7bc-33dc4667e4b5"
      },
      "execution_count": null,
      "outputs": [
        {
          "output_type": "stream",
          "name": "stdout",
          "text": [
            "2\n",
            "1\n"
          ]
        }
      ]
    },
    {
      "cell_type": "code",
      "source": [
        "# Probando propiedades: variables de instancia.\n",
        "class Super:\n",
        "    def __init__(self):\n",
        "        self.supVar = 11\n",
        "\n",
        "\n",
        "class Sub(Super):\n",
        "    def __init__(self):\n",
        "        super().__init__() #Se tiene que invocar al constructor del super, ya que son variables de instancia\n",
        "        self.subVar = 12\n",
        "\n",
        "\n",
        "obj = Sub()\n",
        "\n",
        "print(obj.subVar)\n",
        "print(obj.supVar)\n"
      ],
      "metadata": {
        "colab": {
          "base_uri": "https://localhost:8080/"
        },
        "id": "T7XFS9BfzI9y",
        "outputId": "216c5bff-9668-46c2-dc00-87c8e8784438"
      },
      "execution_count": null,
      "outputs": [
        {
          "output_type": "stream",
          "name": "stdout",
          "text": [
            "12\n",
            "11\n"
          ]
        }
      ]
    },
    {
      "cell_type": "code",
      "source": [
        "#El objeto va a detectar todos los datos que estén involucrados\n",
        "class Level1:\n",
        "    variable_1 = 100\n",
        "    def __init__(self):\n",
        "        self.var_1 = 101\n",
        "\n",
        "    def fun_1(self):\n",
        "        return 102\n",
        "\n",
        "\n",
        "class Level2(Level1):\n",
        "    variable_2 = 200\n",
        "    def __init__(self):\n",
        "        super().__init__()\n",
        "        self.var_2 = 201\n",
        "\n",
        "    def fun_2(self):\n",
        "        return 202\n",
        "\n",
        "\n",
        "class Level3(Level2):\n",
        "    variable_3 = 300\n",
        "    def __init__(self):\n",
        "        super().__init__()\n",
        "        self.var_3 = 301\n",
        "\n",
        "    def fun_3(self):\n",
        "        return 302\n",
        "\n",
        "\n",
        "obj = Level3()\n",
        "\n",
        "print(obj.variable_1, obj.var_1, obj.fun_1())\n",
        "print(obj.variable_2, obj.var_2, obj.fun_2())\n",
        "print(obj.variable_3, obj.var_3, obj.fun_3())\n"
      ],
      "metadata": {
        "colab": {
          "base_uri": "https://localhost:8080/"
        },
        "id": "00km9hwh0r3Q",
        "outputId": "68b1d394-d147-432e-d772-43356664717c"
      },
      "execution_count": null,
      "outputs": [
        {
          "output_type": "stream",
          "name": "stdout",
          "text": [
            "100 101 102\n",
            "200 201 202\n",
            "300 301 302\n"
          ]
        }
      ]
    },
    {
      "cell_type": "code",
      "source": [
        "#Herencia Múltiple\n",
        "class SuperA:\n",
        "    var_a = 10\n",
        "    def fun_a(self):\n",
        "        return 11\n",
        "\n",
        "\n",
        "class SuperB:\n",
        "    var_b = 20\n",
        "    def fun_b(self):\n",
        "        return 21\n",
        "\n",
        "\n",
        "class Sub(SuperA, SuperB):\n",
        "    pass\n",
        "\n",
        "\n",
        "obj = Sub()\n",
        "\n",
        "print(obj.var_a, obj.fun_a())\n",
        "print(obj.var_b, obj.fun_b())\n"
      ],
      "metadata": {
        "colab": {
          "base_uri": "https://localhost:8080/"
        },
        "id": "g253VqCZ1fgM",
        "outputId": "da82d18a-21e5-42cd-b908-2369f409fb36"
      },
      "execution_count": null,
      "outputs": [
        {
          "output_type": "stream",
          "name": "stdout",
          "text": [
            "10 11\n",
            "20 21\n"
          ]
        }
      ]
    },
    {
      "cell_type": "code",
      "source": [
        "#Las variables anulan a las variables anteriores con el mismo nombre\n",
        "class Level1:\n",
        "    var = 100\n",
        "    def fun(self):\n",
        "        return 101\n",
        "\n",
        "\n",
        "class Level2(Level1):\n",
        "    var = 200\n",
        "    def fun(self):\n",
        "        return 201\n",
        "\n",
        "\n",
        "class Level3(Level2):\n",
        "    pass\n",
        "\n",
        "\n",
        "obj = Level3()\n",
        "\n",
        "print(obj.var, obj.fun())\n"
      ],
      "metadata": {
        "colab": {
          "base_uri": "https://localhost:8080/"
        },
        "id": "gMcXQaPb2NtI",
        "outputId": "6cbb9877-31ae-467b-f6e4-5e10bcc0b008"
      },
      "execution_count": null,
      "outputs": [
        {
          "output_type": "stream",
          "name": "stdout",
          "text": [
            "200 201\n"
          ]
        }
      ]
    },
    {
      "cell_type": "code",
      "source": [
        "#En los casos de herencia múltiple, el programa va a buscar primero en la clase misma y después en las herencia de izquierda a derecha\n",
        "class Left:\n",
        "    var = \"L\"\n",
        "    var_left = \"LL\"\n",
        "    def fun(self):\n",
        "        return \"Left\"\n",
        "\n",
        "\n",
        "class Right:\n",
        "    var = \"R\"\n",
        "    var_right = \"RR\"\n",
        "    def fun(self):\n",
        "        return \"Right\"\n",
        "\n",
        "\n",
        "class Sub(Left, Right): #Osea va a buscar primero Left y después Right\n",
        "    pass\n",
        "\n",
        "\n",
        "obj = Sub()\n",
        "\n",
        "print(obj.var, obj.var_left, obj.var_right, obj.fun()) #Imprimiendo el primero que encuentre\n"
      ],
      "metadata": {
        "colab": {
          "base_uri": "https://localhost:8080/"
        },
        "id": "1dTXGUYA3RIK",
        "outputId": "0f359751-8ec4-49ef-d2d2-7217ada4ecff"
      },
      "execution_count": null,
      "outputs": [
        {
          "output_type": "stream",
          "name": "stdout",
          "text": [
            "L LL RR Left\n"
          ]
        }
      ]
    },
    {
      "cell_type": "code",
      "source": [
        "class One:\n",
        "    def do_it(self):\n",
        "        print(\"do_it de One\")\n",
        "\n",
        "    def doanything(self):\n",
        "        self.do_it()\n",
        "\n",
        "\n",
        "class Two(One):\n",
        "    def do_it(self):\n",
        "        print(\"do_it de Two\")\n",
        "#doanything esta en two por la herencia, pero cambia su comportamiento con la nueva definición de aquí\n",
        "\n",
        "one = One()\n",
        "two = Two()\n",
        "\n",
        "one.doanything()\n",
        "two.doanything()\n"
      ],
      "metadata": {
        "colab": {
          "base_uri": "https://localhost:8080/"
        },
        "id": "MWZYvRFG41fw",
        "outputId": "96802a14-054b-4c78-8cb9-66a93923547e"
      },
      "execution_count": null,
      "outputs": [
        {
          "output_type": "stream",
          "name": "stdout",
          "text": [
            "do_it de One\n",
            "do_it de Two\n"
          ]
        }
      ]
    },
    {
      "cell_type": "code",
      "source": [
        "import time\n",
        "\n",
        "class Vehicle:\n",
        "    def change_direction(left, on):\n",
        "        pass\n",
        "\n",
        "    def turn(left):\n",
        "        change_direction(left, True)\n",
        "        time.sleep(0.25)\n",
        "        change_direction(left, False)\n",
        "\n",
        "\n",
        "class TrackedVehicle(Vehicle):\n",
        "    def control_track(left, stop):\n",
        "        pass\n",
        "\n",
        "    def change_direction(left, on):\n",
        "        control_track(left, on)\n",
        "\n",
        "\n",
        "class WheeledVehicle(Vehicle):\n",
        "    def turn_front_wheels(left, on):\n",
        "        pass\n",
        "\n",
        "    def change_direction(left, on):\n",
        "        turn_front_wheels(left, on)\n"
      ],
      "metadata": {
        "id": "8cT1SWWx7aKQ"
      },
      "execution_count": null,
      "outputs": []
    },
    {
      "cell_type": "code",
      "source": [
        "import time\n",
        "\n",
        "class Tracks:\n",
        "    def change_direction(self, left, on):\n",
        "        print(\"pistas: \", left, on)\n",
        "\n",
        "\n",
        "class Wheels:\n",
        "    def change_direction(self, left, on):\n",
        "        print(\"ruedas: \", left, on)\n",
        "\n",
        "\n",
        "class Vehicle:\n",
        "    def __init__(self, controller):\n",
        "        self.controller = controller\n",
        "\n",
        "    def turn(self, left):\n",
        "        self.controller.change_direction(left, True)\n",
        "        time.sleep(0.25)\n",
        "        self.controller.change_direction(left, False)\n",
        "\n",
        "\n",
        "wheeled = Vehicle(Wheels()) #Se define con el objeto y como argumento la segundo clase\n",
        "tracked = Vehicle(Tracks()) #Lo mismo, pero con la primera clase\n",
        "\n",
        "wheeled.turn(True)\n",
        "tracked.turn(False)\n"
      ],
      "metadata": {
        "colab": {
          "base_uri": "https://localhost:8080/"
        },
        "id": "xIzQ0JD-87V9",
        "outputId": "3bc2bbf7-a6ac-4dd6-9fb9-1491beb8ce45"
      },
      "execution_count": null,
      "outputs": [
        {
          "output_type": "stream",
          "name": "stdout",
          "text": [
            "ruedas:  True True\n",
            "ruedas:  True False\n",
            "pistas:  False True\n",
            "pistas:  False False\n"
          ]
        }
      ]
    },
    {
      "cell_type": "code",
      "source": [
        "#Herencia Simple\n",
        "class Top:\n",
        "    def m_top(self):\n",
        "        print(\"top\")\n",
        "\n",
        "\n",
        "class Middle(Top):\n",
        "    def m_middle(self):\n",
        "        print(\"middle\")\n",
        "\n",
        "\n",
        "class Bottom(Middle):\n",
        "    def m_bottom(self):\n",
        "        print(\"bottom\")\n",
        "\n",
        "\n",
        "object = Bottom()\n",
        "object.m_bottom()\n",
        "object.m_middle()\n",
        "object.m_top()\n"
      ],
      "metadata": {
        "colab": {
          "base_uri": "https://localhost:8080/"
        },
        "id": "gBuVASkb_6bB",
        "outputId": "495c915b-c340-43ce-8b25-ae92661f8f76"
      },
      "execution_count": null,
      "outputs": [
        {
          "output_type": "stream",
          "name": "stdout",
          "text": [
            "bottom\n",
            "middle\n",
            "top\n"
          ]
        }
      ]
    },
    {
      "cell_type": "code",
      "source": [
        "#Herencia Múltiple\n",
        "class Top:\n",
        "    def m_top(self):\n",
        "        print(\"top\")\n",
        "\n",
        "\n",
        "class Middle(Top):\n",
        "    def m_middle(self):\n",
        "        print(\"middle\")\n",
        "\n",
        "\n",
        "class Bottom(Middle, Top):\n",
        "    def m_bottom(self):\n",
        "        print(\"bottom\")\n",
        "\n",
        "\n",
        "object = Bottom()\n",
        "object.m_bottom()\n",
        "object.m_middle()\n",
        "object.m_top()\n",
        "\n"
      ],
      "metadata": {
        "colab": {
          "base_uri": "https://localhost:8080/"
        },
        "id": "2L11pCny_8Gg",
        "outputId": "82679346-5f97-415e-ce73-59204b466fd1"
      },
      "execution_count": null,
      "outputs": [
        {
          "output_type": "stream",
          "name": "stdout",
          "text": [
            "bottom\n",
            "middle\n",
            "top\n"
          ]
        }
      ]
    },
    {
      "cell_type": "code",
      "source": [
        "class Top:\n",
        "    def m_top(self):\n",
        "        print(\"top\")\n",
        "\n",
        "\n",
        "class Middle(Top):\n",
        "    def m_middle(self):\n",
        "        print(\"middle\")\n",
        "\n",
        "\n",
        "class Bottom(Top, Middle): #Generará un error de esta forma\n",
        "    def m_bottom(self):\n",
        "        print(\"bottom\")\n",
        "\n",
        "\n",
        "object = Bottom()\n",
        "object.m_bottom()\n",
        "object.m_middle()\n",
        "object.m_top()\n",
        "\n"
      ],
      "metadata": {
        "colab": {
          "base_uri": "https://localhost:8080/",
          "height": 228
        },
        "id": "43KO1l13Adq9",
        "outputId": "d1dabdd4-9cd8-41ce-df37-59aa7e4723dd"
      },
      "execution_count": null,
      "outputs": [
        {
          "output_type": "error",
          "ename": "TypeError",
          "evalue": "Cannot create a consistent method resolution\norder (MRO) for bases Top, Middle",
          "traceback": [
            "\u001b[0;31m---------------------------------------------------------------------------\u001b[0m",
            "\u001b[0;31mTypeError\u001b[0m                                 Traceback (most recent call last)",
            "\u001b[0;32m<ipython-input-19-f0e4ac288baf>\u001b[0m in \u001b[0;36m<cell line: 11>\u001b[0;34m()\u001b[0m\n\u001b[1;32m      9\u001b[0m \u001b[0;34m\u001b[0m\u001b[0m\n\u001b[1;32m     10\u001b[0m \u001b[0;34m\u001b[0m\u001b[0m\n\u001b[0;32m---> 11\u001b[0;31m \u001b[0;32mclass\u001b[0m \u001b[0mBottom\u001b[0m\u001b[0;34m(\u001b[0m\u001b[0mTop\u001b[0m\u001b[0;34m,\u001b[0m \u001b[0mMiddle\u001b[0m\u001b[0;34m)\u001b[0m\u001b[0;34m:\u001b[0m\u001b[0;34m\u001b[0m\u001b[0;34m\u001b[0m\u001b[0m\n\u001b[0m\u001b[1;32m     12\u001b[0m     \u001b[0;32mdef\u001b[0m \u001b[0mm_bottom\u001b[0m\u001b[0;34m(\u001b[0m\u001b[0mself\u001b[0m\u001b[0;34m)\u001b[0m\u001b[0;34m:\u001b[0m\u001b[0;34m\u001b[0m\u001b[0;34m\u001b[0m\u001b[0m\n\u001b[1;32m     13\u001b[0m         \u001b[0mprint\u001b[0m\u001b[0;34m(\u001b[0m\u001b[0;34m\"bottom\"\u001b[0m\u001b[0;34m)\u001b[0m\u001b[0;34m\u001b[0m\u001b[0;34m\u001b[0m\u001b[0m\n",
            "\u001b[0;31mTypeError\u001b[0m: Cannot create a consistent method resolution\norder (MRO) for bases Top, Middle"
          ]
        }
      ]
    },
    {
      "cell_type": "code",
      "source": [
        "#Un diamante\n",
        "class A:\n",
        "    pass\n",
        "\n",
        "\n",
        "class B(A):\n",
        "    pass\n",
        "\n",
        "\n",
        "class C(A):\n",
        "    pass\n",
        "\n",
        "\n",
        "class D(B, C):\n",
        "    pass\n",
        "\n",
        "\n",
        "d = D()\n"
      ],
      "metadata": {
        "id": "OXUp1PCLBxOP"
      },
      "execution_count": null,
      "outputs": []
    },
    {
      "cell_type": "code",
      "source": [
        "#El programa anterior adaptado a un diamante\n",
        "class Top:\n",
        "    def m_top(self):\n",
        "        print(\"top\")\n",
        "\n",
        "\n",
        "class Middle_Left(Top):\n",
        "    def m_middle(self):\n",
        "        print(\"middle_left\")\n",
        "\n",
        "\n",
        "class Middle_Right(Top):\n",
        "    def m_middle(self):\n",
        "        print(\"middle_right\")\n",
        "\n",
        "\n",
        "class Bottom(Middle_Left, Middle_Right):\n",
        "    def m_bottom(self):\n",
        "        print(\"bottom\")\n",
        "\n",
        "\n",
        "object = Bottom()\n",
        "object.m_bottom()\n",
        "object.m_middle()\n",
        "object.m_top()\n",
        "\n"
      ],
      "metadata": {
        "colab": {
          "base_uri": "https://localhost:8080/"
        },
        "id": "sd2q3hgLB11l",
        "outputId": "6f897bc8-21ec-4a15-f61c-83aabc2cbfac"
      },
      "execution_count": null,
      "outputs": [
        {
          "output_type": "stream",
          "name": "stdout",
          "text": [
            "bottom\n",
            "middle_left\n",
            "top\n"
          ]
        }
      ]
    },
    {
      "cell_type": "markdown",
      "source": [
        "Excepciones una vez más"
      ],
      "metadata": {
        "id": "BYsVU0TeD9wV"
      }
    },
    {
      "cell_type": "code",
      "source": [
        "#Implementación del bloque else despúes del bloque except\n",
        "def reciprocal(n):\n",
        "    try:\n",
        "        n = 1 / n\n",
        "    except ZeroDivisionError:\n",
        "        print(\"División fallida\")\n",
        "        return None\n",
        "    else:\n",
        "        print(\"Todo salió bien\")\n",
        "        return n\n",
        "\n",
        "\n",
        "print(reciprocal(2))\n",
        "print(reciprocal(0))\n"
      ],
      "metadata": {
        "colab": {
          "base_uri": "https://localhost:8080/"
        },
        "id": "Jr_WnoGBD_nc",
        "outputId": "839eacee-2f3c-49f5-a8c3-93118afc57d5"
      },
      "execution_count": null,
      "outputs": [
        {
          "output_type": "stream",
          "name": "stdout",
          "text": [
            "Todo salió bien\n",
            "0.5\n",
            "División fallida\n",
            "None\n"
          ]
        }
      ]
    },
    {
      "cell_type": "code",
      "source": [
        "#Se implementa el bloque finally\n",
        "def reciprocal(n):\n",
        "    try:\n",
        "        n = 1 / n\n",
        "    except ZeroDivisionError:\n",
        "        print(\"División fallida\")\n",
        "        n = None\n",
        "    else:\n",
        "        print(\"Todo salió bien\")\n",
        "    finally:\n",
        "        print(\"Es momento de decir adiós\")\n",
        "        return n\n",
        "\n",
        "\n",
        "print(reciprocal(2))\n",
        "print(reciprocal(0))\n"
      ],
      "metadata": {
        "colab": {
          "base_uri": "https://localhost:8080/"
        },
        "id": "Uhbk-Gv9EX48",
        "outputId": "7538d99b-6eda-4b11-da4f-79736c1caae7"
      },
      "execution_count": null,
      "outputs": [
        {
          "output_type": "stream",
          "name": "stdout",
          "text": [
            "Todo salió bien\n",
            "Es momento de decir adiós\n",
            "0.5\n",
            "División fallida\n",
            "Es momento de decir adiós\n",
            "None\n"
          ]
        }
      ]
    },
    {
      "cell_type": "code",
      "source": [
        "#La excepción es una clase\n",
        "try:\n",
        "    i = int(\"¡Hola!\")\n",
        "except Exception as e:\n",
        "    print(e)\n",
        "    print(e.__str__())\n"
      ],
      "metadata": {
        "colab": {
          "base_uri": "https://localhost:8080/"
        },
        "id": "Ec_W3Er-G0MA",
        "outputId": "c6dd5ab3-6788-4087-ff2b-3dff9d1f0f4f"
      },
      "execution_count": null,
      "outputs": [
        {
          "output_type": "stream",
          "name": "stdout",
          "text": [
            "invalid literal for int() with base 10: '¡Hola!'\n",
            "invalid literal for int() with base 10: '¡Hola!'\n"
          ]
        }
      ]
    },
    {
      "cell_type": "code",
      "source": [
        "#Impresión de la jerarquía de excepciones\n",
        "def print_exception_tree(thisclass, nest = 0):\n",
        "    if nest > 1:\n",
        "        print(\"   |\" * (nest - 1), end=\"\")\n",
        "    if nest > 0:\n",
        "        print(\"   +---\", end=\"\")\n",
        "\n",
        "    print(thisclass.__name__)\n",
        "\n",
        "    for subclass in thisclass.__subclasses__():\n",
        "        print_exception_tree(subclass, nest + 1)\n",
        "\n",
        "\n",
        "print_exception_tree(BaseException)\n"
      ],
      "metadata": {
        "id": "D_zLJg8nH6dc"
      },
      "execution_count": null,
      "outputs": []
    },
    {
      "cell_type": "code",
      "source": [
        "def print_args(args):\n",
        "    lng = len(args)\n",
        "    if lng == 0:\n",
        "        print(\"\")\n",
        "    elif lng == 1:\n",
        "        print(args[0])\n",
        "    else:\n",
        "        print(str(args))\n",
        "\n",
        "\n",
        "try:\n",
        "    raise Exception\n",
        "except Exception as e:\n",
        "    print(e, e.__str__(), sep=' : ' ,end=' : ')\n",
        "    print_args(e.args)\n",
        "\n",
        "try:\n",
        "    raise Exception(\"mi excepción\")\n",
        "except Exception as e:\n",
        "    print(e, e.__str__(), sep=' : ', end=' : ')\n",
        "    print_args(e.args)\n",
        "\n",
        "try:\n",
        "    raise Exception(\"mi\", \"excepción\")\n",
        "except Exception as e:\n",
        "    print(e, e.__str__(), sep=' : ', end=' : ')\n",
        "    print_args(e.args)\n"
      ],
      "metadata": {
        "colab": {
          "base_uri": "https://localhost:8080/"
        },
        "id": "Hr2ozGCXJYy9",
        "outputId": "3a82e66f-50b1-40ba-d5b2-cf4b5c410547"
      },
      "execution_count": null,
      "outputs": [
        {
          "output_type": "stream",
          "name": "stdout",
          "text": [
            " :  : \n",
            "mi excepción : mi excepción : mi excepción\n",
            "('mi', 'excepción') : ('mi', 'excepción') : ('mi', 'excepción')\n"
          ]
        }
      ]
    },
    {
      "cell_type": "code",
      "source": [
        "class MyZeroDivisionError(ZeroDivisionError):\n",
        "    pass\n",
        "\n",
        "\n",
        "def do_the_division(mine):\n",
        "    if mine:\n",
        "        raise MyZeroDivisionError(\"peores noticias\")\n",
        "    else:\n",
        "        raise ZeroDivisionError(\"malas noticias\")\n",
        "\n",
        "\n",
        "for mode in [False, True]:\n",
        "    try:\n",
        "        do_the_division(mode)\n",
        "    except ZeroDivisionError:\n",
        "        print('División entre cero')\n",
        "\n",
        "for mode in [False, True]:\n",
        "    try:\n",
        "        do_the_division(mode)\n",
        "    except MyZeroDivisionError:\n",
        "        print('Mi división entre cero')\n",
        "    except ZeroDivisionError:\n",
        "        print('División entre cero original')\n"
      ],
      "metadata": {
        "colab": {
          "base_uri": "https://localhost:8080/"
        },
        "id": "ydKcL30tLvY-",
        "outputId": "daae151f-5f4d-40cd-ed26-d836d4f8771f"
      },
      "execution_count": null,
      "outputs": [
        {
          "output_type": "stream",
          "name": "stdout",
          "text": [
            "División entre cero\n",
            "División entre cero\n",
            "División entre cero original\n",
            "Mi división entre cero\n"
          ]
        }
      ]
    },
    {
      "cell_type": "code",
      "source": [
        "class PizzaError(Exception):\n",
        "    def __init__(self, pizza, message):\n",
        "        Exception.__init__(self, message)\n",
        "        self.pizza = pizza\n",
        "\n",
        "\n",
        "class TooMuchCheeseError(PizzaError):\n",
        "    def __init__(self, pizza, cheese, message):\n",
        "        PizzaError._init__(self, pizza, message)\n",
        "        self.cheese = cheese\n"
      ],
      "metadata": {
        "id": "QjKmBrh_MQ6-"
      },
      "execution_count": null,
      "outputs": []
    },
    {
      "cell_type": "code",
      "source": [
        "#Sin valores predeterminados\n",
        "class PizzaError(Exception):\n",
        "    def __init__(self, pizza, message):\n",
        "        Exception.__init__(self, message)\n",
        "        self.pizza = pizza\n",
        "\n",
        "\n",
        "class TooMuchCheeseError(PizzaError):\n",
        "    def __init__(self, pizza, cheese, message):\n",
        "        PizzaError.__init__(self, pizza, message)\n",
        "        self.cheese = cheese\n",
        "\n",
        "\n",
        "def make_pizza(pizza, cheese):\n",
        "    if pizza not in ['margherita', 'capricciosa', 'calzone']:\n",
        "        raise PizzaError(pizza, \"no hay tal pizza en el menú\")\n",
        "    if cheese > 100:\n",
        "        raise TooMuchCheeseError(pizza, cheese, \"demasiado queso\")\n",
        "    print(\"¡Pizza lista!\")\n",
        "\n",
        "for (pz, ch) in [('calzone', 0), ('margherita', 110), ('mafia', 20)]:\n",
        "    try:\n",
        "        make_pizza(pz, ch)\n",
        "    except TooMuchCheeseError as tmce:\n",
        "        print(tmce, ':', tmce.cheese)\n",
        "    except PizzaError as pe:\n",
        "        print(pe, ':', pe.pizza)\n"
      ],
      "metadata": {
        "colab": {
          "base_uri": "https://localhost:8080/"
        },
        "id": "3jKqt4AhNpKt",
        "outputId": "b0476d58-c0ae-4ca8-dfdf-d5d3923502e3"
      },
      "execution_count": null,
      "outputs": [
        {
          "output_type": "stream",
          "name": "stdout",
          "text": [
            "¡Pizza lista!\n",
            "demasiado queso : 110\n",
            "no hay tal pizza en el menú : mafia\n"
          ]
        }
      ]
    },
    {
      "cell_type": "code",
      "source": [
        "#Con valores predeterminados\n",
        "class PizzaError(Exception):\n",
        "    def __init__(self, pizza='desconocida', message=''):\n",
        "        Exception.__init__(self, message)\n",
        "        self.pizza = pizza\n",
        "\n",
        "\n",
        "class TooMuchCheeseError(PizzaError):\n",
        "    def __init__(self, pizza='desconocida', cheese='>100', message=''):\n",
        "        PizzaError.__init__(self, pizza, message)\n",
        "        self.cheese = cheese\n",
        "\n",
        "\n",
        "def make_pizza(pizza, cheese):\n",
        "    if pizza not in ['margherita', 'capricciosa', 'calzone']:\n",
        "        raise PizzaError\n",
        "    if cheese > 100:\n",
        "        raise TooMuchCheeseError\n",
        "    print(\"¡Pizza lista!\")\n",
        "\n",
        "\n",
        "for (pz, ch) in [('calzone', 0), ('margherita', 110), ('mafia', 20)]:\n",
        "    try:\n",
        "        make_pizza(pz, ch)\n",
        "    except TooMuchCheeseError as tmce:\n",
        "        print(tmce, ':', tmce.cheese)\n",
        "    except PizzaError as pe:\n",
        "        print(pe, ':', pe.pizza)\n",
        "\n"
      ],
      "metadata": {
        "colab": {
          "base_uri": "https://localhost:8080/"
        },
        "id": "O5dy5wDLNq2z",
        "outputId": "eed087cd-4a76-4b7c-bf5a-4b04b84113a5"
      },
      "execution_count": null,
      "outputs": [
        {
          "output_type": "stream",
          "name": "stdout",
          "text": [
            "¡Pizza lista!\n",
            " : >100\n",
            " : desconocida\n"
          ]
        }
      ]
    }
  ]
}