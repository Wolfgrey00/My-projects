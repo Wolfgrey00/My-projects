{
  "nbformat": 4,
  "nbformat_minor": 0,
  "metadata": {
    "colab": {
      "provenance": [],
      "authorship_tag": "ABX9TyN1/wh4qHszbL5M7yqQLpRO",
      "include_colab_link": true
    },
    "kernelspec": {
      "name": "python3",
      "display_name": "Python 3"
    },
    "language_info": {
      "name": "python"
    }
  },
  "cells": [
    {
      "cell_type": "markdown",
      "metadata": {
        "id": "view-in-github",
        "colab_type": "text"
      },
      "source": [
        "<a href=\"https://colab.research.google.com/github/Wolfgrey00/My-projects/blob/main/Funciones_propias.ipynb\" target=\"_parent\"><img src=\"https://colab.research.google.com/assets/colab-badge.svg\" alt=\"Open In Colab\"/></a>"
      ]
    },
    {
      "cell_type": "code",
      "execution_count": 1,
      "metadata": {
        "colab": {
          "base_uri": "https://localhost:8080/"
        },
        "id": "oOvtkbNXsB2d",
        "outputId": "3bea7224-f623-4ece-8f56-d095f107a95c"
      },
      "outputs": [
        {
          "output_type": "stream",
          "name": "stdout",
          "text": [
            "1900 ->OK\n",
            "2000 ->OK\n",
            "2016 ->OK\n",
            "1987 ->OK\n"
          ]
        }
      ],
      "source": [
        "def is_year_leap(year):\n",
        "    if year%4 != 0:\n",
        "        return False\n",
        "    elif year%100 != 0:\n",
        "        return True\n",
        "    elif year%400 != 0:\n",
        "        return False\n",
        "    else:\n",
        "        return True\n",
        "\n",
        "test_data = [1900, 2000, 2016, 1987]\n",
        "test_results = [False, True, True, False]\n",
        "for i in range(len(test_data)):\n",
        "\tyr = test_data[i]\n",
        "\tprint(yr,\"->\",end=\"\")\n",
        "\tresult = is_year_leap(yr)\n",
        "\tif result == test_results[i]:\n",
        "\t\tprint(\"OK\")\n",
        "\telse:\n",
        "\t\tprint(\"Fallido\")\n",
        "\n"
      ]
    },
    {
      "cell_type": "code",
      "source": [
        "def is_year_leap(year):\n",
        "    if year%4 != 0:\n",
        "        return False\n",
        "    elif year%100 != 0:\n",
        "        return True\n",
        "    elif year%400 != 0:\n",
        "        return False\n",
        "    else:\n",
        "        return True\n",
        "\n",
        "def days_in_month(year, month):\n",
        "    m31 = [1, 3, 5, 7, 8, 10, 12]\n",
        "    m30 = [4, 6, 9, 11]\n",
        "    if is_year_leap(year) == True and month == 2:\n",
        "        return 29\n",
        "    elif month in m31:\n",
        "        return 31\n",
        "    elif month in m30:\n",
        "        return 30\n",
        "    elif is_year_leap(year) == False and month == 2:\n",
        "        return 28\n",
        "    else:\n",
        "        return None\n",
        "\n",
        "\n",
        "test_years = [1900, 2000, 2016, 1987]\n",
        "test_months = [2, 2, 1, 11]\n",
        "test_results = [28, 29, 31, 30]\n",
        "for i in range(len(test_years)):\n",
        "  yr = test_years[i]\n",
        "  mo = test_months[i]\n",
        "  print(yr, mo, \"->\", end=\"\")\n",
        "  result = days_in_month(yr, mo)\n",
        "  if result == test_results[i]:\n",
        "    print(\"OK\")\n",
        "  elif result == None:\n",
        "\t  print(None)\n",
        "  else:\n",
        "    print(\"Fallido\")"
      ],
      "metadata": {
        "colab": {
          "base_uri": "https://localhost:8080/"
        },
        "id": "D5q2ImpfwcG2",
        "outputId": "b67b4fc4-c356-4896-f8bd-9ce36ba33c62"
      },
      "execution_count": 11,
      "outputs": [
        {
          "output_type": "stream",
          "name": "stdout",
          "text": [
            "1900 2 ->OK\n",
            "2000 2 ->OK\n",
            "2016 1 ->OK\n",
            "1987 11 ->OK\n"
          ]
        }
      ]
    },
    {
      "cell_type": "code",
      "source": [
        "def isYearLeap(year):\n",
        "    if year%4 != 0:\n",
        "        return False\n",
        "    elif year%100 != 0:\n",
        "        return True\n",
        "    elif year%400 != 0:\n",
        "        return False\n",
        "    else:\n",
        "        return True\n",
        "def daysInMonth(year, month):\n",
        "    diasPorMes = [31, 28, 31, 30, 31, 30, 31, 31, 30, 31, 30, 31]\n",
        "    if isYearLeap(year):\n",
        "      if diasPorMes[month - 1] == 28:\n",
        "        return 29\n",
        "      else:\n",
        "        return diasPorMes[month - 1]\n",
        "    else:\n",
        "      return diasPorMes[month - 1]\n",
        "    return None\n",
        "\n",
        "def dayOfYear(year, month, day):\n",
        "    if year < 1582:\n",
        "        return None\n",
        "    if month > 12 or month < 1:\n",
        "        return None\n",
        "    if day > daysInMonth(year, month) or day < 1:\n",
        "        return None\n",
        "\n",
        "    totalDias = day\n",
        "    month = month - 1\n",
        "    while month > 0:\n",
        "        totalDias += daysInMonth(year, month)\n",
        "        month -= 1\n",
        "    return totalDias\n",
        "\n",
        "print(dayOfYear(2000, 12, 31))\n"
      ],
      "metadata": {
        "colab": {
          "base_uri": "https://localhost:8080/"
        },
        "id": "IA3HZ9DF0nBq",
        "outputId": "b0f0c694-4669-477a-d565-a103080f4c26"
      },
      "execution_count": 14,
      "outputs": [
        {
          "output_type": "stream",
          "name": "stdout",
          "text": [
            "366\n"
          ]
        }
      ]
    },
    {
      "cell_type": "code",
      "source": [
        "def is_prime(num):\n",
        "    for i in range(2, num):\n",
        "        if num % i == 0:\n",
        "            return False\n",
        "    return True\n",
        "\n",
        "for i in range(1, 20):\n",
        "\tif is_prime(i + 1):\n",
        "\t\t\tprint(i + 1, end=\" \")\n",
        "print()\n",
        "\n"
      ],
      "metadata": {
        "colab": {
          "base_uri": "https://localhost:8080/"
        },
        "id": "fsb0tADBDRv9",
        "outputId": "32f310a2-b385-4920-9f8c-ac9e179d369e"
      },
      "execution_count": 20,
      "outputs": [
        {
          "output_type": "stream",
          "name": "stdout",
          "text": [
            "2 3 5 7 11 13 17 19 \n"
          ]
        }
      ]
    },
    {
      "cell_type": "code",
      "source": [
        "def liters_100km_to_miles_gallon(liters):\n",
        "    miles = 100 * 1000 / 1609.344\n",
        "    gallons = liters / 3.785411784\n",
        "    return miles / gallons\n",
        "\n",
        "def miles_gallon_to_liters_100km(miles):\n",
        "    liters = 3.785411784\n",
        "    kilometers = miles * 1609.344 / 100000\n",
        "    return liters / kilometers\n",
        "\n",
        "print(liters_100km_to_miles_gallon(3.9))\n",
        "print(liters_100km_to_miles_gallon(7.5))\n",
        "print(liters_100km_to_miles_gallon(10.))\n",
        "print(miles_gallon_to_liters_100km(60.3))\n",
        "print(miles_gallon_to_liters_100km(31.4))\n",
        "print(miles_gallon_to_liters_100km(23.5))"
      ],
      "metadata": {
        "colab": {
          "base_uri": "https://localhost:8080/"
        },
        "id": "0V4tW-fIFFWR",
        "outputId": "37f72cb9-8add-4846-8a8c-73099c4c16ca"
      },
      "execution_count": 42,
      "outputs": [
        {
          "output_type": "stream",
          "name": "stdout",
          "text": [
            "60.31143162393162\n",
            "31.36194444444444\n",
            "23.52145833333333\n",
            "3.900739358761747\n",
            "7.490910297239916\n",
            "10.009131205673759\n"
          ]
        }
      ]
    }
  ]
}