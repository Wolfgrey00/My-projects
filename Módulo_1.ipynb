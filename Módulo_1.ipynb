{
  "nbformat": 4,
  "nbformat_minor": 0,
  "metadata": {
    "colab": {
      "provenance": [],
      "toc_visible": true,
      "authorship_tag": "ABX9TyPIMWxAV2VD8AA6B7SBxA2F",
      "include_colab_link": true
    },
    "kernelspec": {
      "name": "python3",
      "display_name": "Python 3"
    },
    "language_info": {
      "name": "python"
    }
  },
  "cells": [
    {
      "cell_type": "markdown",
      "metadata": {
        "id": "view-in-github",
        "colab_type": "text"
      },
      "source": [
        "<a href=\"https://colab.research.google.com/github/Wolfgrey00/My-projects/blob/main/M%C3%B3dulo_1.ipynb\" target=\"_parent\"><img src=\"https://colab.research.google.com/assets/colab-badge.svg\" alt=\"Open In Colab\"/></a>"
      ]
    },
    {
      "cell_type": "markdown",
      "source": [
        "# Ejercicios"
      ],
      "metadata": {
        "id": "5HI3j0CxHo9n"
      }
    },
    {
      "cell_type": "markdown",
      "source": [
        "Ejercicio 1.1.1.7 Importando un módulo | math"
      ],
      "metadata": {
        "id": "fTm5P87u-x9Z"
      }
    },
    {
      "cell_type": "code",
      "source": [
        "from math import sin, pi #Solo se importan las entidades sin y pi del módulo math\n",
        "print(sin(pi/2)) #No es necesario colocar el nombre del módulo antes\n",
        "print(math.e) #Para todas las demás entidades del múdulo, es necesario colocar el módulo antes, de lo contrario lanza un error"
      ],
      "metadata": {
        "id": "t6UHUCEU-w9B"
      },
      "execution_count": null,
      "outputs": []
    },
    {
      "cell_type": "markdown",
      "source": [
        "\n",
        "Ejercicio 1.2.1.6 Módulos Útiles | Random"
      ],
      "metadata": {
        "id": "4yC1wv6aTZL1"
      }
    },
    {
      "cell_type": "code",
      "source": [
        "from random import random, seed\n",
        "\n",
        "seed(0) #Establece la semilla con la hora actual\n",
        "\n",
        "for i in range(5):\n",
        "  print(random()) #Los resultados van a ser muy parecidos entre si"
      ],
      "metadata": {
        "id": "rfxVi5HvP_dr"
      },
      "execution_count": null,
      "outputs": []
    },
    {
      "cell_type": "markdown",
      "source": [
        "Ejercicio 1.2.1.8 Módulos Útiles | Random"
      ],
      "metadata": {
        "id": "Dt9-VxJXUMTC"
      }
    },
    {
      "cell_type": "code",
      "source": [
        "from random import randint\n",
        "\n",
        "for i in range(10):\n",
        "  print(randint(1, 10), end=',') #Se van a obtener valores repetidos"
      ],
      "metadata": {
        "id": "1gQzFr7EUYHQ"
      },
      "execution_count": null,
      "outputs": []
    },
    {
      "cell_type": "markdown",
      "source": [
        "# Anotaciones"
      ],
      "metadata": {
        "id": "Q41i9_XLJvLW"
      }
    },
    {
      "cell_type": "markdown",
      "source": [
        "Importando Módulos"
      ],
      "metadata": {
        "id": "3XwrCkhq7szU"
      }
    },
    {
      "cell_type": "code",
      "execution_count": null,
      "metadata": {
        "id": "rEVcUJrg7ppD"
      },
      "outputs": [],
      "source": [
        "import math\n",
        "print(math.sin(math.pi/2))"
      ]
    },
    {
      "cell_type": "code",
      "source": [
        "import math\n",
        "\n",
        "def sin(x):\n",
        "    if 2 * x == pi:\n",
        "        return 0.99999999\n",
        "    else:\n",
        "        return None\n",
        "pi = 3.14\n",
        "print(sin(pi/2))\n",
        "print(math.sin(math.pi/2))"
      ],
      "metadata": {
        "id": "xadcyEEY8LYm"
      },
      "execution_count": null,
      "outputs": []
    },
    {
      "cell_type": "code",
      "source": [
        "from math import sin, pi\n",
        "\n",
        "print(sin(pi/2))\n",
        "\n",
        "pi = 3.14\n",
        "\n",
        "\n",
        "def sin(x):\n",
        "  if 2 * x == pi:\n",
        "    return 0.99999999\n",
        "  else:\n",
        "    return None\n",
        "\n",
        "\n",
        "print(sin(pi/2))\n"
      ],
      "metadata": {
        "id": "tF73gFXw_l0p"
      },
      "execution_count": null,
      "outputs": []
    },
    {
      "cell_type": "code",
      "source": [
        "pi = 3.14\n",
        "\n",
        "\n",
        "def sin(x):\n",
        "  if 2 * x == pi:\n",
        "    return 0.99999999\n",
        "  else:\n",
        "    return None\n",
        "\n",
        "\n",
        "print(sin(pi/2))\n",
        "\n",
        "from math import sin, pi\n",
        "\n",
        "print(sin(pi/2))\n"
      ],
      "metadata": {
        "id": "ev-gf5ZVB_UB"
      },
      "execution_count": null,
      "outputs": []
    },
    {
      "cell_type": "code",
      "source": [
        "import math as m #Se asigna un alias al método\n",
        "\n",
        "print(m.sin(m.pi/2))"
      ],
      "metadata": {
        "id": "olgvsrVeFaa0"
      },
      "execution_count": null,
      "outputs": []
    },
    {
      "cell_type": "code",
      "source": [
        "from math import sin as s, pi as p #Se asigna un alias específico a cada entidad\n",
        "\n",
        "print(s(p/2))\n",
        "\n",
        "print(math.e) #Pero el nombre del módulo sigue intacto"
      ],
      "metadata": {
        "id": "vHQdbTOPFiFJ"
      },
      "execution_count": null,
      "outputs": []
    },
    {
      "cell_type": "markdown",
      "source": [
        "Módulos Útiles"
      ],
      "metadata": {
        "id": "ZRms-4TDH3Nf"
      }
    },
    {
      "cell_type": "code",
      "source": [
        "import math\n",
        "\n",
        "for name in dir(math):\n",
        "  print(name, end=\"\\n\")"
      ],
      "metadata": {
        "id": "nSEwyoBmH2VB"
      },
      "execution_count": null,
      "outputs": []
    },
    {
      "cell_type": "code",
      "source": [
        "import math\n",
        "dir(math)"
      ],
      "metadata": {
        "id": "aTQ1o4FOIkHf"
      },
      "execution_count": null,
      "outputs": []
    },
    {
      "cell_type": "code",
      "source": [
        "from math import pi, radians, degrees, sin, cos, tan, asin\n",
        "\n",
        "ad = 90\n",
        "ar = radians(ad)\n",
        "ad = degrees(ar)\n",
        "\n",
        "print(ad == 90.)\n",
        "print(ar == pi / 2.)\n",
        "print(sin(ar) / cos(ar) == tan(ar))\n",
        "print(asin(sin(ar)) == ar)\n"
      ],
      "metadata": {
        "id": "G2_J0TmWJ4ub"
      },
      "execution_count": null,
      "outputs": []
    },
    {
      "cell_type": "code",
      "source": [
        "from math import e, exp, log\n",
        "\n",
        "print(pow(e, 1) == exp(log(e)))\n",
        "print(pow(2, 2) == exp(2 * log(2)))\n",
        "print(log(e, e) == exp(0))"
      ],
      "metadata": {
        "id": "GHy62KIKNpOR"
      },
      "execution_count": null,
      "outputs": []
    },
    {
      "cell_type": "code",
      "source": [
        "from math import ceil, floor, trunc\n",
        "\n",
        "x = 1.4\n",
        "y = 2.6\n",
        "\n",
        "print(floor(x), floor(y))\n",
        "print(floor(-x), floor(-y))\n",
        "print(ceil(x), ceil(y))\n",
        "print(ceil(-x), ceil(-y))\n",
        "print(trunc(x), trunc(y))\n",
        "print(trunc(-x), trunc(-y))"
      ],
      "metadata": {
        "id": "FFe_k-V9ONLR"
      },
      "execution_count": null,
      "outputs": []
    },
    {
      "cell_type": "code",
      "source": [
        "from random import random\n",
        "\n",
        "for i in range(5):\n",
        "  print(random())"
      ],
      "metadata": {
        "id": "QhLQga6RPuI1"
      },
      "execution_count": null,
      "outputs": []
    },
    {
      "cell_type": "code",
      "source": [
        "from random import randrange, randint\n",
        "\n",
        "print(randrange(1), end=' ')\n",
        "print(randrange(0, 1), end=' ')\n",
        "print(randrange(0, 1, 1), end=' ')\n",
        "print(randint(0, 1))"
      ],
      "metadata": {
        "id": "7mOj8YtcREGu"
      },
      "execution_count": null,
      "outputs": []
    },
    {
      "cell_type": "code",
      "source": [
        "from random import choice, sample\n",
        "\n",
        "my_list = [1, 2, 3, 4, 5, 6, 7, 8, 9, 10]\n",
        "\n",
        "print(choice(my_list))\n",
        "print(sample(my_list, 5))\n",
        "print(sample(my_list, 10)) #Los valores ya no se repiten y el orden sigue siendo aleatorio"
      ],
      "metadata": {
        "id": "goM4VZ4NVhlx"
      },
      "execution_count": null,
      "outputs": []
    },
    {
      "cell_type": "code",
      "source": [
        "from platform import platform\n",
        "\n",
        "print(platform())\n",
        "print(platform(1))\n",
        "print(platform(0, 1))"
      ],
      "metadata": {
        "id": "uIeDOL8FWwsO"
      },
      "execution_count": null,
      "outputs": []
    },
    {
      "cell_type": "code",
      "source": [
        "from platform import machine\n",
        "\n",
        "print(machine())"
      ],
      "metadata": {
        "id": "V230UAuqbWKf"
      },
      "execution_count": null,
      "outputs": []
    },
    {
      "cell_type": "code",
      "source": [
        "from platform import processor\n",
        "\n",
        "print(processor())"
      ],
      "metadata": {
        "id": "QdBa9rGKbyk4"
      },
      "execution_count": null,
      "outputs": []
    },
    {
      "cell_type": "code",
      "source": [
        "from platform import system\n",
        "\n",
        "print(system())"
      ],
      "metadata": {
        "id": "Jo2k62cBcLwW"
      },
      "execution_count": null,
      "outputs": []
    },
    {
      "cell_type": "code",
      "source": [
        "from platform import version\n",
        "\n",
        "print(version())"
      ],
      "metadata": {
        "id": "8szBGfJrcp8T"
      },
      "execution_count": null,
      "outputs": []
    },
    {
      "cell_type": "code",
      "source": [
        "from platform import python_implementation, python_version_tuple\n",
        "\n",
        "print(python_implementation())\n",
        "\n",
        "for atr in python_version_tuple():\n",
        "  print(atr)"
      ],
      "metadata": {
        "id": "p53FyUKldupH"
      },
      "execution_count": null,
      "outputs": []
    },
    {
      "cell_type": "markdown",
      "source": [
        "pip"
      ],
      "metadata": {
        "id": "dRmCxq9_D2LH"
      }
    },
    {
      "cell_type": "code",
      "source": [
        "!pip install pygame\n",
        "import pygame\n",
        "\n",
        "run = True\n",
        "width = 400\n",
        "height = 100\n",
        "pygame.init()\n",
        "screen = pygame.display.set_mode((width, height))\n",
        "font = pygame.font.SysFont(None, 48)\n",
        "text = font.render(\"Bienvenido a pygame\", True, (255, 255, 255))\n",
        "screen.blit(text, ((width - text.get_width()) // 2, (height - text.get_height()) // 2))\n",
        "pygame.display.flip()\n",
        "while run:\n",
        "  for event in pygame.event.get():\n",
        "    if event.type == pygame.QUIT\\\n",
        "    or event.type == pygame.MOUSEBUTTONUP\\\n",
        "    or event.type == pygame.KEYUP:\n",
        "      run = False\n"
      ],
      "metadata": {
        "id": "dS10qFMPD1NP"
      },
      "execution_count": null,
      "outputs": []
    }
  ]
}