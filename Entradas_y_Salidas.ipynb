{
  "nbformat": 4,
  "nbformat_minor": 0,
  "metadata": {
    "colab": {
      "provenance": [],
      "authorship_tag": "ABX9TyPW/e3K6N2enV75scTd1Rpk",
      "include_colab_link": true
    },
    "kernelspec": {
      "name": "python3",
      "display_name": "Python 3"
    },
    "language_info": {
      "name": "python"
    }
  },
  "cells": [
    {
      "cell_type": "markdown",
      "metadata": {
        "id": "view-in-github",
        "colab_type": "text"
      },
      "source": [
        "<a href=\"https://colab.research.google.com/github/Wolfgrey00/My-projects/blob/main/Entradas_y_Salidas.ipynb\" target=\"_parent\"><img src=\"https://colab.research.google.com/assets/colab-badge.svg\" alt=\"Open In Colab\"/></a>"
      ]
    },
    {
      "cell_type": "code",
      "execution_count": null,
      "metadata": {
        "colab": {
          "base_uri": "https://localhost:8080/"
        },
        "id": "Qp9sVVMRWw1i",
        "outputId": "bdd9cb01-2dce-45d8-d5fa-df4f7dd2574e"
      },
      "outputs": [
        {
          "output_type": "stream",
          "name": "stdout",
          "text": [
            "Establece el primer número: 20\n",
            "Establece el segundo número: 5\n",
            "El resultado de la suma es: 25.0\n",
            "El resultado de la resta es: 15.0\n",
            "El resultado de la multiplicación es: 100.0\n",
            "El resultado de la división es: 4.0\n",
            "\n",
            "¡Eso es todo, amigos!\n"
          ]
        }
      ],
      "source": [
        "a = float(input(\"Establece el primer número: \"))\n",
        "b = float(input(\"Establece el segundo número: \"))\n",
        "\n",
        "print(\"El resultado de la suma es: \" + str(a+b))\n",
        "print(\"El resultado de la resta es: \" + str(a-b))\n",
        "print(\"El resultado de la multiplicación es: \" + str(a*b))\n",
        "print(\"El resultado de la división es: \" + str(a/b))\n",
        "\n",
        "print(\"\\n¡Eso es todo, amigos!\")"
      ]
    },
    {
      "cell_type": "code",
      "source": [
        "x = float(input(\"Ingresa el valor para x: \"))\n",
        "\n",
        "y = 1/(x+1/(x+1/(x+(1/x))))\n",
        "\n",
        "print(\"y =\", y)\n"
      ],
      "metadata": {
        "colab": {
          "base_uri": "https://localhost:8080/"
        },
        "id": "CWL2V6ORbx8N",
        "outputId": "6fa4e0ff-c9f4-4abd-82f1-2f3c03c08aed"
      },
      "execution_count": null,
      "outputs": [
        {
          "output_type": "stream",
          "name": "stdout",
          "text": [
            "Ingresa el valor para x: -5\n",
            "y = -0.19258202567760344\n"
          ]
        }
      ]
    },
    {
      "cell_type": "code",
      "source": [
        "hour = int(input(\"Hora de inicio (horas): \"))\n",
        "mins = int(input(\"Minuto de inicio (minutos): \"))\n",
        "dura = int(input(\"Duración del evento (minutos): \"))\n",
        "\n",
        "mins_totales = mins+dura\n",
        "hora_salida = (hour + (mins_totales//60))%24\n",
        "mins_salida = mins_totales%60\n",
        "\n",
        "print(\"La salida esperada es a las: \"+str(hora_salida)+\":\"+str(mins_salida))"
      ],
      "metadata": {
        "colab": {
          "base_uri": "https://localhost:8080/"
        },
        "id": "sizzn8O5mAVE",
        "outputId": "1e9e9e87-1101-4ef8-b7a6-fcc933d0f83a"
      },
      "execution_count": null,
      "outputs": [
        {
          "output_type": "stream",
          "name": "stdout",
          "text": [
            "Hora de inicio (horas): 0\n",
            "Minuto de inicio (minutos): 1\n",
            "Duración del evento (minutos): 2939\n",
            "La salida esperada es a las: 1:0\n"
          ]
        }
      ]
    }
  ]
}