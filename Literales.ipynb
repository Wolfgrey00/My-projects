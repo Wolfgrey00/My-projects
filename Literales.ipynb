{
  "nbformat": 4,
  "nbformat_minor": 0,
  "metadata": {
    "colab": {
      "provenance": [],
      "authorship_tag": "ABX9TyN92UzX4SbnwSKV2Ax22u/N",
      "include_colab_link": true
    },
    "kernelspec": {
      "name": "python3",
      "display_name": "Python 3"
    },
    "language_info": {
      "name": "python"
    }
  },
  "cells": [
    {
      "cell_type": "markdown",
      "metadata": {
        "id": "view-in-github",
        "colab_type": "text"
      },
      "source": [
        "<a href=\"https://colab.research.google.com/github/Wolfgrey00/My-projects/blob/main/Literales.ipynb\" target=\"_parent\"><img src=\"https://colab.research.google.com/assets/colab-badge.svg\" alt=\"Open In Colab\"/></a>"
      ]
    },
    {
      "cell_type": "code",
      "execution_count": 1,
      "metadata": {
        "colab": {
          "base_uri": "https://localhost:8080/"
        },
        "id": "tqhBzRq_uAcJ",
        "outputId": "84e44368-44f6-4891-995b-9a12f6346d76"
      },
      "outputs": [
        {
          "output_type": "stream",
          "name": "stdout",
          "text": [
            "\"Estoy\"\n",
            "\"\"aprendiendo\"\"\n",
            "\"\"\"Python\"\"\"\n"
          ]
        }
      ],
      "source": [
        "print('\"Estoy\"\\n\"\"aprendiendo\"\"\\n\"\"\"Python\"\"\"')"
      ]
    }
  ]
}