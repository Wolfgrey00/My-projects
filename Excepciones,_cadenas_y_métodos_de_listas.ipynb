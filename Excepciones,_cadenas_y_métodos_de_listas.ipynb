{
  "nbformat": 4,
  "nbformat_minor": 0,
  "metadata": {
    "colab": {
      "provenance": [],
      "authorship_tag": "ABX9TyPiesf7dpXLgX/m7Z2W+MWN",
      "include_colab_link": true
    },
    "kernelspec": {
      "name": "python3",
      "display_name": "Python 3"
    },
    "language_info": {
      "name": "python"
    }
  },
  "cells": [
    {
      "cell_type": "markdown",
      "metadata": {
        "id": "view-in-github",
        "colab_type": "text"
      },
      "source": [
        "<a href=\"https://colab.research.google.com/github/Wolfgrey00/My-projects/blob/main/Excepciones%2C_cadenas_y_m%C3%A9todos_de_listas.ipynb\" target=\"_parent\"><img src=\"https://colab.research.google.com/assets/colab-badge.svg\" alt=\"Open In Colab\"/></a>"
      ]
    },
    {
      "cell_type": "code",
      "execution_count": null,
      "metadata": {
        "colab": {
          "base_uri": "https://localhost:8080/"
        },
        "id": "R5TihVNS2sq9",
        "outputId": "c045e242-883e-4f18-cf87-a74c47a4ab6f"
      },
      "outputs": [
        {
          "output_type": "stream",
          "name": "stdout",
          "text": [
            "Resultado 1 ->  0.0\n",
            "No se puede dividir entre cero\n",
            "Buen día M&M\n",
            "<--Operación concluida-->\n"
          ]
        }
      ],
      "source": [
        "a=0\n",
        "b=10\n",
        "d=0\n",
        "try:\n",
        " c=a/b\n",
        " print(\"Resultado 1 -> \", c)\n",
        " c=a/d\n",
        " print(\"Resultado 2 -> \", d)\n",
        "except ZeroDivisionError:\n",
        " print(\"No se puede dividir entre cero\")\n",
        " c=0\n",
        "except Exception:\n",
        " print(\"Operación Incorrecta\")\n",
        "else:\n",
        " print(\"Resultado -->\", c)\n",
        "finally:\n",
        "  print(\"Buen día M&M\")\n",
        "  print(\"<--Operación concluida-->\")"
      ]
    },
    {
      "cell_type": "code",
      "source": [
        "a=0\n",
        "b=10\n",
        "d=0\n",
        "\n",
        "def division (a,b):\n",
        " try:\n",
        "  c=a/b\n",
        " except ZeroDivisionError:\n",
        "  print(\"No se puede dividir entre cero\")\n",
        "  c=0\n",
        " except Exception:\n",
        "  print(\"Opereación Incorrecta\")\n",
        " else:\n",
        "  print(\"Resultado -->\", c)\n",
        " finally:\n",
        "   print(\"Buen día M&M\")\n",
        "\n",
        "\n",
        "while True:\n",
        "  a=int (input(\"Introduce un número A: \"))\n",
        "  b=int (input(\"Introduce un número B: \"))\n",
        "  division(a,b)\n",
        "  terminar= input(\"Deseas terminar (S(Si)/F(no)): \")\n",
        "  if terminar == \"S\":\n",
        "    print(\"<--Operación concluida-->\")\n",
        "    break"
      ],
      "metadata": {
        "colab": {
          "base_uri": "https://localhost:8080/"
        },
        "id": "0nfXoQsk541Y",
        "outputId": "4c689da5-8288-4870-b4e5-0567eea33669"
      },
      "execution_count": null,
      "outputs": [
        {
          "output_type": "stream",
          "name": "stdout",
          "text": [
            "Introduce un número A: 10\n",
            "Introduce un número B: 5\n",
            "Resultado --> 2.0\n",
            "Buen día M&M\n",
            "Deseas terminar (S(Si)/F(no)): S\n",
            "<--Operación concluida-->\n"
          ]
        }
      ]
    },
    {
      "cell_type": "code",
      "source": [
        "while True:\n",
        "  try:\n",
        "    edad = int (input (\"Escribe tu edad:\"))\n",
        "  except ValueError:\n",
        "    print(\"Debes ingresar un número\")\n",
        "  else:\n",
        "   if 0 < edad <=120:\n",
        "    if edad >=18:\n",
        "       print(\"Eres un adulto.\")\n",
        "    else:\n",
        "       print(\"Aún no eres un adulto\")\n",
        "   else:\n",
        "    print(\"Edad fuera de rango\")\n",
        "\n",
        "  terminar= input(\"Deseas terminar (S(si)/N(no)): \")\n",
        "  if terminar == \"S\":\n",
        "    print(\"<---Operación concluida--->\")\n",
        "    break"
      ],
      "metadata": {
        "colab": {
          "base_uri": "https://localhost:8080/"
        },
        "id": "zRqtuGbX9YCU",
        "outputId": "5ee868a3-a67e-499c-fade-b8346ed6f719"
      },
      "execution_count": null,
      "outputs": [
        {
          "output_type": "stream",
          "name": "stdout",
          "text": [
            "Escribe tu edad:-5\n",
            "Edad fuera de rango\n",
            "Deseas terminar (S(si)/N(no)): N\n",
            "Escribe tu edad:154\n",
            "Edad fuera de rango\n",
            "Deseas terminar (S(si)/N(no)): N\n",
            "Escribe tu edad:fweffwefgwe\n",
            "Debes ingresar un número\n",
            "Deseas terminar (S(si)/N(no)): 48\n",
            "Escribe tu edad:48\n",
            "Eres un adulto.\n",
            "Deseas terminar (S(si)/N(no)): s\n",
            "Escribe tu edad:48\n",
            "Eres un adulto.\n",
            "Deseas terminar (S(si)/N(no)): S\n",
            "<---Operación concluida--->\n"
          ]
        }
      ]
    },
    {
      "cell_type": "code",
      "source": [
        "lista=[\"perra\", \"manzana\", \"uva\", \"cerezas\", \"platanos\"]\n",
        "try:\n",
        "  print(lista[2])\n",
        "  print(lista[9])\n",
        "except IndexError:\n",
        "  print(\"El índice del elemento no existe\")\n",
        "finally:\n",
        "  print(\"Buen día M&M\")"
      ],
      "metadata": {
        "colab": {
          "base_uri": "https://localhost:8080/"
        },
        "id": "YbG3jbICGVET",
        "outputId": "7662b478-f31d-4402-b91a-d468e74d993b"
      },
      "execution_count": null,
      "outputs": [
        {
          "output_type": "stream",
          "name": "stdout",
          "text": [
            "uva\n",
            "El índice del elemento no existe\n",
            "Buen día M&M\n"
          ]
        }
      ]
    },
    {
      "cell_type": "code",
      "source": [
        "try:\n",
        "  f=open(\"Empleados.txt\")\n",
        "except FileNotFoundError:\n",
        "  print(\"El fichero no existe\")\n",
        "else:\n",
        "  print(f.read())"
      ],
      "metadata": {
        "colab": {
          "base_uri": "https://localhost:8080/"
        },
        "id": "E5jm8nI_KCLc",
        "outputId": "e3a7b8f8-e5cb-4747-db17-35fc4f31e4ce"
      },
      "execution_count": null,
      "outputs": [
        {
          "output_type": "stream",
          "name": "stdout",
          "text": [
            "1|Mario|Sanchez|Lopez\n",
            "2|Monica|Najera|Hernandez\n",
            "3|Josefina|Jimenez|Hernandez\n",
            "4|Marisol|Labra|Perez\n",
            "5|Javier|Moctezuma|Jimenez\n",
            "6|Jorge|Morales|Macedo\n",
            "7|Veronica|Jimenez|Cruz\n",
            "8|Julian|Sanchez|Cortes\n"
          ]
        }
      ]
    }
  ]
}