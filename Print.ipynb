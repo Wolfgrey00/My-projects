{
  "nbformat": 4,
  "nbformat_minor": 0,
  "metadata": {
    "colab": {
      "provenance": [],
      "authorship_tag": "ABX9TyMqb8Ciiyk23X94zkZPs6d0",
      "include_colab_link": true
    },
    "kernelspec": {
      "name": "python3",
      "display_name": "Python 3"
    },
    "language_info": {
      "name": "python"
    }
  },
  "cells": [
    {
      "cell_type": "markdown",
      "metadata": {
        "id": "view-in-github",
        "colab_type": "text"
      },
      "source": [
        "<a href=\"https://colab.research.google.com/github/Wolfgrey00/My-projects/blob/main/Print.ipynb\" target=\"_parent\"><img src=\"https://colab.research.google.com/assets/colab-badge.svg\" alt=\"Open In Colab\"/></a>"
      ]
    },
    {
      "cell_type": "code",
      "execution_count": null,
      "metadata": {
        "colab": {
          "base_uri": "https://localhost:8080/"
        },
        "id": "BAqkSebb-Au3",
        "outputId": "f33749c5-8f5a-44b9-e235-dc66ef2bf385"
      },
      "outputs": [
        {
          "output_type": "stream",
          "name": "stdout",
          "text": [
            "¡Hola, Mundo!\n"
          ]
        }
      ],
      "source": [
        "print(\"¡Hola, Mundo!\")"
      ]
    },
    {
      "cell_type": "code",
      "source": [
        "print(\"André\")"
      ],
      "metadata": {
        "colab": {
          "base_uri": "https://localhost:8080/"
        },
        "id": "SMM8uPXUHidj",
        "outputId": "9b67df28-6bf3-41f0-b4fc-92c654af88d2"
      },
      "execution_count": null,
      "outputs": [
        {
          "output_type": "stream",
          "name": "stdout",
          "text": [
            "André\n"
          ]
        }
      ]
    },
    {
      "cell_type": "markdown",
      "source": [
        "El error producido por quitar las comillas da un error de NameError: el nombre no esta definido."
      ],
      "metadata": {
        "id": "hd3hNmTKHnP0"
      }
    },
    {
      "cell_type": "markdown",
      "source": [
        "El error producido por quitar los paréntesis es de Syntax."
      ],
      "metadata": {
        "id": "6efOaNy7Jb_8"
      }
    },
    {
      "cell_type": "code",
      "source": [
        "print(\"Este es un código de programacion\")\n",
        "print(\"Hecho en Python, de hecho esta es la verión 3\")\n",
        "print(\"Me gusta mucho esta versión\")"
      ],
      "metadata": {
        "colab": {
          "base_uri": "https://localhost:8080/"
        },
        "id": "e47xoh8JIUG9",
        "outputId": "6d3cf360-0124-471c-906d-d03fe12001be"
      },
      "execution_count": null,
      "outputs": [
        {
          "output_type": "stream",
          "name": "stdout",
          "text": [
            "Este es un código de programacion\n",
            "Hecho en Python, de hecho esta es la verión 3\n",
            "Me gusta mucho esta versión\n"
          ]
        }
      ]
    }
  ]
}